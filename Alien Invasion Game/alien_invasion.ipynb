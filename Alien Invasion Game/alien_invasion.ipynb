{
 "cells": [
  {
   "cell_type": "code",
   "execution_count": 2,
   "metadata": {},
   "outputs": [
    {
     "ename": "KeyboardInterrupt",
     "evalue": "",
     "output_type": "error",
     "traceback": [
      "\u001b[1;31m---------------------------------------------------------------------------\u001b[0m",
      "\u001b[1;31mKeyboardInterrupt\u001b[0m                         Traceback (most recent call last)",
      "\u001b[1;32m<ipython-input-2-89d35c34c8a9>\u001b[0m in \u001b[0;36m<module>\u001b[1;34m\u001b[0m\n\u001b[0;32m     43\u001b[0m         \u001b[0mgf\u001b[0m\u001b[1;33m.\u001b[0m\u001b[0mupdate_screen\u001b[0m\u001b[1;33m(\u001b[0m\u001b[0mai_settings\u001b[0m\u001b[1;33m,\u001b[0m \u001b[0mscreen\u001b[0m\u001b[1;33m,\u001b[0m \u001b[0mstats\u001b[0m\u001b[1;33m,\u001b[0m \u001b[0msb\u001b[0m\u001b[1;33m,\u001b[0m \u001b[0mship\u001b[0m\u001b[1;33m,\u001b[0m \u001b[0maliens\u001b[0m\u001b[1;33m,\u001b[0m \u001b[0mbullets\u001b[0m\u001b[1;33m,\u001b[0m \u001b[0mplay_button\u001b[0m\u001b[1;33m)\u001b[0m\u001b[1;33m\u001b[0m\u001b[1;33m\u001b[0m\u001b[0m\n\u001b[0;32m     44\u001b[0m \u001b[1;33m\u001b[0m\u001b[0m\n\u001b[1;32m---> 45\u001b[1;33m \u001b[0mrun_game\u001b[0m\u001b[1;33m(\u001b[0m\u001b[1;33m)\u001b[0m\u001b[1;33m\u001b[0m\u001b[1;33m\u001b[0m\u001b[0m\n\u001b[0m",
      "\u001b[1;32m<ipython-input-2-89d35c34c8a9>\u001b[0m in \u001b[0;36mrun_game\u001b[1;34m()\u001b[0m\n\u001b[0;32m     41\u001b[0m             \u001b[0mgf\u001b[0m\u001b[1;33m.\u001b[0m\u001b[0mupdate_bullets\u001b[0m\u001b[1;33m(\u001b[0m\u001b[0mai_settings\u001b[0m\u001b[1;33m,\u001b[0m \u001b[0mscreen\u001b[0m\u001b[1;33m,\u001b[0m \u001b[0mstats\u001b[0m\u001b[1;33m,\u001b[0m \u001b[0msb\u001b[0m\u001b[1;33m,\u001b[0m \u001b[0mship\u001b[0m\u001b[1;33m,\u001b[0m \u001b[0maliens\u001b[0m\u001b[1;33m,\u001b[0m \u001b[0mbullets\u001b[0m\u001b[1;33m)\u001b[0m\u001b[1;33m\u001b[0m\u001b[1;33m\u001b[0m\u001b[0m\n\u001b[0;32m     42\u001b[0m             \u001b[0mgf\u001b[0m\u001b[1;33m.\u001b[0m\u001b[0mupdate_aliens\u001b[0m\u001b[1;33m(\u001b[0m\u001b[0mai_settings\u001b[0m\u001b[1;33m,\u001b[0m \u001b[0mscreen\u001b[0m\u001b[1;33m,\u001b[0m \u001b[0mstats\u001b[0m\u001b[1;33m,\u001b[0m \u001b[0msb\u001b[0m\u001b[1;33m,\u001b[0m \u001b[0mship\u001b[0m\u001b[1;33m,\u001b[0m \u001b[0maliens\u001b[0m\u001b[1;33m,\u001b[0m \u001b[0mbullets\u001b[0m\u001b[1;33m)\u001b[0m\u001b[1;33m\u001b[0m\u001b[1;33m\u001b[0m\u001b[0m\n\u001b[1;32m---> 43\u001b[1;33m         \u001b[0mgf\u001b[0m\u001b[1;33m.\u001b[0m\u001b[0mupdate_screen\u001b[0m\u001b[1;33m(\u001b[0m\u001b[0mai_settings\u001b[0m\u001b[1;33m,\u001b[0m \u001b[0mscreen\u001b[0m\u001b[1;33m,\u001b[0m \u001b[0mstats\u001b[0m\u001b[1;33m,\u001b[0m \u001b[0msb\u001b[0m\u001b[1;33m,\u001b[0m \u001b[0mship\u001b[0m\u001b[1;33m,\u001b[0m \u001b[0maliens\u001b[0m\u001b[1;33m,\u001b[0m \u001b[0mbullets\u001b[0m\u001b[1;33m,\u001b[0m \u001b[0mplay_button\u001b[0m\u001b[1;33m)\u001b[0m\u001b[1;33m\u001b[0m\u001b[1;33m\u001b[0m\u001b[0m\n\u001b[0m\u001b[0;32m     44\u001b[0m \u001b[1;33m\u001b[0m\u001b[0m\n\u001b[0;32m     45\u001b[0m \u001b[0mrun_game\u001b[0m\u001b[1;33m(\u001b[0m\u001b[1;33m)\u001b[0m\u001b[1;33m\u001b[0m\u001b[1;33m\u001b[0m\u001b[0m\n",
      "\u001b[1;32m~\\Python Crash Course (Eric Matthes)\\Alien Invasion\\game_functions.py\u001b[0m in \u001b[0;36mupdate_screen\u001b[1;34m(ai_settings, screen, stats, sb, ship, aliens, bullets, play_button)\u001b[0m\n\u001b[0;32m    100\u001b[0m \u001b[1;33m\u001b[0m\u001b[0m\n\u001b[0;32m    101\u001b[0m     \u001b[1;31m# make the most recently drawn screen visible\u001b[0m\u001b[1;33m\u001b[0m\u001b[1;33m\u001b[0m\u001b[1;33m\u001b[0m\u001b[0m\n\u001b[1;32m--> 102\u001b[1;33m     \u001b[0mpygame\u001b[0m\u001b[1;33m.\u001b[0m\u001b[0mdisplay\u001b[0m\u001b[1;33m.\u001b[0m\u001b[0mflip\u001b[0m\u001b[1;33m(\u001b[0m\u001b[1;33m)\u001b[0m\u001b[1;33m\u001b[0m\u001b[1;33m\u001b[0m\u001b[0m\n\u001b[0m\u001b[0;32m    103\u001b[0m \u001b[1;33m\u001b[0m\u001b[0m\n\u001b[0;32m    104\u001b[0m \u001b[1;33m\u001b[0m\u001b[0m\n",
      "\u001b[1;31mKeyboardInterrupt\u001b[0m: "
     ]
    }
   ],
   "source": [
    "import pygame\n",
    "from pygame.sprite import Group\n",
    "from settings import Settings\n",
    "from game_stats import GameStats\n",
    "from scoreboard import Scoreboard\n",
    "from button import Button\n",
    "from ship import Ship\n",
    "from alien import Alien\n",
    "import game_functions as gf\n",
    "\n",
    "\n",
    "def run_game():\n",
    "    # Initialize pygame, settings, and screen object\n",
    "    pygame.init()\n",
    "    ai_settings = Settings()\n",
    "    screen = pygame.display.set_mode((ai_settings.screen_width, ai_settings.screen_height)) # surface:part of screen where game element displayed\n",
    "                                                  # and represents the game window \n",
    "    pygame.display.set_caption(\"Alien Invasion\") \n",
    "    \n",
    "    # make a play button\n",
    "    play_button = Button(ai_settings, screen, \"Play\")\n",
    "    \n",
    "    # Create an instance to store game stats and create a scoreboard\n",
    "    stats = GameStats(ai_settings)\n",
    "    sb = Scoreboard(ai_settings, screen, stats)\n",
    "    \n",
    "    # Make a ship, a group of bullets and a group of aliens\n",
    "    ship = Ship(ai_settings, screen) \n",
    "    bullets = Group()\n",
    "    aliens = Group()\n",
    "    \n",
    "    # create a fleet of aliens\n",
    "    gf.create_fleet(ai_settings, screen, ship, aliens)\n",
    "    \n",
    "    # Start the main loop for the game.\n",
    "    while True:\n",
    "        gf.check_events(ai_settings, screen, stats, sb, play_button, ship, aliens, bullets)\n",
    "        \n",
    "        if stats.game_active:\n",
    "            ship.update()\n",
    "            gf.update_bullets(ai_settings, screen, stats, sb, ship, aliens, bullets)\n",
    "            gf.update_aliens(ai_settings, screen, stats, sb, ship, aliens, bullets)\n",
    "        gf.update_screen(ai_settings, screen, stats, sb, ship, aliens, bullets, play_button)\n",
    "\n",
    "run_game()       "
   ]
  },
  {
   "cell_type": "code",
   "execution_count": null,
   "metadata": {},
   "outputs": [],
   "source": [
    "\n",
    "\n"
   ]
  },
  {
   "cell_type": "code",
   "execution_count": null,
   "metadata": {},
   "outputs": [],
   "source": []
  }
 ],
 "metadata": {
  "kernelspec": {
   "display_name": "prac",
   "language": "python",
   "name": "prac"
  },
  "language_info": {
   "codemirror_mode": {
    "name": "ipython",
    "version": 3
   },
   "file_extension": ".py",
   "mimetype": "text/x-python",
   "name": "python",
   "nbconvert_exporter": "python",
   "pygments_lexer": "ipython3",
   "version": "3.8.5"
  }
 },
 "nbformat": 4,
 "nbformat_minor": 4
}
