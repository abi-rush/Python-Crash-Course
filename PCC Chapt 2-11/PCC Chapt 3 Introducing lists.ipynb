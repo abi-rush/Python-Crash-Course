{
 "cells": [
  {
   "cell_type": "code",
   "execution_count": 4,
   "metadata": {},
   "outputs": [],
   "source": [
    "## LIST - a collection of items in a particular order\n",
    "## you can put anything you want into a list (digits, names of people, letters, etc)\n",
    "## items don't have to be related in any way\n",
    "## since lists usually contain more than one element, it's a good idea to amke the name of your list plural ie letters, digits\n",
    "## square brackets indicate a list [] \n",
    "## individual elements in a list are separated by commas"
   ]
  },
  {
   "cell_type": "code",
   "execution_count": 5,
   "metadata": {},
   "outputs": [
    {
     "name": "stdout",
     "output_type": "stream",
     "text": [
      "['trek', 'cannondale', 'redline', 'specialized']\n"
     ]
    }
   ],
   "source": [
    "bicycles = ['trek', 'cannondale', 'redline', 'specialized']\n",
    "print(bicycles)"
   ]
  },
  {
   "cell_type": "code",
   "execution_count": 6,
   "metadata": {},
   "outputs": [
    {
     "name": "stdout",
     "output_type": "stream",
     "text": [
      "trek\n"
     ]
    }
   ],
   "source": [
    "## acccessing elements in a list\n",
    "## lists are ordered collections, so you can access any element in a list by telling python the posision, or index, of item\n",
    "print(bicycles[0])"
   ]
  },
  {
   "cell_type": "code",
   "execution_count": 7,
   "metadata": {},
   "outputs": [
    {
     "name": "stdout",
     "output_type": "stream",
     "text": [
      "Trek\n"
     ]
    }
   ],
   "source": [
    "print(bicycles[0].title())"
   ]
  },
  {
   "cell_type": "code",
   "execution_count": 8,
   "metadata": {},
   "outputs": [
    {
     "name": "stdout",
     "output_type": "stream",
     "text": [
      "specialized\n"
     ]
    }
   ],
   "source": [
    "print(bicycles[-1])"
   ]
  },
  {
   "cell_type": "code",
   "execution_count": 9,
   "metadata": {},
   "outputs": [
    {
     "name": "stdout",
     "output_type": "stream",
     "text": [
      "my first bike was a trek\n"
     ]
    }
   ],
   "source": [
    "message = \"my first bike was a \" + bicycles[0]\n",
    "print(message)"
   ]
  },
  {
   "cell_type": "code",
   "execution_count": 10,
   "metadata": {},
   "outputs": [
    {
     "name": "stdout",
     "output_type": "stream",
     "text": [
      "hi rachel and also other rachel are you both ready for book club?\n",
      "I would love to own a jag but I could settle for a mustang\n",
      "right now I drive a truck\n"
     ]
    }
   ],
   "source": [
    "### try it yourself 3-1 though 3-3\n",
    "\n",
    "names = ['rachel', 'omari', 'other rachel', 'cheyenne', 'emma']\n",
    "print(\"hi \" + names[0] + \" and also \" + names[2] + \" are you both ready for book club?\")\n",
    "\n",
    "cars = ['jag', 'mustang', 'truck']\n",
    "print(\"I would love to own a \" + cars[0] + \" but I could settle for a \" + cars[1])\n",
    "print(\"right now I drive a \" +cars[2])"
   ]
  },
  {
   "cell_type": "code",
   "execution_count": 11,
   "metadata": {},
   "outputs": [
    {
     "name": "stdout",
     "output_type": "stream",
     "text": [
      "['honda', 'yamaha', 'suzuki']\n",
      "['ducati', 'yamaha', 'suzuki']\n"
     ]
    }
   ],
   "source": [
    "## changing adding and removing elements\n",
    "## change the first element\n",
    "motorcycles = ['honda', 'yamaha', 'suzuki']\n",
    "print(motorcycles)\n",
    "\n",
    "motorcycles[0] = 'ducati'\n",
    "print(motorcycles)"
   ]
  },
  {
   "cell_type": "code",
   "execution_count": 12,
   "metadata": {},
   "outputs": [
    {
     "name": "stdout",
     "output_type": "stream",
     "text": [
      "['honda', 'yamaha', 'suzuki']\n",
      "['honda', 'yamaha', 'suzuki', 'ducati']\n"
     ]
    }
   ],
   "source": [
    "## adding an element\n",
    "motorcycles = ['honda', 'yamaha', 'suzuki']\n",
    "print(motorcycles)\n",
    "\n",
    "motorcycles.append('ducati')\n",
    "print(motorcycles)"
   ]
  },
  {
   "cell_type": "code",
   "execution_count": 13,
   "metadata": {},
   "outputs": [
    {
     "name": "stdout",
     "output_type": "stream",
     "text": [
      "['honda', 'yamaha', 'suzuki']\n"
     ]
    }
   ],
   "source": [
    "motorcycles = []\n",
    "\n",
    "motorcycles.append('honda')\n",
    "motorcycles.append('yamaha')\n",
    "motorcycles.append('suzuki')\n",
    "\n",
    "print(motorcycles)"
   ]
  },
  {
   "cell_type": "code",
   "execution_count": 14,
   "metadata": {},
   "outputs": [
    {
     "data": {
      "text/plain": [
       "['ducati', 'honda', 'yamaha', 'suzuki']"
      ]
     },
     "execution_count": 14,
     "metadata": {},
     "output_type": "execute_result"
    }
   ],
   "source": [
    "## inserting elements into a list\n",
    "motorcycles = ['honda', 'yamaha', 'suzuki']\n",
    "\n",
    "motorcycles.insert(0, 'ducati')\n",
    "motorcycles"
   ]
  },
  {
   "cell_type": "code",
   "execution_count": 15,
   "metadata": {},
   "outputs": [
    {
     "name": "stdout",
     "output_type": "stream",
     "text": [
      "['yamaha', 'suzuki']\n"
     ]
    }
   ],
   "source": [
    "## removing elements from a list\n",
    "## use del if you know position\n",
    "motorcycles = ['honda', 'yamaha', 'suzuki']\n",
    "\n",
    "del motorcycles[0]\n",
    "print(motorcycles)"
   ]
  },
  {
   "cell_type": "code",
   "execution_count": 16,
   "metadata": {},
   "outputs": [
    {
     "name": "stdout",
     "output_type": "stream",
     "text": [
      "['honda', 'yamaha']\n",
      "suzuki\n"
     ]
    }
   ],
   "source": [
    "## removing an item using the pop() method\n",
    "## pop() removes the last item in a list, but lets you work with that item after removing it\n",
    "motorcycles = ['honda', 'yamaha', 'suzuki']\n",
    "\n",
    "popped_motorcycle = motorcycles.pop()\n",
    "print(motorcycles)\n",
    "print(popped_motorcycle)"
   ]
  },
  {
   "cell_type": "code",
   "execution_count": 21,
   "metadata": {},
   "outputs": [
    {
     "name": "stdout",
     "output_type": "stream",
     "text": [
      "the last motorcycle I owned was a Suzuki.\n"
     ]
    }
   ],
   "source": [
    "motorcycles = ['honda', 'yamaha', 'suzuki']\n",
    "\n",
    "last_owned = motorcycles.pop()\n",
    "print(\"the last motorcycle I owned was a \" + last_owned.title() + \".\")"
   ]
  },
  {
   "cell_type": "code",
   "execution_count": 22,
   "metadata": {},
   "outputs": [
    {
     "name": "stdout",
     "output_type": "stream",
     "text": [
      "The first motorcycle I owned was a Honda.\n",
      "['yamaha']\n"
     ]
    }
   ],
   "source": [
    "### Popping items from any position in a list\n",
    "first_owned = motorcycles.pop(0)\n",
    "print(\"The first motorcycle I owned was a \" + first_owned.title() + \".\")\n",
    "print(motorcycles) # when you pop something it removes it from the list"
   ]
  },
  {
   "cell_type": "code",
   "execution_count": 25,
   "metadata": {},
   "outputs": [
    {
     "name": "stdout",
     "output_type": "stream",
     "text": [
      "['ducati', 'honda', 'yamaha', 'suzuki', 'ducati', 'ducati']\n",
      "['honda', 'yamaha', 'suzuki', 'ducati', 'ducati']\n"
     ]
    }
   ],
   "source": [
    "### Removing an item  by value\n",
    "motorc = ['honda', 'yamaha', 'suzuki', 'ducati']\n",
    "print(motorc)\n",
    "\n",
    "motorc.remove('ducati')\n",
    "print(motorc)"
   ]
  },
  {
   "cell_type": "code",
   "execution_count": 27,
   "metadata": {},
   "outputs": [
    {
     "name": "stdout",
     "output_type": "stream",
     "text": [
      "this car is too expensive for me: \n",
      "Ducati\n"
     ]
    }
   ],
   "source": [
    "## we can also store it in a variable\n",
    "motorc = ['honda', 'yamaha', 'suzuki', 'ducati']\n",
    "\n",
    "too_expensive = 'ducati'\n",
    "\n",
    "print(\"this car is too expensive for me: \\n\" + too_expensive.title())"
   ]
  },
  {
   "cell_type": "code",
   "execution_count": 29,
   "metadata": {},
   "outputs": [],
   "source": [
    "## must use a loop to remove multiples of the same value\n"
   ]
  },
  {
   "cell_type": "code",
   "execution_count": 45,
   "metadata": {},
   "outputs": [
    {
     "name": "stdout",
     "output_type": "stream",
     "text": [
      "hi come to my party bob\n",
      "hi come to my party linda\n",
      "hi come to my party gabbi\n",
      "uh oh bob can no longer make it\n",
      "now the guests are jules, linda and gabbi\n",
      "we found a bigger table so we have more guests!!\n",
      "The following guests will be joining us ann, jules, nellie, linda, gabbi\n",
      "jk only two people now\n",
      "['ann', 'jules']\n",
      "[]\n"
     ]
    }
   ],
   "source": [
    "### TRY IT YOURSELF 3.4 - 3.7\n",
    "guests = ['bob', 'linda', 'gabbi']\n",
    "print(\"hi come to my party \" + guests[0])\n",
    "print(\"hi come to my party \" + guests[1])\n",
    "print(\"hi come to my party \" + guests[2])\n",
    "\n",
    "\n",
    "print(\"uh oh \" + guests[0] + \" can no longer make it\")\n",
    "guests.pop(0)\n",
    "guests.insert(0, 'jules')\n",
    "\n",
    "print(\"now the guests are \" + guests[0] + \", \" + guests[1] + \" and \" + guests[2])\n",
    "\n",
    "print(\"we found a bigger table so we have more guests!!\")\n",
    "\n",
    "guests.insert(0, 'ann')\n",
    "guests.insert(2, 'nellie')\n",
    "guests.append('harry')\n",
    "\n",
    "print(\"The following guests will be joining us \" + guests[0] + \", \" + guests[1] + \", \" + guests[2] + \", \" + guests[3] + \", \" + guests[4])\n",
    "print(\"jk only two people now\")\n",
    "\n",
    "guests.pop()\n",
    "guests.pop()\n",
    "guests.pop()\n",
    "guests.pop()\n",
    "print(guests)\n",
    "\n",
    "del guests[0]\n",
    "del guests[0]\n",
    "\n",
    "print(guests)"
   ]
  },
  {
   "cell_type": "code",
   "execution_count": 52,
   "metadata": {},
   "outputs": [
    {
     "name": "stdout",
     "output_type": "stream",
     "text": [
      "['audi', 'bmw', 'subaru', 'toyota']\n",
      "['toyota', 'subaru', 'bmw', 'audi']\n",
      "here is the original list:\n",
      "['bmw', 'audi', 'toyota', 'subaru']\n",
      "\n",
      "Here is the sorded list:\n",
      "['audi', 'bmw', 'subaru', 'toyota']\n",
      "\n",
      "Here is the original list again:\n",
      "['bmw', 'audi', 'toyota', 'subaru']\n"
     ]
    }
   ],
   "source": [
    "## Organizing a list\n",
    "## lists will often be generated in an unpredictable order\n",
    "## sort() method makes it easy to sort a list\n",
    "## alphabetical, permanent\n",
    "\n",
    "cars = ['bmw', 'audi', 'toyota', 'subaru']\n",
    "cars.sort()\n",
    "print(cars)\n",
    "\n",
    "# reverse alphabetical \n",
    "cars.sort(reverse = True)\n",
    "print(cars)\n",
    "\n",
    "### temporarity sort use the sorted() function\n",
    "cars = ['bmw', 'audi', 'toyota', 'subaru']\n",
    "\n",
    "print(\"here is the original list:\")\n",
    "print(cars)\n",
    "print(\"\\nHere is the sorded list:\")\n",
    "print(sorted(cars))\n",
    "print(\"\\nHere is the original list again:\")\n",
    "print(cars)"
   ]
  },
  {
   "cell_type": "code",
   "execution_count": 53,
   "metadata": {},
   "outputs": [],
   "source": [
    "### note it can be more difficult if the list isn't all in lowercase\n",
    "### note reverse reverses the order of the list ist isn't the reverse alphabetical order unless the list is alphabetical to begin with\n"
   ]
  },
  {
   "cell_type": "code",
   "execution_count": 55,
   "metadata": {},
   "outputs": [
    {
     "data": {
      "text/plain": [
       "4"
      ]
     },
     "execution_count": 55,
     "metadata": {},
     "output_type": "execute_result"
    }
   ],
   "source": [
    "### find the length of a list\n",
    "len(cars)"
   ]
  },
  {
   "cell_type": "code",
   "execution_count": 66,
   "metadata": {},
   "outputs": [
    {
     "name": "stdout",
     "output_type": "stream",
     "text": [
      "['madrid', 'alps', 'barcelona', 'cali', 'nyc']\n",
      "['alps', 'barcelona', 'cali', 'madrid', 'nyc']\n",
      "['nyc', 'madrid', 'cali', 'barcelona', 'alps']\n",
      "['madrid', 'alps', 'barcelona', 'cali', 'nyc']\n",
      "['nyc', 'cali', 'barcelona', 'alps', 'madrid']\n",
      "['madrid', 'alps', 'barcelona', 'cali', 'nyc']\n",
      "['alps', 'barcelona', 'cali', 'madrid', 'nyc']\n",
      "['nyc', 'madrid', 'cali', 'barcelona', 'alps']\n"
     ]
    }
   ],
   "source": [
    "# TRY IT YOURSELF 3.8 - 3.10\n",
    "locs = ['madrid', 'alps', 'barcelona', 'cali', 'nyc']\n",
    "print(locs)\n",
    "\n",
    "print(sorted(locs))\n",
    "print(sorted(locs, reverse = True))\n",
    "\n",
    "print(locs)\n",
    "\n",
    "locs.reverse()\n",
    "print(locs)\n",
    "\n",
    "\n",
    "locs.reverse()\n",
    "print(locs)\n",
    "\n",
    "locs.sort()\n",
    "print(locs)\n",
    "\n",
    "locs.sort(reverse = True)\n",
    "print(locs)"
   ]
  },
  {
   "cell_type": "code",
   "execution_count": 67,
   "metadata": {},
   "outputs": [
    {
     "data": {
      "text/plain": [
       "0"
      ]
     },
     "execution_count": 67,
     "metadata": {},
     "output_type": "execute_result"
    }
   ],
   "source": [
    " len(guests)"
   ]
  },
  {
   "cell_type": "code",
   "execution_count": 74,
   "metadata": {},
   "outputs": [
    {
     "name": "stdout",
     "output_type": "stream",
     "text": [
      "['lab', 'mutt', 'golden', 'poodle', 'boxer']\n",
      "5\n",
      "['lab', 'mutt', 'golden', 'poodle']\n",
      "4\n",
      "['hound', 'lab', 'mutt']\n",
      "\n",
      "I used to have a lab but now I have a hound\n"
     ]
    }
   ],
   "source": [
    "dogs = ['lab', 'mutt', 'golden', 'poodle', 'boxer']\n",
    "print(dogs)\n",
    "\n",
    "print(len(dogs))\n",
    "dogs.pop()\n",
    "\n",
    "print(dogs)\n",
    "\n",
    "print(len(dogs))\n",
    "\n",
    "dogs.remove('poodle')\n",
    "dogs.insert(0, 'hound')\n",
    "\n",
    "del dogs[-1]\n",
    "\n",
    "print(dogs)\n",
    "\n",
    "dogs.sort()\n",
    "dogs.sort(reverse = True)\n",
    "\n",
    "\n",
    "print(\"\\nI used to have a \" + dogs[1] + \" but now I have a \" + dogs[2])"
   ]
  },
  {
   "cell_type": "code",
   "execution_count": 76,
   "metadata": {},
   "outputs": [
    {
     "ename": "IndexError",
     "evalue": "list index out of range",
     "output_type": "error",
     "traceback": [
      "\u001b[1;31m---------------------------------------------------------------------------\u001b[0m",
      "\u001b[1;31mIndexError\u001b[0m                                Traceback (most recent call last)",
      "\u001b[1;32m<ipython-input-76-d4b10bb00189>\u001b[0m in \u001b[0;36m<module>\u001b[1;34m\u001b[0m\n\u001b[0;32m      2\u001b[0m \u001b[1;31m# Index error 3.11\u001b[0m\u001b[1;33m\u001b[0m\u001b[1;33m\u001b[0m\u001b[1;33m\u001b[0m\u001b[0m\n\u001b[0;32m      3\u001b[0m \u001b[1;33m\u001b[0m\u001b[0m\n\u001b[1;32m----> 4\u001b[1;33m \u001b[0mprint\u001b[0m\u001b[1;33m(\u001b[0m\u001b[0mdogs\u001b[0m\u001b[1;33m[\u001b[0m\u001b[1;36m3\u001b[0m\u001b[1;33m]\u001b[0m\u001b[1;33m)\u001b[0m\u001b[1;33m\u001b[0m\u001b[1;33m\u001b[0m\u001b[0m\n\u001b[0m",
      "\u001b[1;31mIndexError\u001b[0m: list index out of range"
     ]
    }
   ],
   "source": [
    "## TRY IT YOURSELF\n",
    "# Index error 3.11\n",
    "\n",
    "print(dogs[3])"
   ]
  },
  {
   "cell_type": "code",
   "execution_count": null,
   "metadata": {},
   "outputs": [],
   "source": []
  }
 ],
 "metadata": {
  "kernelspec": {
   "display_name": "prac",
   "language": "python",
   "name": "prac"
  },
  "language_info": {
   "codemirror_mode": {
    "name": "ipython",
    "version": 3
   },
   "file_extension": ".py",
   "mimetype": "text/x-python",
   "name": "python",
   "nbconvert_exporter": "python",
   "pygments_lexer": "ipython3",
   "version": "3.8.5"
  }
 },
 "nbformat": 4,
 "nbformat_minor": 4
}
