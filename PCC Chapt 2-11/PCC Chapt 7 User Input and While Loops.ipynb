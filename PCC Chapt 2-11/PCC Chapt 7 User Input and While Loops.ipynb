{
 "cells": [
  {
   "cell_type": "code",
   "execution_count": 1,
   "metadata": {},
   "outputs": [
    {
     "name": "stdout",
     "output_type": "stream",
     "text": [
      "Tell me something, and I will repeat it back to you: \n",
      "\n"
     ]
    }
   ],
   "source": [
    "## use the input() function to get user input\n",
    "## use while loop to keep orgrams runnign as long as certain conditions\n",
    "## remain true \n",
    "\n",
    "## THe input() function pauses your program and waits for the user\n",
    "# to enter some text. Once python recieves the user's input, it stores\n",
    "# it in a variable to make it convenient for you to work with \n",
    "\n",
    "message = input(\"Tell me something, and I will repeat it back to you: \")\n",
    "print(message)"
   ]
  },
  {
   "cell_type": "code",
   "execution_count": 2,
   "metadata": {},
   "outputs": [
    {
     "name": "stdout",
     "output_type": "stream",
     "text": [
      "Please enter your name: Abigail\n",
      "Hello Abigail!\n"
     ]
    }
   ],
   "source": [
    "## Writing Clear Prompts\n",
    "\n",
    "name = input(\"Please enter your name: \")\n",
    "print(\"Hello \" + name + \"!\")"
   ]
  },
  {
   "cell_type": "code",
   "execution_count": 2,
   "metadata": {},
   "outputs": [
    {
     "name": "stdout",
     "output_type": "stream",
     "text": [
      "If you tell us who you are, we can personalize the messages you see.\n",
      "What is your first name? klj\n",
      "\n",
      "Hello, klj!\n"
     ]
    }
   ],
   "source": [
    "## you can store your prompt in a var and pass that var\n",
    "# to the input() function, to build prompt over multiple lines\n",
    "\n",
    "prompt = \"If you tell us who you are, we can personalize the messages you see.\"\n",
    "prompt += \"\\nWhat is your first name? \"\n",
    "\n",
    "name = input(prompt)\n",
    "print(\"\\nHello, \" + name + \"!\")\n"
   ]
  },
  {
   "cell_type": "code",
   "execution_count": 3,
   "metadata": {},
   "outputs": [
    {
     "name": "stdout",
     "output_type": "stream",
     "text": [
      "How old are you? 9\n",
      "9\n"
     ]
    },
    {
     "ename": "TypeError",
     "evalue": "'>' not supported between instances of 'str' and 'int'",
     "output_type": "error",
     "traceback": [
      "\u001b[1;31m---------------------------------------------------------------------------\u001b[0m",
      "\u001b[1;31mTypeError\u001b[0m                                 Traceback (most recent call last)",
      "\u001b[1;32m<ipython-input-3-a41fd86c265a>\u001b[0m in \u001b[0;36m<module>\u001b[1;34m\u001b[0m\n\u001b[0;32m      7\u001b[0m \u001b[0mprint\u001b[0m\u001b[1;33m(\u001b[0m\u001b[0mage\u001b[0m\u001b[1;33m)\u001b[0m\u001b[1;33m\u001b[0m\u001b[1;33m\u001b[0m\u001b[0m\n\u001b[0;32m      8\u001b[0m \u001b[1;33m\u001b[0m\u001b[0m\n\u001b[1;32m----> 9\u001b[1;33m \u001b[0mprint\u001b[0m\u001b[1;33m(\u001b[0m\u001b[0mage\u001b[0m \u001b[1;33m>\u001b[0m \u001b[1;36m18\u001b[0m\u001b[1;33m)\u001b[0m\u001b[1;31m## gives an error\u001b[0m\u001b[1;33m\u001b[0m\u001b[1;33m\u001b[0m\u001b[0m\n\u001b[0m",
      "\u001b[1;31mTypeError\u001b[0m: '>' not supported between instances of 'str' and 'int'"
     ]
    }
   ],
   "source": [
    "# Using int() to Accept Numerical Input\n",
    "## when you use input() python inteprets everything the user enters\n",
    "## as a string see below\n",
    "\n",
    "age = input(\"How old are you? \")\n",
    "\n",
    "print(age)\n",
    "\n",
    "print(age > 18)## gives an error"
   ]
  },
  {
   "cell_type": "code",
   "execution_count": 4,
   "metadata": {},
   "outputs": [
    {
     "name": "stdout",
     "output_type": "stream",
     "text": [
      "How old are you? 9\n",
      "False\n"
     ]
    }
   ],
   "source": [
    "age = input(\"How old are you? \")\n",
    "age = int(age)\n",
    "print(age > 18)"
   ]
  },
  {
   "cell_type": "code",
   "execution_count": 5,
   "metadata": {},
   "outputs": [
    {
     "name": "stdout",
     "output_type": "stream",
     "text": [
      "how tall are you in inches? 8\n",
      "sorry maybe next year, not tall enough\n"
     ]
    }
   ],
   "source": [
    "height = input(\"how tall are you in inches? \")\n",
    "height = int(height)\n",
    "\n",
    "if height >= 36:\n",
    "    print(\"congrats youre tall enough to ride\")\n",
    "else:\n",
    "    print(\"sorry maybe next year, not tall enough\")"
   ]
  },
  {
   "cell_type": "code",
   "execution_count": 6,
   "metadata": {},
   "outputs": [
    {
     "name": "stdout",
     "output_type": "stream",
     "text": [
      "1\n",
      "2\n",
      "0\n",
      "1\n"
     ]
    }
   ],
   "source": [
    "## The Modulo Operator\n",
    "# returns the remainder\n",
    "\n",
    "print(4 % 3)\n",
    "print(5 % 3)\n",
    "print(6 % 3)\n",
    "print(7 % 3)\n"
   ]
  },
  {
   "cell_type": "code",
   "execution_count": 7,
   "metadata": {},
   "outputs": [
    {
     "name": "stdout",
     "output_type": "stream",
     "text": [
      "Enter a number and i'll tell you if its even or odd: 8\n",
      "The number: 8 is even\n"
     ]
    }
   ],
   "source": [
    "number = input(\"Enter a number and i'll tell you if its even or odd: \")\n",
    "number = int(number)\n",
    "\n",
    "if number % 2 == 0:\n",
    "    print(\"The number: \" + str(number) + \" is even\")\n",
    "else:\n",
    "    print(\"The number: \" + str(number) + \" is odd\")\n",
    "    "
   ]
  },
  {
   "cell_type": "code",
   "execution_count": 8,
   "metadata": {},
   "outputs": [],
   "source": [
    "## if on python 2.7 use raw_input() instead of input()\n"
   ]
  },
  {
   "cell_type": "code",
   "execution_count": 9,
   "metadata": {},
   "outputs": [
    {
     "name": "stdout",
     "output_type": "stream",
     "text": [
      "What kind of car do you want? sube\n",
      "Let me see if I can find you a sube\n",
      "\n",
      "\n",
      "how many people are in your dinner group? 8\n",
      "your table is ready\n",
      "\n",
      "\n",
      "give me anumber and i'll let you know if it is a multiple of ten9\n",
      "Nope not a multiple of ten\n"
     ]
    }
   ],
   "source": [
    "## TRY IT YOURSELF 7.1 - 7.3\n",
    "\n",
    "car = input(\"What kind of car do you want? \")\n",
    "print(\"Let me see if I can find you a \" + car)\n",
    "\n",
    "print(\"\\n\")\n",
    "\n",
    "seats = input(\"how many people are in your dinner group? \")\n",
    "seats = int(seats)\n",
    "\n",
    "if seats > 8:\n",
    "    print(\"you'll have to wait for a table.\")\n",
    "else:\n",
    "    print(\"your table is ready\")\n",
    "\n",
    "    \n",
    "    \n",
    "print(\"\\n\")\n",
    "\n",
    "tens = input(\"give me anumber and i'll let you know if it is a multiple of ten\")\n",
    "tens = int(tens)\n",
    "\n",
    "if tens % 10 == 0:\n",
    "    print(\"Yup a multiple of ten\")\n",
    "else:\n",
    "    print(\"Nope not a multiple of ten\")"
   ]
  },
  {
   "cell_type": "code",
   "execution_count": 10,
   "metadata": {},
   "outputs": [
    {
     "name": "stdout",
     "output_type": "stream",
     "text": [
      "1\n",
      "2\n",
      "3\n",
      "4\n"
     ]
    }
   ],
   "source": [
    "## Introducing the While Loop\n",
    "## runs while a condition is true\n",
    "\n",
    "current_num = 1\n",
    "\n",
    "while current_num < 5:\n",
    "    print(current_num)\n",
    "    current_num += 1\n",
    "    \n",
    "## += is short hand for current_num = current_num + 1"
   ]
  },
  {
   "cell_type": "code",
   "execution_count": 11,
   "metadata": {},
   "outputs": [
    {
     "name": "stdout",
     "output_type": "stream",
     "text": [
      "\n",
      "Tell me something, and I will repeat it back to you: \n",
      "Enter 'quit' to end the program.quit\n",
      "quit\n"
     ]
    }
   ],
   "source": [
    "## Letting teh User Choose When to Quit\n",
    "\n",
    "prompt = \"\\nTell me something, and I will repeat it back to you: \"\n",
    "prompt += \"\\nEnter 'quit' to end the program.\"\n",
    "\n",
    "message = \"\"\n",
    "\n",
    "while message != 'quit':\n",
    "    message = input(prompt)\n",
    "    print(message)"
   ]
  },
  {
   "cell_type": "code",
   "execution_count": 12,
   "metadata": {},
   "outputs": [
    {
     "name": "stdout",
     "output_type": "stream",
     "text": [
      "\n",
      "Tell me something, and I will repeat it back to you: \n",
      "Enter 'quit' to end the program.quit\n"
     ]
    }
   ],
   "source": [
    "### if you don't want it to print quit at the end\n",
    "\n",
    "message = \"\"\n",
    "while message != 'quit':\n",
    "    message = input(prompt)\n",
    "    \n",
    "    if message != 'quit':\n",
    "        print(message)"
   ]
  },
  {
   "cell_type": "code",
   "execution_count": 13,
   "metadata": {},
   "outputs": [
    {
     "name": "stdout",
     "output_type": "stream",
     "text": [
      "Tell me something, I'll repeat it\\nEnter 'quit' to end programquit\n"
     ]
    }
   ],
   "source": [
    "## Creating a flag (active)\n",
    "## this determines whether an entire program is active when the program shoudl run\n",
    "## as long as many conditions are true\n",
    "\n",
    "prompt = \"Tell me something, I'll repeat it\"\n",
    "prompt += \"\\\\nEnter 'quit' to end program\"\n",
    "\n",
    "active = True\n",
    "while active:\n",
    "    message = input(prompt)\n",
    "    \n",
    "    if message == 'quit':\n",
    "        active = False\n",
    "    else:\n",
    "        print(message)\n",
    "        \n",
    "        \n",
    "# set active to true so program starts in an active state\n",
    "# program will run for as long as it remains true\n",
    "# here the message being quit changes active to false and ends \n",
    "# the program\n",
    "\n",
    "## can use thie with elif statements as well for more complicated\n",
    "# programs "
   ]
  },
  {
   "cell_type": "code",
   "execution_count": 14,
   "metadata": {},
   "outputs": [
    {
     "name": "stdout",
     "output_type": "stream",
     "text": [
      "\n",
      "Please enter the name of a city you have visited\n",
      "(Enter 'quit' when you are finished.) nyc\n",
      "I'd love to go to Nyc!\n",
      "\n",
      "Please enter the name of a city you have visited\n",
      "(Enter 'quit' when you are finished.) quit\n"
     ]
    }
   ],
   "source": [
    "### Using Break to Exit a Loop\n",
    "\n",
    "prompt = \"\\nPlease enter the name of a city you have visited\"\n",
    "prompt += \"\\n(Enter 'quit' when you are finished.) \"\n",
    "\n",
    "while True:\n",
    "    city = input(prompt)\n",
    "    \n",
    "    if city == 'quit':\n",
    "        break\n",
    "        \n",
    "    else: \n",
    "        print(\"I'd love to go to \" + city.title() + \"!\")\n",
    "        "
   ]
  },
  {
   "cell_type": "code",
   "execution_count": 15,
   "metadata": {},
   "outputs": [
    {
     "name": "stdout",
     "output_type": "stream",
     "text": [
      "1\n",
      "3\n",
      "5\n",
      "7\n",
      "9\n"
     ]
    }
   ],
   "source": [
    "### Using Continue in a Loop\n",
    "# instead of breaking out of a loop entirely wihtout \n",
    "# executing the rest of its code, youcan use the continue \n",
    "# statement to return to the beginning of the loop \n",
    "# based on teh result of a conditional test\n",
    "\n",
    "current_number = 0\n",
    "while current_number < 10:\n",
    "    current_number += 1\n",
    "    if current_number % 2 == 0:\n",
    "        continue\n",
    "        \n",
    "    print(current_number)\n",
    "    \n",
    "    \n",
    "    \n",
    "# First we set current_number to 0\n",
    "# once inside loop we increment the count by 1\n",
    "# the if statement then checks the module\n",
    "# if divisible by 2 the continue statement tells Python\n",
    "# to ignore the rest of the loop and return to the beginning"
   ]
  },
  {
   "cell_type": "code",
   "execution_count": 16,
   "metadata": {},
   "outputs": [
    {
     "name": "stdout",
     "output_type": "stream",
     "text": [
      "1\n",
      "2\n",
      "3\n",
      "4\n",
      "5\n"
     ]
    }
   ],
   "source": [
    "## Avoiding Infinite Loops\n",
    "\n",
    "x = 1\n",
    "\n",
    "while x <= 5:\n",
    "    print(x)\n",
    "    x += 1\n",
    "    \n",
    "    \n",
    "# if you omit x += 1 this will run forever\n",
    "# If you get stuck in a ninfinite loop, \n",
    "# press CTRL-C or close the terminal window displaying \n",
    "# your program's output"
   ]
  },
  {
   "cell_type": "code",
   "execution_count": 17,
   "metadata": {},
   "outputs": [
    {
     "name": "stdout",
     "output_type": "stream",
     "text": [
      "\n",
      "Enter what toppings you want on your pizza\n",
      "When done, say done: cheese\n",
      "\n",
      "I'd love to add cheese to your pizza\n",
      "\n",
      "Enter what toppings you want on your pizza\n",
      "When done, say done: quit\n",
      "\n",
      "I'd love to add quit to your pizza\n",
      "\n",
      "Enter what toppings you want on your pizza\n",
      "When done, say done: \n",
      "\n",
      "I'd love to add  to your pizza\n",
      "\n",
      "Enter what toppings you want on your pizza\n",
      "When done, say done: done\n"
     ]
    }
   ],
   "source": [
    "## TRY IT YOURSELF 7.4 - 7.7 (split up for ease)\n",
    "prompt = \"\\nEnter what toppings you want on your pizza\"\n",
    "prompt += \"\\nWhen done, say done: \"\n",
    "\n",
    "\n",
    "while True:\n",
    "    topping = input(prompt)\n",
    "    \n",
    "    if topping == 'done':\n",
    "        break\n",
    "        \n",
    "    else:\n",
    "        print(\"\\nI'd love to add \" + topping + \" to your pizza\")\n",
    "\n",
    "\n",
    "        \n",
    "        \n",
    " \n",
    "   "
   ]
  },
  {
   "cell_type": "code",
   "execution_count": 22,
   "metadata": {},
   "outputs": [
    {
     "name": "stdout",
     "output_type": "stream",
     "text": [
      "\n",
      "What is your age?\n",
      "If you don't have anymore people say done: 80\n",
      "Your ticket is $15\n",
      "\n",
      "What is your age?\n",
      "If you don't have anymore people say done: 10\n",
      "Your ticket is $10\n",
      "\n",
      "What is your age?\n",
      "If you don't have anymore people say done: 11\n",
      "Your ticket is $10\n",
      "\n",
      "What is your age?\n",
      "If you don't have anymore people say done: 8\n",
      "Your ticket is $10\n",
      "\n",
      "What is your age?\n",
      "If you don't have anymore people say done: 3\n",
      "Your ticket is $10\n",
      "\n",
      "What is your age?\n",
      "If you don't have anymore people say done: done\n"
     ]
    }
   ],
   "source": [
    "       \n",
    "        \n",
    "        \n",
    "        \n",
    "prompt = \"\\nWhat is your age?\"\n",
    "prompt += \"\\nIf you don't have anymore people say done: \"\n",
    "\n",
    "while True:\n",
    "    age = input(prompt)\n",
    "    \n",
    "    if age == 'done':\n",
    "        break\n",
    "    \n",
    "    elif int(age) < 3:\n",
    "        print(\"Your ticket is free \")\n",
    "        \n",
    "    elif int(age) >= 3 and int(age) < 12:\n",
    "        print(\"Your ticket is $10\")\n",
    "        \n",
    "    elif int(age) > 12:\n",
    "        print(\"Your ticket is $15\")\n",
    "        \n",
    "   \n",
    "        "
   ]
  },
  {
   "cell_type": "code",
   "execution_count": 25,
   "metadata": {},
   "outputs": [
    {
     "ename": "SyntaxError",
     "evalue": "invalid syntax (<ipython-input-25-ad6cea0afc30>, line 11)",
     "output_type": "error",
     "traceback": [
      "\u001b[1;36m  File \u001b[1;32m\"<ipython-input-25-ad6cea0afc30>\"\u001b[1;36m, line \u001b[1;32m11\u001b[0m\n\u001b[1;33m    while active = True:\u001b[0m\n\u001b[1;37m                 ^\u001b[0m\n\u001b[1;31mSyntaxError\u001b[0m\u001b[1;31m:\u001b[0m invalid syntax\n"
     ]
    }
   ],
   "source": [
    "topping = \"\"\n",
    "\n",
    "while topping != 'quit':\n",
    "    topping = input(prompt)\n",
    "    print(\"\\nI'd love to add \" + topping + \" to your pizza\")\n",
    "\n",
    "\n",
    "  "
   ]
  },
  {
   "cell_type": "code",
   "execution_count": 32,
   "metadata": {},
   "outputs": [
    {
     "name": "stdout",
     "output_type": "stream",
     "text": [
      "\n",
      "Enter what you want chhheeezz\n",
      "yumm chhheeezz\n",
      "\n",
      "Enter what you want quit\n"
     ]
    }
   ],
   "source": [
    "prompt = \"\\npizza topping\"\n",
    "prompt = \"\\nEnter what you want \"\n",
    "\n",
    "active = True\n",
    "\n",
    "while active:\n",
    "    topping = input(prompt)\n",
    "    \n",
    "    if topping == 'quit':\n",
    "        active = False\n",
    "    \n",
    "    else:\n",
    "        print(\"yumm \" + topping)\n",
    "        "
   ]
  },
  {
   "cell_type": "code",
   "execution_count": 33,
   "metadata": {},
   "outputs": [],
   "source": [
    "### accidentally already did 7.7 not doign that again lol"
   ]
  },
  {
   "cell_type": "code",
   "execution_count": 35,
   "metadata": {},
   "outputs": [
    {
     "name": "stdout",
     "output_type": "stream",
     "text": [
      "Verifying user: Candace\n",
      "Verifying user: Brian\n",
      "Verifying user: Alice\n",
      "\n",
      "The following users have been cinfirmed: \n",
      "Candace\n",
      "Brian\n",
      "Alice\n"
     ]
    }
   ],
   "source": [
    "## Using a While Loop wiht Lists and Dictionaries\n",
    "# You shouldn't use a for loop to modify lists and dictionaries\n",
    "# this will confuse python instead you should use a while loop\n",
    "\n",
    "\n",
    "# use a while loop to move unverified users to a verified list\n",
    "\n",
    "# start with users that need to be verified\n",
    "# and an empty list to hold confirmed users\n",
    "\n",
    "unconfirmed_users = ['alice', 'brian', 'candace']\n",
    "confirmed_users = []\n",
    "\n",
    "# verify each user until there are no more unconfirmed users\n",
    "# move each verified user into the list of confirmed users\n",
    "\n",
    "while unconfirmed_users: ## runs as long as this list is not empty\n",
    "    current_user = unconfirmed_users.pop()\n",
    "    \n",
    "    print(\"Verifying user: \" + current_user.title())\n",
    "    confirmed_users.append(current_user)\n",
    "    \n",
    "    \n",
    "# display all confirmed users\n",
    "print(\"\\nThe following users have been cinfirmed: \")\n",
    "for confirmed_user in confirmed_users:\n",
    "    print(confirmed_user.title())"
   ]
  },
  {
   "cell_type": "code",
   "execution_count": 36,
   "metadata": {},
   "outputs": [
    {
     "name": "stdout",
     "output_type": "stream",
     "text": [
      "['dog', 'cat', 'dog', 'goldfish', 'cat', 'rabbit', 'cat']\n",
      "['dog', 'dog', 'goldfish', 'rabbit']\n"
     ]
    }
   ],
   "source": [
    "## Removing All Instances of Specific Values from a List\n",
    "\n",
    "# we previously have used remove() but this only works if there is one \n",
    "# instance of what you are looking to remove\n",
    "\n",
    "# you can run a while loop until no more instances are present\n",
    "\n",
    "pets = ['dog', 'cat', 'dog', 'goldfish', 'cat', 'rabbit', 'cat']\n",
    "print(pets)\n",
    "\n",
    "while 'cat' in pets:\n",
    "    pets.remove('cat') # iterates starting with the first instance\n",
    "    \n",
    "    \n",
    "print(pets)"
   ]
  },
  {
   "cell_type": "code",
   "execution_count": 39,
   "metadata": {},
   "outputs": [
    {
     "name": "stdout",
     "output_type": "stream",
     "text": [
      "\n",
      "What is your name? abi\n",
      "Which mountain would you like to climb someday? idk\n",
      "Would you like to let another person respone (yes / no)yes\n",
      "\n",
      "What is your name? joe\n",
      "Which mountain would you like to climb someday? a big one\n",
      "Would you like to let another person respone (yes / no)no\n",
      "\n",
      "--- Poll Results ---\n",
      "abi would like to climb idk.\n",
      "joe would like to climb a big one.\n"
     ]
    }
   ],
   "source": [
    "## Filling a Dictionary with User Input\n",
    "\n",
    "responses = {}\n",
    "\n",
    "# set a flag to indicate that polling is active\n",
    "\n",
    "polling_active = True\n",
    "\n",
    "while polling_active:\n",
    "    # prompt for the person's name adn response\n",
    "    name = input(\"\\nWhat is your name? \")\n",
    "    response = input(\"Which mountain would you like to climb someday? \")\n",
    "    \n",
    "    # Store the response in the dictionary:\n",
    "    responses[name] = response\n",
    "    \n",
    "    # Find out if anyone else is going to take the poll\n",
    "    repeat = input(\"Would you like to let another person respone (yes / no)\")\n",
    "    if repeat == 'no':\n",
    "        polling_active = False\n",
    "        \n",
    "# Polling is complete. Show the results.\n",
    "print(\"\\n--- Poll Results ---\")\n",
    "for name, response in responses.items():\n",
    "    print(name + \" would like to climb \" + response + \".\")\n",
    "    \n",
    "    \n",
    "    \n",
    "    "
   ]
  },
  {
   "cell_type": "code",
   "execution_count": 74,
   "metadata": {},
   "outputs": [
    {
     "name": "stdout",
     "output_type": "stream",
     "text": [
      "I'm working on your veggie sandwich.\n",
      "I'm working on your italian sandwich.\n",
      "I'm working on your meatball sandwich.\n",
      "\n",
      "\n",
      "I made a veggie sandwich\n",
      "I made a italian sandwich\n",
      "I made a meatball sandwich\n",
      "\n",
      "\n",
      "['meatball', 'italian', 'veggie']\n",
      "name: abi\n",
      "Where to go? jk\n",
      "Give someone else a go? (yes/ no)no\n",
      "abi wants to go to jk\n"
     ]
    }
   ],
   "source": [
    "## TRY IT YOURSELF 7.8 - 7.10\n",
    "\n",
    "## Had to look up solution to this one\n",
    "sand_orders = ['meatball', 'italian', 'veggie']\n",
    "finished_sands = []\n",
    "\n",
    "\n",
    "\n",
    "while sand_orders:\n",
    "    current_sand = sand_orders.pop()\n",
    "    print(\"I'm working on your \" + current_sand + \" sandwich.\")\n",
    "    finished_sands.append(current_sand)\n",
    "    \n",
    "    \n",
    "print(\"\\n\")\n",
    "for sandwich in finished_sands:\n",
    "    print(\"I made a \" + sandwich + \" sandwich\")\n",
    "    \n",
    "   \n",
    "    \n",
    "sand_orders = ['pastrami', 'meatball', 'pastrami', 'italian', 'veggie', 'pastrami']\n",
    "\n",
    "while 'pastrami' in sand_orders:\n",
    "    sand_orders.remove('pastrami')\n",
    "    \n",
    "print(\"\\n\")\n",
    "print(sand_orders)\n",
    "\n"
   ]
  },
  {
   "cell_type": "code",
   "execution_count": 77,
   "metadata": {},
   "outputs": [
    {
     "name": "stdout",
     "output_type": "stream",
     "text": [
      "name: abi\n",
      "Where to go? nyc\n",
      "Give someone else a go? (yes/ no)yes\n",
      "name: chy\n",
      "Where to go? az\n",
      "Give someone else a go? (yes/ no)no\n",
      "--- Poll Responses ---\n",
      "abi wants to go to az\n",
      "chy wants to go to az\n"
     ]
    }
   ],
   "source": [
    "\n",
    "\n",
    "locs_responses = {}\n",
    "\n",
    "polling_active = True\n",
    "\n",
    "while polling_active == True:\n",
    "    name = input(\"name: \")\n",
    "    response = input(\"Where to go? \")\n",
    "    \n",
    "    locs_responses[name] = response\n",
    "    \n",
    "    repeat = input(\"Give someone else a go? (yes/ no)\")\n",
    "    if repeat == 'no':\n",
    "        polling_active = False\n",
    "\n",
    "        \n",
    "print(\"--- Poll Responses ---\")        \n",
    "for name, loc in locs_responses.items():\n",
    "    print(name + \" wants to go to \" + response)\n",
    "    "
   ]
  },
  {
   "cell_type": "code",
   "execution_count": null,
   "metadata": {},
   "outputs": [],
   "source": []
  }
 ],
 "metadata": {
  "kernelspec": {
   "display_name": "prac",
   "language": "python",
   "name": "prac"
  },
  "language_info": {
   "codemirror_mode": {
    "name": "ipython",
    "version": 3
   },
   "file_extension": ".py",
   "mimetype": "text/x-python",
   "name": "python",
   "nbconvert_exporter": "python",
   "pygments_lexer": "ipython3",
   "version": "3.8.5"
  }
 },
 "nbformat": 4,
 "nbformat_minor": 4
}
