{
 "cells": [
  {
   "cell_type": "code",
   "execution_count": 10,
   "metadata": {},
   "outputs": [
    {
     "name": "stdout",
     "output_type": "stream",
     "text": [
      "\n",
      "Rach Wag\n",
      "  Username: rwag\n",
      "  Email: rwag@mail.com\n",
      "  Location: Chas\n",
      "\n",
      "\n",
      "rachel has these privileges(rwag):\n",
      "- user can add users\n",
      "- user can delete accounts\n",
      "\n",
      "\n",
      "\n",
      "Welcome back, rwag!\n"
     ]
    }
   ],
   "source": [
    "from large_user import Admin\n",
    "\n",
    "rwag = Admin('rach', 'wag', 'rwag', 'rwag@mail.com', 'chas')\n",
    "rwag.describe_user()\n",
    "\n",
    "print(\"\\n\")\n",
    "\n",
    "rwag_privileges = ['user can add users', \n",
    "                    'user can delete accounts']\n",
    "\n",
    "rwag.privileges.privileges = rwag_privileges\n",
    "\n",
    "print(\"rachel has these privileges(\" + rwag.username + \"):\")\n",
    "rwag.privileges.show_privileges()\n",
    "\n",
    "print(\"\\n\")\n",
    "\n",
    "rwag.greet_user()"
   ]
  },
  {
   "cell_type": "code",
   "execution_count": null,
   "metadata": {},
   "outputs": [],
   "source": []
  }
 ],
 "metadata": {
  "kernelspec": {
   "display_name": "prac",
   "language": "python",
   "name": "prac"
  },
  "language_info": {
   "codemirror_mode": {
    "name": "ipython",
    "version": 3
   },
   "file_extension": ".py",
   "mimetype": "text/x-python",
   "name": "python",
   "nbconvert_exporter": "python",
   "pygments_lexer": "ipython3",
   "version": "3.8.5"
  }
 },
 "nbformat": 4,
 "nbformat_minor": 4
}
