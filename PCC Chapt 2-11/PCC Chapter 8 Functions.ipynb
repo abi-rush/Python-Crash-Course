{
 "cells": [
  {
   "cell_type": "code",
   "execution_count": 1,
   "metadata": {},
   "outputs": [],
   "source": [
    "# Functions are named blocks of code that are designed to do one\n",
    "# specific job\n",
    "# use when you need to perform a task multiple times throughout \n",
    "# your program"
   ]
  },
  {
   "cell_type": "code",
   "execution_count": 2,
   "metadata": {},
   "outputs": [
    {
     "name": "stdout",
     "output_type": "stream",
     "text": [
      "Hello!\n"
     ]
    }
   ],
   "source": [
    "## DEFINING A FUNCTION\n",
    "\n",
    "def greet_user():\n",
    "    \"\"\"Display a simple greeting.\"\"\" ## This is a docstring and describes what\n",
    "    print(\"Hello!\")                  ## the function does and are enclosed in tripple quotes\n",
    "                                     ## Python looks for this when generating documentation for \n",
    "                                     ## functions in your programs\n",
    "greet_user()"
   ]
  },
  {
   "cell_type": "code",
   "execution_count": 3,
   "metadata": {},
   "outputs": [
    {
     "name": "stdout",
     "output_type": "stream",
     "text": [
      "Hello  Jesse!\n"
     ]
    }
   ],
   "source": [
    "## PASSING INFORMATION TO A USER\n",
    "\n",
    "# modify function to greet by name. enter username in the parenthasis\n",
    "# by adding username you allow the function to accept any value of username\n",
    "# the function now expects you to provide a value for username each time you call it\n",
    "\n",
    "\n",
    "def greet_user(username):\n",
    "    \"\"\"Display a simple greeting\"\"\"\n",
    "    print(\"Hello \", username.title() + \"!\")\n",
    "    \n",
    "greet_user('jesse')"
   ]
  },
  {
   "cell_type": "code",
   "execution_count": 4,
   "metadata": {},
   "outputs": [],
   "source": [
    "## ARGUMENTS AND PARAMETERS\n",
    "\n",
    "# the variable username in the previous example is an example of a variable\n",
    "# the value 'jesse' is an example of an argument\n",
    "# an argument is passed through the function\n",
    "# the argument 'jessee' was passed to the function greet_user(), and the value was\n",
    "# stored in the parameter username\n"
   ]
  },
  {
   "cell_type": "code",
   "execution_count": 6,
   "metadata": {},
   "outputs": [
    {
     "name": "stdout",
     "output_type": "stream",
     "text": [
      "I am learning about functions\n",
      "One of my fav books is: gone girl\n"
     ]
    }
   ],
   "source": [
    "## TRY IT YOURSELF 8.1 - 8.2\n",
    "\n",
    "def display_message():\n",
    "    \"\"\"display what learning chapt\"\"\"\n",
    "    print(\"I am learning about functions\")\n",
    "    \n",
    "display_message()\n",
    "\n",
    "\n",
    "def fav_book(book):\n",
    "    \"\"\"display fave books\"\"\"\n",
    "    print(\"One of my fav books is: \" + book)\n",
    "    \n",
    "fav_book('gone girl')"
   ]
  },
  {
   "cell_type": "code",
   "execution_count": 7,
   "metadata": {},
   "outputs": [],
   "source": [
    "## PASSING ARGUMENTS\n",
    "\n",
    "# may be more than one parameter, you can use positional arugments which need to be in the same order\n",
    "# the parameters are wrtitten; keword arguments, where each argument consists of variable name\n",
    "# and a value; and lsits and dictionaries of values"
   ]
  },
  {
   "cell_type": "code",
   "execution_count": 13,
   "metadata": {},
   "outputs": [
    {
     "name": "stdout",
     "output_type": "stream",
     "text": [
      "\n",
      "I have a mutt\n",
      "My mutt's name is Nellie\n",
      "\n",
      "I have a lab\n",
      "My lab's name is Lola\n",
      "\n",
      "I have a buster\n",
      "My buster's name is Terrier\n"
     ]
    }
   ],
   "source": [
    "## POSITIONAL ARGUMENTS\n",
    "\n",
    "# here this function tells us what kind of animal each pet is and the\n",
    "# pet's name\n",
    "\n",
    "def describe_pet(breed, name):\n",
    "    \"\"\"display pet info\"\"\"\n",
    "    print(\"\\nI have a \" + breed)\n",
    "    print(\"My \" + breed + \"'s name is \" + name.title())\n",
    "    \n",
    "describe_pet('mutt', 'nellie')\n",
    "describe_pet('lab', 'Lola')\n",
    "\n",
    "# order matters\n",
    "\n",
    "describe_pet('buster', 'terrier')"
   ]
  },
  {
   "cell_type": "code",
   "execution_count": 15,
   "metadata": {},
   "outputs": [
    {
     "name": "stdout",
     "output_type": "stream",
     "text": [
      "\n",
      "I have a hound\n",
      "My hound's name is Meg\n",
      "\n",
      "I have a hound\n",
      "My hound's name is Meg\n"
     ]
    }
   ],
   "source": [
    "## KEYWORD ARGUMENTS\n",
    "\n",
    "# key value pairs\n",
    "# directly assiciate the name value within the argument\n",
    "\n",
    "describe_pet(breed = 'hound', name = 'meg')\n",
    "describe_pet(name = 'meg', breed = 'hound')"
   ]
  },
  {
   "cell_type": "code",
   "execution_count": 20,
   "metadata": {},
   "outputs": [
    {
     "name": "stdout",
     "output_type": "stream",
     "text": [
      "\n",
      "I have a dog.\n",
      "My dog's name is Joe.\n",
      "\n",
      "I have a dog.\n",
      "My dog's name is Joe.\n",
      "\n",
      "I have a cat.\n",
      "My cat's name is Brian.\n"
     ]
    }
   ],
   "source": [
    "# DEFAULT VALUES\n",
    "\n",
    "def describe_pet(pet_name, animal_type = 'dog'):\n",
    "    \"\"\"Display pet info\"\"\"\n",
    "    print(\"\\nI have a \" + animal_type + \".\")\n",
    "    print(\"My \" + animal_type + \"'s name is \" + pet_name.title() + \".\")\n",
    "    \n",
    "    \n",
    "describe_pet(pet_name = \"joe\")\n",
    "\n",
    "# default value had to be second becuase it is still positional \n",
    "describe_pet('joe')\n",
    "\n",
    "# can overwrite a default value\n",
    "describe_pet(pet_name = \"brian\", animal_type = 'cat')\n"
   ]
  },
  {
   "cell_type": "code",
   "execution_count": 4,
   "metadata": {},
   "outputs": [
    {
     "name": "stdout",
     "output_type": "stream",
     "text": [
      "Willie dog\n",
      "Willie dog\n",
      "harry hamster\n",
      "harry hamster\n",
      "harry hamster\n"
     ]
    }
   ],
   "source": [
    "## EQUIVALENT FUNCTION CALLS\n",
    "\n",
    "# Since positional arguments, keyword arguments, and default values can all be\n",
    "# used together, often you'll have several equivalent ways to call a function\n",
    "\n",
    "def describe_pet(pet_name, animal_type = 'dog'):\n",
    "    print(pet_name + \" \" + animal_type)\n",
    "\n",
    "\n",
    "# a dog named willie\n",
    "describe_pet('Willie')\n",
    "describe_pet(pet_name = 'Willie')\n",
    "\n",
    "# a hamster named harry\n",
    "describe_pet( 'harry', 'hamster')\n",
    "describe_pet(pet_name = 'harry', animal_type = 'hamster')\n",
    "describe_pet(animal_type = 'hamster', pet_name = 'harry')"
   ]
  },
  {
   "cell_type": "code",
   "execution_count": 5,
   "metadata": {},
   "outputs": [
    {
     "ename": "TypeError",
     "evalue": "describe_pet() missing 2 required positional arguments: 'pet_name' and 'animal_type'",
     "output_type": "error",
     "traceback": [
      "\u001b[1;31m---------------------------------------------------------------------------\u001b[0m",
      "\u001b[1;31mTypeError\u001b[0m                                 Traceback (most recent call last)",
      "\u001b[1;32m<ipython-input-5-badec41b7c62>\u001b[0m in \u001b[0;36m<module>\u001b[1;34m\u001b[0m\n\u001b[0;32m      7\u001b[0m \u001b[1;33m\u001b[0m\u001b[0m\n\u001b[0;32m      8\u001b[0m \u001b[1;33m\u001b[0m\u001b[0m\n\u001b[1;32m----> 9\u001b[1;33m \u001b[0mdescribe_pet\u001b[0m\u001b[1;33m(\u001b[0m\u001b[1;33m)\u001b[0m\u001b[1;33m\u001b[0m\u001b[1;33m\u001b[0m\u001b[0m\n\u001b[0m",
      "\u001b[1;31mTypeError\u001b[0m: describe_pet() missing 2 required positional arguments: 'pet_name' and 'animal_type'"
     ]
    }
   ],
   "source": [
    "## AVOIDING ARGUMENT ERRORS\n",
    "\n",
    "def describe_pet(pet_name, animal_type):\n",
    "    \"\"\"Display pet info\"\"\"\n",
    "    print(\"\\nI have a \" + animal_type + \".\")\n",
    "    print(\"My \" + animal_type + \"'s name is \" + pet_name.title() + \".\")\n",
    "    \n",
    "    \n",
    "describe_pet()\n"
   ]
  },
  {
   "cell_type": "code",
   "execution_count": 23,
   "metadata": {},
   "outputs": [
    {
     "name": "stdout",
     "output_type": "stream",
     "text": [
      "\n",
      "I would like a t-shirt \n",
      "size: small\n",
      "and that says: 'I like stats'\n",
      "\n",
      "I would like a t-shirt \n",
      "size: small\n",
      "and that says: 'I like stats'\n",
      "\n",
      "I would like a t-shirt \n",
      "size: L\n",
      "and that says: 'I love python'\n",
      "\n",
      "I would like a t-shirt \n",
      "size: M\n",
      "and that says: 'Happy Pi day!'\n",
      "\n",
      "Paris is in France\n",
      "\n",
      "NYC is in USA\n",
      "\n",
      "burlington is in usa\n",
      "\n",
      "madrid is in Spain\n"
     ]
    }
   ],
   "source": [
    "## TRY IT YOURSELF 8.3 - 8.5\n",
    "\n",
    "def make_shirt(size, text):\n",
    "    \"\"\"Describes t-shirts\"\"\"\n",
    "    print(\"\\nI would like a t-shirt \\nsize: \" + size + \"\\nand that says: \" +\n",
    "          \"'\" + text + \"'\")\n",
    "    \n",
    "    \n",
    "make_shirt('small', 'I like stats')\n",
    "make_shirt(size = 'small', text = 'I like stats')\n",
    "\n",
    "\n",
    "\n",
    "def make_shirt(text, size = 'L'):\n",
    "    \"\"\"Describes Large t-shirts\"\"\"\n",
    "    print(\"\\nI would like a t-shirt \\nsize: \" + size + \"\\nand that says: \" +\n",
    "          \"'\" + text + \"'\")\n",
    "    \n",
    "make_shirt(text = \"I love python\")\n",
    "make_shirt(size = 'M', text = 'Happy Pi day!')\n",
    "\n",
    "\n",
    "\n",
    "def describe_city(city, country):\n",
    "    print(\"\\n\" + city + \" is in \" + country)\n",
    "    \n",
    "    \n",
    "describe_city('Paris', 'France')\n",
    "describe_city('NYC', 'USA')\n",
    "\n",
    "\n",
    "def describe_city(city, country = 'usa'):\n",
    "    print(\"\\n\" + city + ' is in ' + country)\n",
    "    \n",
    "describe_city('burlington')\n",
    "describe_city('madrid', country = 'Spain')"
   ]
  },
  {
   "cell_type": "code",
   "execution_count": 24,
   "metadata": {},
   "outputs": [],
   "source": [
    "## RETURN VALUES\n",
    "\n",
    "# a function doesn't always have to display its output directly\n",
    "# it can process some data and return a value or set of values\n",
    "# the returned value is called a return value\n",
    "# the return statement takes a value from inside a function and sends it\n",
    "# back to the line that called the function\n",
    "# return values allow you to move much of your program's grunt work into  functions\n",
    "\n",
    "\n"
   ]
  },
  {
   "cell_type": "code",
   "execution_count": 25,
   "metadata": {},
   "outputs": [
    {
     "name": "stdout",
     "output_type": "stream",
     "text": [
      "Jimi Hendrix\n"
     ]
    }
   ],
   "source": [
    "## RETURNING A SIMPLE VALUE\n",
    "\n",
    "def get_formatted_name(first_name, last_name): # take in params\n",
    "    \"\"\"Return a full name, neatly formatted\"\"\"\n",
    "    full_name = first_name + \" \" + last_name # combines the params and stores in full_name\n",
    "    return full_name.title() # return full name and format title case\n",
    "\n",
    "\n",
    "musician = get_formatted_name('jimi', 'hendrix') # when you call a funtion with a return value\n",
    "print(musician)                                  # you need to provide a variable to store in"
   ]
  },
  {
   "cell_type": "code",
   "execution_count": 30,
   "metadata": {},
   "outputs": [
    {
     "name": "stdout",
     "output_type": "stream",
     "text": [
      "John Lee Hook\n",
      "Jimi Hendrix\n",
      "John Lee Hook\n"
     ]
    }
   ],
   "source": [
    "## MAKING AN ARGUMENT OPTIONAL\n",
    "\n",
    "def get_formatted_name(first_name, middle_name, last_name): # take in params\n",
    "    \"\"\"Return a full name, neatly formatted\"\"\"\n",
    "    full_name = first_name + \" \" + middle_name + \" \" + last_name # combines the params and stores in full_name\n",
    "    return full_name.title() # return full name and format title case\n",
    "\n",
    "musician = get_formatted_name('john', 'lee', 'hook')\n",
    "print(musician)\n",
    "\n",
    "\n",
    "# but not everyone has a middle name\n",
    "\n",
    "def get_formatted_name(first_name, last_name, middle_name = ''): # since there is alwasy an f and l those are first\n",
    "    \"\"\"Return a full name, neatly formatted\"\"\"                   # m default is an empty string\n",
    "    if middle_name:\n",
    "        full_name = first_name + \" \" + middle_name + \" \" + last_name # combines the params and stores in full_name\n",
    "    else:\n",
    "        full_name = first_name + \" \" + last_name\n",
    "    return full_name.title() # return full name and format title case\n",
    "\n",
    "\n",
    "musician = get_formatted_name('jimi', 'hendrix')\n",
    "print(musician)\n",
    "\n",
    "musician = get_formatted_name('john', 'hook', 'lee') # make sure middle name is last called\n",
    "print(musician)"
   ]
  },
  {
   "cell_type": "code",
   "execution_count": 35,
   "metadata": {},
   "outputs": [
    {
     "name": "stdout",
     "output_type": "stream",
     "text": [
      "{'first': 'jimi', 'last': 'hendrix'}\n",
      "{'first': 'jimi', 'last': 'hendrix', 'age': 27}\n",
      "{'first': 'jimi', 'last': 'hendrix', 'age': 27}\n"
     ]
    }
   ],
   "source": [
    "## RETURNING A DICTIONARY\n",
    "\n",
    "# a function can return any kind of value you need it to\n",
    "\n",
    "# this take in parts of a name and returns a dictionary\n",
    "\n",
    "def build_person(first, last):\n",
    "    \"\"\"Retrun a dictionary of info about a person\"\"\"\n",
    "    person = {'first': first, 'last': last}\n",
    "    return person\n",
    "\n",
    "\n",
    "musician = build_person('jimi', 'hendrix')\n",
    "print(musician)\n",
    "\n",
    "# extend the above\n",
    "\n",
    "def build_person(first, last, age = ''):\n",
    "    \"\"\"Return a dictionary of information about a person\"\"\"\n",
    "    person = {'first': first, 'last': last}\n",
    "    if age:\n",
    "        person['age'] = age\n",
    "    return person\n",
    "\n",
    "\n",
    "musician = build_person('jimi', 'hendrix', age = 27)\n",
    "print(musician)\n",
    "\n",
    "musician = build_person('jimi', 'hendrix', 27) # prints the above\n",
    "print(musician)"
   ]
  },
  {
   "cell_type": "code",
   "execution_count": 38,
   "metadata": {},
   "outputs": [
    {
     "name": "stdout",
     "output_type": "stream",
     "text": [
      "\n",
      "Please tell me your name:\n",
      "(enter 'q' to quit)\n",
      "First name: abi\n",
      "Last name: rush\n",
      "\n",
      "Hello, Abi Rush\n",
      "\n",
      "Please tell me your name:\n",
      "(enter 'q' to quit)\n",
      "First name: rach\n",
      "Last name: minett\n",
      "\n",
      "Hello, Rach Minett\n",
      "\n",
      "Please tell me your name:\n",
      "(enter 'q' to quit)\n",
      "First name: q\n"
     ]
    }
   ],
   "source": [
    "##  USING A FUNCTION WITH A WHILE LOOP\n",
    "\n",
    "\n",
    "def get_formatted_name(first_name, last_name):\n",
    "    \"\"\"Return a full name, neatly formatted\"\"\"\n",
    "    full_name = first_name + \" \" + last_name\n",
    "    return full_name.title()\n",
    "\n",
    "\n",
    "while True:\n",
    "    print(\"\\nPlease tell me your name:\")\n",
    "    print(\"(enter 'q' to quit)\")\n",
    "    \n",
    "    f_name = input(\"First name: \")\n",
    "    if f_name == 'q':\n",
    "        break\n",
    "    l_name = input(\"Last name: \")\n",
    "    if l_name == 'q':\n",
    "        break\n",
    "        \n",
    "    formatted_name = get_formatted_name(f_name, l_name)\n",
    "    print(\"\\nHello, \" + formatted_name)"
   ]
  },
  {
   "cell_type": "code",
   "execution_count": 53,
   "metadata": {},
   "outputs": [
    {
     "name": "stdout",
     "output_type": "stream",
     "text": [
      "Santiago, Chile\n",
      "Nyc, Unitd States\n",
      "Paris, France\n",
      "{'artist': 'Taylor Swift', 'album': 'red'}\n",
      "{'artist': 'Sleigh bells', 'album': 'treats'}\n",
      "{'artist': 'That kid', 'album': 'dial tone'}\n",
      "{'artist': 'Taylor Swift', 'album': 'red', 'number_tracks': 10}\n",
      "{'artist': 'Taylor Swift', 'album': 'red', 'number_tracks': 10}\n",
      "\n",
      "Please enter the following:\n",
      "(enter 'q' to quit)\n",
      "Artist name: taylo\n",
      "---- RESULTS ----\n"
     ]
    },
    {
     "ename": "NameError",
     "evalue": "name 'album_dic' is not defined",
     "output_type": "error",
     "traceback": [
      "\u001b[1;31m---------------------------------------------------------------------------\u001b[0m",
      "\u001b[1;31mNameError\u001b[0m                                 Traceback (most recent call last)",
      "\u001b[1;32m<ipython-input-53-26023df7ff0f>\u001b[0m in \u001b[0;36m<module>\u001b[1;34m\u001b[0m\n\u001b[0;32m     70\u001b[0m \u001b[1;33m\u001b[0m\u001b[0m\n\u001b[0;32m     71\u001b[0m \u001b[0mprint\u001b[0m\u001b[1;33m(\u001b[0m\u001b[1;34m\"---- RESULTS ----\"\u001b[0m\u001b[1;33m)\u001b[0m\u001b[1;33m\u001b[0m\u001b[1;33m\u001b[0m\u001b[0m\n\u001b[1;32m---> 72\u001b[1;33m \u001b[1;32mfor\u001b[0m \u001b[0mart_name\u001b[0m\u001b[1;33m,\u001b[0m \u001b[0malb_name\u001b[0m \u001b[1;32min\u001b[0m \u001b[0malbum_dic\u001b[0m\u001b[1;33m.\u001b[0m\u001b[0mitems\u001b[0m\u001b[1;33m(\u001b[0m\u001b[1;33m)\u001b[0m\u001b[1;33m:\u001b[0m\u001b[1;33m\u001b[0m\u001b[1;33m\u001b[0m\u001b[0m\n\u001b[0m\u001b[0;32m     73\u001b[0m     \u001b[0mprint\u001b[0m\u001b[1;33m(\u001b[0m\u001b[1;34m'artist '\u001b[0m \u001b[1;33m+\u001b[0m \u001b[0mart_name\u001b[0m \u001b[1;33m+\u001b[0m \u001b[1;34m\" Album name: \"\u001b[0m \u001b[1;33m+\u001b[0m\u001b[0malb_name\u001b[0m\u001b[1;33m)\u001b[0m\u001b[1;33m\u001b[0m\u001b[1;33m\u001b[0m\u001b[0m\n",
      "\u001b[1;31mNameError\u001b[0m: name 'album_dic' is not defined"
     ]
    }
   ],
   "source": [
    "## TRY IT YOURSELF 8.6 - 8.8\n",
    "\n",
    "def city_country(city, country):\n",
    "    address = city + \", \" + country\n",
    "    return address.title()\n",
    "\n",
    "\n",
    "sant = city_country('santiago', 'chile')\n",
    "print(sant)\n",
    "\n",
    "ny = city_country('nyc', 'unitd states')\n",
    "print(ny)\n",
    "\n",
    "paris = city_country('paris', 'france')\n",
    "print(paris)\n",
    "\n",
    "\n",
    "def make_album(artist, album):\n",
    "    album_dic = {'artist': artist, 'album': album}\n",
    "    return album_dic\n",
    "\n",
    "\n",
    "alb_1 = make_album('Taylor Swift', 'red')\n",
    "print(alb_1)\n",
    "alb_2 = make_album('Sleigh bells', 'treats')\n",
    "print(alb_2)\n",
    "alb_3 = make_album('That kid', 'dial tone')\n",
    "print(alb_3)\n",
    "\n",
    "\n",
    "\n",
    "def make_album(artist, album, num_tracks = ''):\n",
    "    if num_tracks:\n",
    "        album_dic = {'artist': artist, 'album': album, 'number_tracks': num_tracks}\n",
    "    else:\n",
    "        album_dic = {'artist': artist, 'album': album}\n",
    "    return album_dic\n",
    "\n",
    "alb_1 = make_album('Taylor Swift', 'red', 10)\n",
    "print(alb_1)\n",
    "\n",
    "\n",
    "\n",
    "# another way to do the above\n",
    "\n",
    "def make_album(artist, album, num_tracks = ''):\n",
    "    album_dic = {'artist': artist, 'album': album}\n",
    "    if num_tracks:\n",
    "        album_dic['number_tracks'] = num_tracks\n",
    "    return album_dic\n",
    "\n",
    "alb_1 = make_album('Taylor Swift', 'red', 10)\n",
    "print(alb_1)\n",
    "\n",
    "\n"
   ]
  },
  {
   "cell_type": "code",
   "execution_count": 58,
   "metadata": {},
   "outputs": [
    {
     "name": "stdout",
     "output_type": "stream",
     "text": [
      "\n",
      "Please enter the following:\n",
      "(enter 'q' to quit)\n",
      "Artist name: q\n",
      "\n",
      "---- RESULTS ----\n",
      "artist: Artist Album name: bells\n",
      "artist: Album Album name: treats\n",
      "\n",
      "Answer the following questions:\n",
      "\\(Enter 'q' to quit)\n",
      "What is your pet's name? q\n",
      "\n",
      "----- RESULTS ----\n"
     ]
    },
    {
     "ename": "NameError",
     "evalue": "name 'pet_dic' is not defined",
     "output_type": "error",
     "traceback": [
      "\u001b[1;31m---------------------------------------------------------------------------\u001b[0m",
      "\u001b[1;31mNameError\u001b[0m                                 Traceback (most recent call last)",
      "\u001b[1;32m<ipython-input-58-52bb7e17daf2>\u001b[0m in \u001b[0;36m<module>\u001b[1;34m\u001b[0m\n\u001b[0;32m     47\u001b[0m \u001b[1;33m\u001b[0m\u001b[0m\n\u001b[0;32m     48\u001b[0m \u001b[0mprint\u001b[0m\u001b[1;33m(\u001b[0m\u001b[1;34m\"\\n----- RESULTS ----\"\u001b[0m\u001b[1;33m)\u001b[0m\u001b[1;33m\u001b[0m\u001b[1;33m\u001b[0m\u001b[0m\n\u001b[1;32m---> 49\u001b[1;33m print('pet name is: ' + pet_dic['name'] + \"\\n\" +\n\u001b[0m\u001b[0;32m     50\u001b[0m      'pet breed is: ' + pet-dic['breed'])\n",
      "\u001b[1;31mNameError\u001b[0m: name 'pet_dic' is not defined"
     ]
    }
   ],
   "source": [
    "\n",
    "while True:\n",
    "    print(\"\\nPlease enter the following:\")\n",
    "    print(\"(enter 'q' to quit)\")\n",
    "    \n",
    " \n",
    "        \n",
    "    art_name = input(\"Artist name: \")\n",
    "    if art_name == 'q':\n",
    "        break\n",
    "    alb_name = input(\"Album name: \")\n",
    "    if alb_name == 'q':\n",
    "        break\n",
    "        \n",
    "    album_dic = {'Artist': art_name, 'Album': alb_name}\n",
    "   \n",
    "\n",
    "    \n",
    "print(\"\\n---- RESULTS ----\")\n",
    "for art_name, alb_name in album_dic.items():\n",
    "    print('artist: ' + art_name + \" Album name: \" + alb_name)\n",
    "\n",
    "    \n",
    "    \n",
    "    \n",
    "\n",
    "    \n",
    "## this above was hard so i'm doing another one jsut for practice. trying to w/o looking\n",
    "## had to look :( \n",
    "\n",
    "\n"
   ]
  },
  {
   "cell_type": "code",
   "execution_count": 61,
   "metadata": {},
   "outputs": [
    {
     "name": "stdout",
     "output_type": "stream",
     "text": [
      "\n",
      "Answer the following questions:\n",
      "\n",
      "(Enter 'q' to quit)\n",
      "What is your pet's name? nellie\n",
      "What is the breed of your petmutt\n",
      "\n",
      "Answer the following questions:\n",
      "\n",
      "(Enter 'q' to quit)\n",
      "What is your pet's name? lola \n",
      "What is the breed of your petlab\n",
      "\n",
      "Answer the following questions:\n",
      "\n",
      "(Enter 'q' to quit)\n",
      "What is your pet's name? q\n",
      "\n",
      "----- RESULTS ----\n",
      "\n",
      "pet name: name\n",
      "Pet breed: lola \n",
      "\n",
      "pet name: breed\n",
      "Pet breed: lab\n"
     ]
    }
   ],
   "source": [
    "## this above was hard so i'm doing another one jsut for practice. trying to w/o looking\n",
    "## had to look :( \n",
    "while True:\n",
    "    print(\"\\nAnswer the following questions:\")\n",
    "    print(\"(Enter 'q' to quit)\")\n",
    "    \n",
    "    pet_name = input(\"What is your pet's name? \")\n",
    "    if pet_name == 'q':\n",
    "        break\n",
    "    \n",
    "    pet_breed = input(\"What is the breed of your pet\")\n",
    "    if pet_breed == 'q':\n",
    "        break\n",
    "\n",
    "    \n",
    "    pet_dic = {'name': pet_name, 'breed': pet_breed}\n",
    "    \n",
    "    \n",
    "print(\"\\n----- RESULTS ----\")\n",
    "for name, breed in pet_dic.items():\n",
    "    print(\"\\npet name: \" + name + \"\\n\" + \n",
    "         \"Pet breed: \" + breed)\n"
   ]
  },
  {
   "cell_type": "code",
   "execution_count": 63,
   "metadata": {},
   "outputs": [
    {
     "name": "stdout",
     "output_type": "stream",
     "text": [
      "Hello hannah!\n",
      "Hello ty!\n",
      "Hello margot!\n"
     ]
    }
   ],
   "source": [
    "## PASSING A LIST\n",
    "\n",
    "# when you pass alist to a function, the function gets direct access to\n",
    "# the contents of the list\n",
    "\n",
    "def greet_users(names):\n",
    "    \"\"\"Print a simple greeting ot each user in the list\"\"\"\n",
    "    for name in names:\n",
    "        msg = \"Hello \" + name + \"!\"\n",
    "        print(msg)\n",
    "        \n",
    "usernames = ['hannah', 'ty', 'margot']\n",
    "greet_users(usernames)\n",
    "\n"
   ]
  },
  {
   "cell_type": "code",
   "execution_count": 64,
   "metadata": {},
   "outputs": [
    {
     "name": "stdout",
     "output_type": "stream",
     "text": [
      "now printing dodecahedron\n",
      "now printing robot pendant\n",
      "now printing iphone case\n",
      "\n",
      "The following models have been printed: \n",
      "dodecahedron\n",
      "robot pendant\n",
      "iphone case\n"
     ]
    }
   ],
   "source": [
    "## MODIFYING A LIST IN A FUNCTION\n",
    "\n",
    "# any changes made inside the function's body are permenant\n",
    "\n",
    "\n",
    "# exmple that doesn't use functions\n",
    "\n",
    "# start with some designs that need to be printed.\n",
    "unprinted_designs = ['iphone case', 'robot pendant', 'dodecahedron']\n",
    "completed_models = []\n",
    "\n",
    "# simulate printing each design until none are left\n",
    "# Move each design to compelted_models after printing\n",
    "while unprinted_designs:\n",
    "    current_design = unprinted_designs.pop()\n",
    "    \n",
    "    # simulate creating a 3D print from the design\n",
    "    print(\"now printing \" + current_design)\n",
    "    completed_models.append(current_design)\n",
    "    \n",
    "# display all completed models\n",
    "print(\"\\nThe following models have been printed: \")\n",
    "for completed_model in completed_models:\n",
    "    print(completed_model)"
   ]
  },
  {
   "cell_type": "code",
   "execution_count": 67,
   "metadata": {},
   "outputs": [
    {
     "name": "stdout",
     "output_type": "stream",
     "text": [
      "Printing model: dodecahedron\n",
      "Printing model: robot pendant\n",
      "Printing model: iphone case\n",
      "\n",
      "The followign models have been printed\n",
      "-> dodecahedron\n",
      "-> robot pendant\n",
      "-> iphone case\n"
     ]
    }
   ],
   "source": [
    "# we can reorganize this code using two functions\n",
    "# this will make it more efficient\n",
    "# the fist function will handle printing the designs\n",
    "# the second will summarize the prints that have been made \n",
    "\n",
    "def print_models(unprinted_designs, completed_models):\n",
    "    \"\"\"\n",
    "    Simulate printing each design, until none are left.\n",
    "    Move each design to completed_models after printing.\n",
    "    \"\"\"\n",
    "    while unprinted_designs:\n",
    "        current_design = unprinted_designs.pop()\n",
    "        \n",
    "        print(\"Printing model: \" + current_design)\n",
    "        completed_models.append(current_design)\n",
    "        \n",
    "        \n",
    "def show_completed_models(completed_models):\n",
    "    \"\"\"Show al the models that were printed\"\"\"\n",
    "    print(\"\\nThe followign models have been printed\")\n",
    "    for model in completed_models:\n",
    "        print(\"-> \" + model)\n",
    "    \n",
    "    \n",
    "unprinted_designs = ['iphone case', 'robot pendant', 'dodecahedron']\n",
    "completed_models = []\n",
    "\n",
    "print_models(unprinted_designs, completed_models)\n",
    "show_completed_models(completed_models)"
   ]
  },
  {
   "cell_type": "code",
   "execution_count": 69,
   "metadata": {},
   "outputs": [],
   "source": [
    "## PREVENTING A FUNCTION FROM MODIFYING A LIST\n",
    "\n",
    "# lets say in the previous example you wanted to keep the original\n",
    "# unprinted list for record keeping\n",
    "\n",
    "# you can send a copy of a list like this:\n",
    "# function_name(list_name[:])\n",
    "\n",
    "print_models(unprinted_designs[:], completed_models)\n",
    "\n",
    "# you should pass original unless you have a good reason not to\n",
    "# it is faster to work with the original computationally"
   ]
  },
  {
   "cell_type": "code",
   "execution_count": 88,
   "metadata": {},
   "outputs": [
    {
     "name": "stdout",
     "output_type": "stream",
     "text": [
      "Name: sparky\n",
      "Name: rabbit\n",
      "Name: bob\n",
      "\n",
      "\n",
      "name: The great bob\n",
      "name: The great rabbit\n",
      "name: The great sparky\n",
      "\n",
      "this list is empty\n",
      "\n",
      "End of empty list\n",
      "\n",
      "\n",
      "name: The great bob\n",
      "name: The great rabbit\n",
      "name: The great sparky\n",
      "\n",
      "\n",
      "Name: sparky\n",
      "Name: rabbit\n",
      "Name: bob\n"
     ]
    }
   ],
   "source": [
    "## TRY IT YOURSELF 8.9 - 8.11\n",
    "\n",
    "magicians = ['sparky', 'rabbit', 'bob']\n",
    "\n",
    "def show_magicians(magicians):\n",
    "    for magician in magicians:\n",
    "        print(\"Name: \" + magician)\n",
    "        \n",
    "        \n",
    "show_magicians(magicians)\n",
    "\n",
    "####################################################\n",
    "print(\"\\n\")\n",
    "magicians = ['sparky', 'rabbit', 'bob']\n",
    "great_magicians = []\n",
    "\n",
    "def make_great(magicians, great_magicians):\n",
    "    while magicians:\n",
    "        current_magician = \"The great \" + magicians.pop()\n",
    "        great_magicians.append(current_magician)\n",
    "    for magician in great_magicians:\n",
    "        print(\"name: \" + magician)\n",
    "        \n",
    "        \n",
    "make_great(magicians, great_magicians)\n",
    "\n",
    "print(\"\\nthis list is empty\")\n",
    "show_magicians(magicians) # it is empty\n",
    "print(\"\\nEnd of empty list\")\n",
    "\n",
    "##################################################\n",
    "print(\"\\n\")\n",
    "magicians = ['sparky', 'rabbit', 'bob']\n",
    "great_magicians = []\n",
    "\n",
    "def make_great(magicians, great_magicians):\n",
    "    while magicians:\n",
    "        current_magician = \"The great \" + magicians.pop()\n",
    "        great_magicians.append(current_magician)\n",
    "    for magician in great_magicians:\n",
    "        print(\"name: \" + magician)\n",
    "\n",
    "make_great(magicians[:], great_magicians)\n",
    "print(\"\\n\")\n",
    "show_magicians(magicians) "
   ]
  },
  {
   "cell_type": "code",
   "execution_count": 91,
   "metadata": {},
   "outputs": [
    {
     "name": "stdout",
     "output_type": "stream",
     "text": [
      "('pepperoni',)\n",
      "('mushrooms', 'green peps', 'x cheese')\n",
      "\n",
      "Making a pizza with the following toppings: \n",
      "- pepperoni\n",
      "\n",
      "Making a pizza with the following toppings: \n",
      "- mushrooms\n",
      "- green peps\n",
      "- x cheese\n"
     ]
    }
   ],
   "source": [
    "## PASSING AN ARBITRARY NUMBER OF ARGUMENTS\n",
    "\n",
    "# this example has one parameter *toppings, but this parameter\n",
    "# collects as many argumetns as the calling line provides\n",
    "\n",
    "def make_pizza(*toppings):\n",
    "    \"\"\"Print the lsit of toppings that have been requested.\"\"\"\n",
    "    print(toppings)\n",
    "    \n",
    "make_pizza('pepperoni')\n",
    "make_pizza('mushrooms', 'green peps', 'x cheese')\n",
    "\n",
    "# the * in toppings tells python to make an empty tuple called toppings\n",
    "# and pack whateber values it recieves into this tuple. The print\n",
    "# statement in teh funtion body produces output shoing that python\n",
    "# can handle a function call with one value and a call with three values\n",
    "# its a tuple even with one entry\n",
    "\n",
    "def make_pizza(*toppings):\n",
    "    \"\"\"Print the lsit of toppings that have been requested.\"\"\"\n",
    "    print(\"\\nMaking a pizza with the following toppings: \")\n",
    "    for topping in toppings:\n",
    "        print(\"- \" + topping)\n",
    "    \n",
    "make_pizza('pepperoni')\n",
    "make_pizza('mushrooms', 'green peps', 'x cheese')"
   ]
  },
  {
   "cell_type": "code",
   "execution_count": 92,
   "metadata": {},
   "outputs": [
    {
     "name": "stdout",
     "output_type": "stream",
     "text": [
      "\n",
      "Making a 16-inch pizza with the following toppings: \n",
      "- pepperoni\n",
      "\n",
      "Making a 12-inch pizza with the following toppings: \n",
      "- mushrooms\n",
      "- green peps\n",
      "- x cheese\n"
     ]
    }
   ],
   "source": [
    "## MIXING POSITIONAL AND ARIBTRARY ARGUMENTS\n",
    "\n",
    "def make_pizza(size, *toppings):\n",
    "    \"\"\"Print the lsit of toppings that have been requested.\"\"\"\n",
    "    print(\"\\nMaking a \"+ str(size) + \n",
    "          \"-inch pizza with the following toppings: \")\n",
    "    for topping in toppings:\n",
    "        print(\"- \" + topping)\n",
    "    \n",
    "make_pizza(16, 'pepperoni')\n",
    "make_pizza(12, 'mushrooms', 'green peps', 'x cheese')"
   ]
  },
  {
   "cell_type": "code",
   "execution_count": 93,
   "metadata": {},
   "outputs": [
    {
     "name": "stdout",
     "output_type": "stream",
     "text": [
      "{'first_name': 'albert', 'last_name': 'einstein', 'location': 'princeton', 'field': 'physics'}\n"
     ]
    }
   ],
   "source": [
    "## USING ARBITRARY KEYWORD ARGUEMTENTS\n",
    "# sometimes you'll want to accept an arbitary number of arguments\n",
    "# but you won't know ahead of time what kind of info will be passed to the\n",
    "# function. In this case you can write functions that accept as many\n",
    "# key-value pairs as the calling statement provides. \n",
    "# ie user profiles. You know what info you want but not how many users\n",
    "\n",
    "\n",
    "def build_profile(first, last, **user_info): # expects first and last, then lets user pass as many\n",
    "                                             # name-value pairs as they want. ** is empty dictionary\n",
    "    \"\"\"Build a dictionary containing everything we know about a user.\"\"\"\n",
    "    profile = {} ## make an empty dictionary\n",
    "    profile['first_name'] = first\n",
    "    profile['last_name'] = last\n",
    "    for key, value in user_info.items(): # loop through additional key-value pairs and add to dictionary\n",
    "        profile[key] = value\n",
    "    return profile\n",
    "\n",
    "\n",
    "user_profile = build_profile('albert', 'einstein', location = 'princeton', field = 'physics')\n",
    "print(user_profile)\n",
    "    \n",
    "    \n",
    "    \n",
    "    \n",
    "    "
   ]
  },
  {
   "cell_type": "code",
   "execution_count": 101,
   "metadata": {},
   "outputs": [
    {
     "name": "stdout",
     "output_type": "stream",
     "text": [
      "\n",
      "Makign a sandwitch with: \n",
      "- tomato\n",
      "- chicken\n",
      "\n",
      "Makign a sandwitch with: \n",
      "- ham\n",
      "\n",
      "Makign a sandwitch with: \n",
      "- turkey\n",
      "- brie\n",
      "- cranberry\n",
      "{'first_name': 'abigail', 'last_name': 'rushworth', 'location': 'charlotte', 'field': 'stats', 'age': 24, 'height': \"5'3\", 'hair': 'brown'}\n",
      "{'manufacturer': 'subaru', 'model': 'outback', 'color': 'blue', 'tow_package': 'small'}\n",
      "\n",
      "\n",
      "manufacturer: subaru\n",
      "model: outback\n",
      "color: blue\n",
      "tow_package: small\n"
     ]
    }
   ],
   "source": [
    "## TRY IT YOURSELF 8.12 - 8.14\n",
    "\n",
    "def build_sandwich(*fillings):\n",
    "    print(\"\\nMakign a sandwitch with: \")\n",
    "    for filling in fillings:\n",
    "        print(\"- \" + filling)\n",
    "        \n",
    "        \n",
    "build_sandwich('tomato', 'chicken')\n",
    "build_sandwich('ham')\n",
    "build_sandwich('turkey', 'brie', 'cranberry')\n",
    "\n",
    "\n",
    "\n",
    "#######################################################3\n",
    "\n",
    "def build_profile(first, last, **user_info): # expects first and last, then lets user pass as many\n",
    "                                             # name-value pairs as they want. ** is empty dictionary\n",
    "    \"\"\"Build a dictionary containing everything we know about a user.\"\"\"\n",
    "    profile = {} ## make an empty dictionary\n",
    "    profile['first_name'] = first\n",
    "    profile['last_name'] = last\n",
    "    for key, value in user_info.items(): # loop through additional key-value pairs and add to dictionary\n",
    "        profile[key] = value\n",
    "    return profile\n",
    "\n",
    "\n",
    "user_profile = build_profile('abigail', 'rushworth', location = 'charlotte', field = 'stats', age = 24,\n",
    "                            height = \"5'3\", hair = 'brown')\n",
    "print(user_profile)\n",
    "    \n",
    "    \n",
    "#######################################################\n",
    "\n",
    "def build_car(manufacturer, model, **car_info):\n",
    "    \"\"\"Info on the car builds\"\"\"\n",
    "    car = {}\n",
    "    car['manufacturer'] = manufacturer\n",
    "    car['model'] = model\n",
    "    for key, value in car_info.items():\n",
    "        car[key] = value\n",
    "    return car\n",
    "\n",
    "car_build = build_car('subaru', 'outback', color = 'blue', tow_package = 'small')\n",
    "print(car_build)\n",
    "\n",
    "print(\"\\n\")\n",
    "\n",
    "for key, value in car_build.items():\n",
    "    print(key + \": \" + value )"
   ]
  },
  {
   "cell_type": "code",
   "execution_count": 102,
   "metadata": {},
   "outputs": [],
   "source": [
    "## STORING YOUR FUCTIONS IN MODULES\n",
    "\n",
    "# funtions are nice becuase they seperate block of code\n",
    "# you can take this further by storing functions in a seperate\n",
    "# file called a module adn then importing that module into \n",
    "# your main file"
   ]
  },
  {
   "cell_type": "code",
   "execution_count": 104,
   "metadata": {},
   "outputs": [],
   "source": [
    "## IMPORTING AN ENTIRE MODULE\n",
    "\n",
    "# we first need to create a module\n",
    "# a module is a file endin in .py that contains the code you \n",
    "# want to import inot your program\n",
    "# lets make one that contains the function make_pizza()\n",
    "\n",
    "\n",
    "def make_pizza(size, *toppings):\n",
    "    \"\"\"Summarize the pizza we are about to make.\"\"\"\n",
    "    print(\"\\nMaking a \" + str(size) + \n",
    "         \"-inch pizza with the following toppings: \")\n",
    "    for topping in toppings:\n",
    "        print(\"- \" + topping)\n",
    "        \n",
    "        \n",
    "##### THis is in PCC Chapter 8 functions pizza and pizza.py\n",
    "# called using module_name.function_name()\n",
    "\n"
   ]
  },
  {
   "cell_type": "code",
   "execution_count": 105,
   "metadata": {},
   "outputs": [],
   "source": [
    "## IMPORTING SPECIFIC FUNCTIONS\n",
    "\n",
    "# you can also import a specific function from a module. here is the general syntax\n",
    "# from module_name import function_name\n",
    "\n",
    "# you can import as many functions as you want\n",
    "# from module_name import function_0, function_1, function_2\n"
   ]
  },
  {
   "cell_type": "code",
   "execution_count": 106,
   "metadata": {},
   "outputs": [
    {
     "name": "stdout",
     "output_type": "stream",
     "text": [
      "\n",
      "Making a 16-inch pizza with the following toppings: \n",
      "- pepperoni\n",
      "\n",
      "Making a 12-inch pizza with the following toppings: \n",
      "- rooms\n",
      "- g pepps\n",
      "- x cheese\n"
     ]
    }
   ],
   "source": [
    "## USING AS TO GIVE A FUNCTION AN ALIAS\n",
    "\n",
    "# if a function name you're importing migh tocnflict with an existing name in\n",
    "# your program or if the function name is long, you can use a short, unique alias\n",
    "# an alternate name similar to a nickname for the function\n",
    "\n",
    "\n",
    "# here we give the function make_pizza() an alias, mp()\n",
    "\n",
    "from pizza import make_pizza as mp\n",
    "\n",
    "mp(16, 'pepperoni')\n",
    "mp(12, 'rooms', 'g pepps', 'x cheese')"
   ]
  },
  {
   "cell_type": "code",
   "execution_count": 108,
   "metadata": {},
   "outputs": [
    {
     "name": "stdout",
     "output_type": "stream",
     "text": [
      "\n",
      "Making a 16-inch pizza with the following toppings: \n",
      "- pepp\n",
      "\n",
      "Making a 12-inch pizza with the following toppings: \n",
      "- rooms\n",
      "- g pepps\n",
      "- x cheese\n"
     ]
    }
   ],
   "source": [
    "## USING AS TO GIVE A MODULE AN ALIAS\n",
    "\n",
    "# you can also provide an alias for a module name. Giving a module a short alias\n",
    "# like p for pizza allows you to call it more quickly\n",
    "\n",
    "# p.make_pizza() will give same output as pizza.make_pizza()\n",
    "\n",
    "import pizza as p\n",
    "\n",
    "p.make_pizza(16, 'pepp')\n",
    "p.make_pizza(12, 'rooms', 'g pepps', 'x cheese')\n",
    "\n",
    "# this is more readable as the module name is less informative than the function name\n"
   ]
  },
  {
   "cell_type": "code",
   "execution_count": 109,
   "metadata": {},
   "outputs": [
    {
     "name": "stdout",
     "output_type": "stream",
     "text": [
      "\n",
      "Making a 16-inch pizza with the following toppings: \n",
      "- pepp\n",
      "\n",
      "Making a 12-inch pizza with the following toppings: \n",
      "- rooms\n",
      "- g pepps\n",
      "- x cheese\n"
     ]
    }
   ],
   "source": [
    "## IMPORTING ALL FUNCTION IN A MODULE\n",
    "\n",
    "# you can tell Python to import every function in a module by using the (*) operator: \n",
    "\n",
    "from pizza import *\n",
    "\n",
    "make_pizza(16, 'pepp')\n",
    "make_pizza(12, 'rooms', 'g pepps', 'x cheese')\n",
    "\n",
    "# best not to use this for large modules esp if you didn't write it\n",
    "# it can overwrite functions and really mess things up if you have\n",
    "# the same name for other things in your file"
   ]
  },
  {
   "cell_type": "code",
   "execution_count": 110,
   "metadata": {},
   "outputs": [],
   "source": [
    "## STYLING FUNCTIONS\n",
    "\n",
    "# descriptive names \n",
    "# lowerase, use underscores\n",
    "# module names should use these conventions too\n",
    "# every function should have a comment that explains what it does\n",
    "# no space on either side of the = when setting a default\n",
    "# def function_name(param_0, param_1='default')\n",
    "# same convention should be used for keyword arguments in function calls\n",
    "# function_name(value_0, param_1='value')\n",
    "# if your program or module has more than one function,  you can\n",
    "# separate each by two blank lines to make it easier to see where one\n",
    "# function ends and the next one begins\n",
    "\n",
    "# All import statements should be written at teh beginning of a file\n",
    "# only exception is if you have comments before the import statements"
   ]
  },
  {
   "cell_type": "code",
   "execution_count": 4,
   "metadata": {},
   "outputs": [],
   "source": [
    "## TRY IT YOURSELF 8.15 - 8.17\n",
    "\n",
    "# put print_models.py in a seperate file called printing_functions.py\n",
    "# TBH idk what they want me to do\n",
    "\n",
    "#here is solution and this makes sense:\n",
    "# http://ehmatthes.github.io/pcc/solutions/chapter_8.html#8-15-printing-models\n",
    "\n",
    "from printing_functions import print_models\n"
   ]
  },
  {
   "cell_type": "code",
   "execution_count": null,
   "metadata": {},
   "outputs": [],
   "source": []
  }
 ],
 "metadata": {
  "kernelspec": {
   "display_name": "prac",
   "language": "python",
   "name": "prac"
  },
  "language_info": {
   "codemirror_mode": {
    "name": "ipython",
    "version": 3
   },
   "file_extension": ".py",
   "mimetype": "text/x-python",
   "name": "python",
   "nbconvert_exporter": "python",
   "pygments_lexer": "ipython3",
   "version": "3.8.5"
  }
 },
 "nbformat": 4,
 "nbformat_minor": 4
}
