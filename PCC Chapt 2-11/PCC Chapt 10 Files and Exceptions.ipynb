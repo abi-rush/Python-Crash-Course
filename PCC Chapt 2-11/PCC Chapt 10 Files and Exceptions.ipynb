{
 "cells": [
  {
   "cell_type": "code",
   "execution_count": 1,
   "metadata": {},
   "outputs": [],
   "source": [
    "# how to make programs relevant and usable\n",
    "# handle errors \n",
    "# exception - special objects to manage errors\n",
    "# json module - allows you to save user data so itsn't\n",
    "# lost when program stops running"
   ]
  },
  {
   "cell_type": "code",
   "execution_count": 2,
   "metadata": {},
   "outputs": [
    {
     "name": "stdout",
     "output_type": "stream",
     "text": [
      "3.1415926535\n",
      "  8979323846\n",
      "  2643383279\n",
      "3.1415926535\n",
      "  8979323846\n",
      "  2643383279\n"
     ]
    }
   ],
   "source": [
    "## READING FROM A FILE\n",
    "\n",
    "# Very useful, text files have lots of data\n",
    "\n",
    "# read in a text file with pi digits\n",
    "\n",
    "with open('pi_digits.txt') as file_object: \n",
    "    # to access a file you must first open it, it opens from current directory\n",
    "    # with closes the file once acces to it is no longer needed\n",
    "    # we trust it is closed at the right time rather than using\n",
    "    # an open() and a close() statement\n",
    "    contents = file_object.read()\n",
    "    print(contents)\n",
    "    print(contents.rstrip())"
   ]
  },
  {
   "cell_type": "code",
   "execution_count": 3,
   "metadata": {},
   "outputs": [],
   "source": [
    "## FILE PATHS\n",
    "\n",
    "# this is for when the file you want to open isn't in the current directory\n",
    "#with open('text_files/filename.txt') as file_object:\n",
    "\n",
    "# file_path = 'C:\\home\\ehmatthes\\other.txt'\n",
    "# with open(file_path) as file_object:"
   ]
  },
  {
   "cell_type": "code",
   "execution_count": 4,
   "metadata": {},
   "outputs": [
    {
     "name": "stdout",
     "output_type": "stream",
     "text": [
      "3.1415926535\n",
      "\n",
      "  8979323846\n",
      "\n",
      "  2643383279\n"
     ]
    }
   ],
   "source": [
    "## READING LINE BY LINE\n",
    "\n",
    "# you can use a forloop to do this\n",
    "\n",
    "filename = 'pi_digits.txt'\n",
    "\n",
    "with open(filename) as file_object:\n",
    "    for line in file_object:\n",
    "        print(line)\n",
    "        \n",
    "        \n",
    "# blank lines appear bc of an invisile new character is at the\n",
    "# end of each line in the text file, also\n",
    "# becuase of the print function"
   ]
  },
  {
   "cell_type": "code",
   "execution_count": 5,
   "metadata": {},
   "outputs": [
    {
     "name": "stdout",
     "output_type": "stream",
     "text": [
      "3.1415926535\n",
      "  8979323846\n",
      "  2643383279\n"
     ]
    }
   ],
   "source": [
    "# strip eliminates this\n",
    "\n",
    "with open(filename) as file_object:\n",
    "    for line in file_object:\n",
    "        print(line.rstrip())"
   ]
  },
  {
   "cell_type": "code",
   "execution_count": 6,
   "metadata": {},
   "outputs": [
    {
     "name": "stdout",
     "output_type": "stream",
     "text": [
      "3.1415926535\n",
      "  8979323846\n",
      "  2643383279\n"
     ]
    }
   ],
   "source": [
    "## MAKING A LIST OF LINES FROM A FILE\n",
    "\n",
    "# when you use with, the text file in open()\n",
    "# is only available in that block\n",
    "\n",
    "# to woek with it outside the with statement,\n",
    "# store file's line in a lsit inside the block\n",
    "\n",
    "filename = 'pi_digits.txt'\n",
    "\n",
    "with open(filename) as file_object:\n",
    "    lines = file_object.readlines()\n",
    "    \n",
    "    \n",
    "for line in lines:\n",
    "    print(line.rstrip())\n",
    "    \n",
    "# readlines() method takes each line from the file and\n",
    "# stores it in a lsit which you can work with outside\n",
    "# the block"
   ]
  },
  {
   "cell_type": "code",
   "execution_count": 7,
   "metadata": {},
   "outputs": [
    {
     "name": "stdout",
     "output_type": "stream",
     "text": [
      "3.1415926535  8979323846  2643383279\n",
      "36\n",
      "3.141592653589793238462643383279\n",
      "32\n"
     ]
    }
   ],
   "source": [
    "## WORKING WITH A FILE'S CONTENTS\n",
    "\n",
    "# lets explore digits of pi first, build a single\n",
    "# string containing all the digits in the file with \n",
    "# no whitespace in it:\n",
    "\n",
    "filename = 'pi_digits.txt'\n",
    "\n",
    "with open(filename) as file_object:\n",
    "    lines = file_object.readlines()\n",
    "    \n",
    "    \n",
    "pi_string = ''\n",
    "for line in lines:\n",
    "    pi_string += line.rstrip()\n",
    "    \n",
    "print(pi_string)\n",
    "print(len(pi_string))\n",
    "    \n",
    "# create an empty string ot hole pi_string\n",
    "# for each line, read it in and get rid of the \n",
    "# new line character from each line\n",
    "# the spaces between digits is the left hand \n",
    "# whitespace\n",
    "\n",
    "pi_string = ''\n",
    "for line in lines:\n",
    "    pi_string += line.strip()\n",
    "    \n",
    "print(pi_string)\n",
    "print(len(pi_string))\n",
    "    \n",
    "    \n",
    "    "
   ]
  },
  {
   "cell_type": "code",
   "execution_count": 8,
   "metadata": {},
   "outputs": [
    {
     "name": "stdout",
     "output_type": "stream",
     "text": [
      "3.14159265358979323846264338327950288419716939937510...\n"
     ]
    }
   ],
   "source": [
    "## LARGE FILES: ONE MILLION DIGITS\n",
    "\n",
    "# we can create a single string and display first 50 \n",
    "\n",
    "filename = 'pi_million_digits.txt'\n",
    "\n",
    "with open(filename) as file_object:\n",
    "        lines = file_object.readlines()\n",
    "        \n",
    "pi_string = ''\n",
    "for line in lines:\n",
    "    pi_string += line.strip()\n",
    "    \n",
    "print(pi_string[:52] + \"...\")\n",
    "        "
   ]
  },
  {
   "cell_type": "code",
   "execution_count": 9,
   "metadata": {},
   "outputs": [
    {
     "name": "stdout",
     "output_type": "stream",
     "text": [
      "Enter your birthday in teh format mmddyy: \n",
      "Your birthday is in pi!!\n"
     ]
    }
   ],
   "source": [
    "## IS YOUR BIRTHDAY CONTAINED IN PI\n",
    "\n",
    "filename = 'pi_million_digits.txt'\n",
    "\n",
    "with open(filename) as file_object:\n",
    "        lines = file_object.readlines()\n",
    "        \n",
    "pi_string = ''\n",
    "for line in lines:\n",
    "    pi_string += line.strip()\n",
    "    \n",
    "    \n",
    "birthday = input(\"Enter your birthday in teh format mmddyy: \")\n",
    "if birthday in pi_string:\n",
    "    print(\"Your birthday is in pi!!\")\n",
    "else:\n",
    "    print(\"Your birthday is NOT in pi, so sad :(\")\n",
    "    \n",
    "    "
   ]
  },
  {
   "cell_type": "code",
   "execution_count": 10,
   "metadata": {},
   "outputs": [
    {
     "name": "stdout",
     "output_type": "stream",
     "text": [
      "['In Python you can create classes\\n', 'In Python you can write functions\\n', 'In Python you can define variables']\n",
      "\n",
      "\n",
      "In Python you can create classes\n",
      "In Python you can write functions\n",
      "In Python you can define variables\n",
      "\n",
      "\n",
      "In Python you can create classes\n",
      "In Python you can write functions\n",
      "In Python you can define variables\n",
      "\n",
      "\n",
      "In Python you can create classes\n",
      "In Python you can write functions\n",
      "In Python you can define variables\n",
      "\n",
      "\n",
      "In Python you can create classesIn Python you can write functionsIn Python you can define variables\n",
      "in C you can create classes\n",
      "\n",
      "in C you can write functions\n",
      "\n",
      "in C you can define variables\n"
     ]
    }
   ],
   "source": [
    "## TRY IT YOURSELF\n",
    "\n",
    "filename = 'learning_python.txt'\n",
    "\n",
    "with open(filename) as file_object:\n",
    "    lines = file_object.readlines()\n",
    "    print(lines)\n",
    "    \n",
    "print(\"\\n\")\n",
    "\n",
    "learn_string = ''\n",
    "time = 0\n",
    "\n",
    "while time <3:\n",
    "    for line in lines:\n",
    "        print(line.strip())\n",
    "    time += 1\n",
    "    print(\"\\n\")\n",
    "    \n",
    "    \n",
    "    \n",
    "for line in lines:\n",
    "    learn_string += line.strip()\n",
    "    \n",
    "print(learn_string)\n",
    "\n",
    "\n",
    "\n",
    "######################################################\n",
    "\n",
    "with open(filename) as file_object:\n",
    "    lines = file_object.readlines()\n",
    "\n",
    "for line in lines:\n",
    "    print(line.lower().replace('python', 'C'))\n",
    "    \n",
    "    \n",
    "    \n",
    "    \n",
    "\n"
   ]
  },
  {
   "cell_type": "code",
   "execution_count": 11,
   "metadata": {},
   "outputs": [],
   "source": [
    "## WRITING TO A FILE\n",
    "\n",
    "# save data to a file\n",
    "# output available after you close program terminal\n",
    "# and after program finished running\n"
   ]
  },
  {
   "cell_type": "code",
   "execution_count": 12,
   "metadata": {},
   "outputs": [],
   "source": [
    "##  WRITING TO AN EMPTY FILE\n",
    "\n",
    "# call open() with a second argument telling python you \n",
    "# wan to write a file\n",
    "filename = 'programming.txt'\n",
    "\n",
    "with open(filename, 'w') as file_object:\n",
    "    file_object.write(\"I love programming.\")"
   ]
  },
  {
   "cell_type": "code",
   "execution_count": 13,
   "metadata": {},
   "outputs": [],
   "source": [
    "## WRITING MULTIPLE LINES\n",
    "\n",
    "# the write() function doesn't add any newlines to the text you write\n",
    "# so add new line characters\n",
    "\n",
    "filename = 'programming.txt'\n",
    "\n",
    "with open(filename, 'w') as file_object:\n",
    "    file_object.write(\"I love programming\\n\")\n",
    "    file_object.write(\"I love creating new games\\n\")"
   ]
  },
  {
   "cell_type": "code",
   "execution_count": 14,
   "metadata": {},
   "outputs": [],
   "source": [
    "## APPENDING TO A FILE\n",
    "\n",
    "filename = 'programming.txt'\n",
    "\n",
    "with open(filename, 'a') as file_object:\n",
    "    file_object.write(\"I also love finding meaning in large datasets \\n\")\n",
    "    file_object.write(\"I love createing apps that can run in a browser.\\n\")"
   ]
  },
  {
   "cell_type": "code",
   "execution_count": 15,
   "metadata": {},
   "outputs": [
    {
     "name": "stdout",
     "output_type": "stream",
     "text": [
      "what is your name?\n",
      "what is your name?\n",
      "what is your name?\n",
      "what is your name?\n",
      "what is your name?quit\n"
     ]
    }
   ],
   "source": [
    "## TRY IT YOURSELF 10.3 TO 10.5\n",
    "\n",
    "\n",
    "filename = 'guest.txt'\n",
    "active = True\n",
    "message = \"\"\n",
    "\n",
    "while active:\n",
    "    message = input(\"what is your name?\")\n",
    "    if message == 'quit':\n",
    "        active = False\n",
    "    else:\n",
    "        \n",
    "        with open(filename, 'a') as file_object:\n",
    "            file_object.write(\"\\n\")\n",
    "            file_object.write(message)\n",
    "            \n",
    "            \n",
    "            \n",
    "#################################################### \n",
    " "
   ]
  },
  {
   "cell_type": "code",
   "execution_count": 16,
   "metadata": {},
   "outputs": [
    {
     "name": "stdout",
     "output_type": "stream",
     "text": [
      "what is your name?\n",
      "what is your name?quit\n"
     ]
    }
   ],
   "source": [
    "filename = 'guest_book.txt'\n",
    "active = True\n",
    "message = \"\"\n",
    "\n",
    "while active:\n",
    "    message = input(\"what is your name?\")\n",
    "    if message == 'quit':\n",
    "        active = False\n",
    "    else:\n",
    "        \n",
    "        with open(filename, 'a') as file_object:\n",
    "            file_object.write(\"Welcome \" + message)\n",
    "            file_object.write(\"\\n\")\n",
    "           \n",
    "            \n",
    "            \n",
    "            \n",
    "            \n",
    "###################################################################           "
   ]
  },
  {
   "cell_type": "code",
   "execution_count": 17,
   "metadata": {},
   "outputs": [
    {
     "name": "stdout",
     "output_type": "stream",
     "text": [
      "Why do you like programming?quit\n"
     ]
    }
   ],
   "source": [
    "filename = 'like_programming.txt'\n",
    "active = True\n",
    "message = \"\"\n",
    "\n",
    "while active:\n",
    "    message = input(\"Why do you like programming?\")\n",
    "    if message == 'quit':\n",
    "        active = False\n",
    "    else:\n",
    "        with open(filename, 'a') as file_object:\n",
    "            file_object.write(\"-> \" + message)\n",
    "            file_object.write(\"\\n\")\n",
    "            \n",
    "            \n",
    "            \n",
    "            "
   ]
  },
  {
   "cell_type": "code",
   "execution_count": 18,
   "metadata": {},
   "outputs": [
    {
     "ename": "ZeroDivisionError",
     "evalue": "division by zero",
     "output_type": "error",
     "traceback": [
      "\u001b[1;31m---------------------------------------------------------------------------\u001b[0m",
      "\u001b[1;31mZeroDivisionError\u001b[0m                         Traceback (most recent call last)",
      "\u001b[1;32m<ipython-input-18-9e7c6174c118>\u001b[0m in \u001b[0;36m<module>\u001b[1;34m\u001b[0m\n\u001b[0;32m      7\u001b[0m \u001b[1;31m# do if an exception arises\u001b[0m\u001b[1;33m\u001b[0m\u001b[1;33m\u001b[0m\u001b[1;33m\u001b[0m\u001b[0m\n\u001b[0;32m      8\u001b[0m \u001b[1;33m\u001b[0m\u001b[0m\n\u001b[1;32m----> 9\u001b[1;33m \u001b[0mprint\u001b[0m\u001b[1;33m(\u001b[0m\u001b[1;36m5\u001b[0m\u001b[1;33m/\u001b[0m\u001b[1;36m0\u001b[0m\u001b[1;33m)\u001b[0m\u001b[1;33m\u001b[0m\u001b[1;33m\u001b[0m\u001b[0m\n\u001b[0m\u001b[0;32m     10\u001b[0m \u001b[1;31m# produces an error\u001b[0m\u001b[1;33m\u001b[0m\u001b[1;33m\u001b[0m\u001b[1;33m\u001b[0m\u001b[0m\n",
      "\u001b[1;31mZeroDivisionError\u001b[0m: division by zero"
     ]
    }
   ],
   "source": [
    "## EXCEPTION\n",
    "\n",
    "# special objects used to manage errors\n",
    "# use try except-blocks\n",
    "\n",
    "# they ask python to try something and then say what to\n",
    "# do if an exception arises\n",
    "\n",
    "print(5/0)\n",
    "# produces an error"
   ]
  },
  {
   "cell_type": "code",
   "execution_count": 19,
   "metadata": {},
   "outputs": [
    {
     "name": "stdout",
     "output_type": "stream",
     "text": [
      "You can't divide by zero\n"
     ]
    }
   ],
   "source": [
    "try:\n",
    "    print(5/0)\n",
    "except ZeroDivisionError:\n",
    "    print(\"You can't divide by zero\")"
   ]
  },
  {
   "cell_type": "code",
   "execution_count": 20,
   "metadata": {},
   "outputs": [
    {
     "name": "stdout",
     "output_type": "stream",
     "text": [
      "Give me two numbers, and I'll divide them.\n",
      "Enter 'q' to quit\n",
      "\n",
      "First number: q\n"
     ]
    }
   ],
   "source": [
    "## USING EXCEPTIONS TO PREVENT CRASHES\n",
    "\n",
    "# especially important when program has more work to do \n",
    "# if an error occurs\n",
    "\n",
    "\n",
    "## This program produces an error if the asked to divide by zero\n",
    "print(\"Give me two numbers, and I'll divide them.\")\n",
    "print(\"Enter 'q' to quit\")\n",
    "\n",
    "while True:\n",
    "    first_number = input(\"\\nFirst number: \")\n",
    "    if first_number == 'q':\n",
    "        break\n",
    "        \n",
    "    second_number = input(\"Second number: \")\n",
    "    if second_number == ' q':\n",
    "        break\n",
    "    answer = int(first_number) / int(second_number)\n",
    "    print(answer)\n",
    "    \n",
    "    \n",
    "    \n",
    "# It is also not good practice to show usuers all the traceback\n",
    "# as it is confusing and a skilled user can use it to attack you\n",
    "\n"
   ]
  },
  {
   "cell_type": "code",
   "execution_count": null,
   "metadata": {},
   "outputs": [
    {
     "name": "stdout",
     "output_type": "stream",
     "text": [
      "Give me two numbers, and I'll divide them.\n",
      "Enter 'q' to quit\n",
      "\n",
      "First number: \n"
     ]
    }
   ],
   "source": [
    "## THE ELSE BLOCK\n",
    "\n",
    "# we can make this mroe error resitant by wrapping the line\n",
    "# that might produce errors in a try-except block\n",
    "\n",
    "\n",
    "print(\"Give me two numbers, and I'll divide them.\")\n",
    "print(\"Enter 'q' to quit\")\n",
    "\n",
    "while True:\n",
    "    first_number = input(\"\\nFirst number: \")\n",
    "    if first_number == 'q':\n",
    "        break\n",
    "        \n",
    "    second_number = input(\"Second number: \")\n",
    "    try:\n",
    "        answer = int(first_number) / int(second_number)\n",
    "    except:\n",
    "        print(\"You can't divide by 0!\")\n",
    "        \n",
    "    else:\n",
    "        print(answer)\n",
    "        \n",
    "        \n",
    "        \n",
    "# THe only code that goes in a try statement i code that might\n",
    "# cause an exception to be raised"
   ]
  },
  {
   "cell_type": "code",
   "execution_count": 20,
   "metadata": {},
   "outputs": [
    {
     "ename": "FileNotFoundError",
     "evalue": "[Errno 2] No such file or directory: 'alice.txt'",
     "output_type": "error",
     "traceback": [
      "\u001b[1;31m---------------------------------------------------------------------------\u001b[0m",
      "\u001b[1;31mFileNotFoundError\u001b[0m                         Traceback (most recent call last)",
      "\u001b[1;32m<ipython-input-20-5d3755fa002e>\u001b[0m in \u001b[0;36m<module>\u001b[1;34m\u001b[0m\n\u001b[0;32m      6\u001b[0m \u001b[0mfilename\u001b[0m \u001b[1;33m=\u001b[0m \u001b[1;34m'alice.txt'\u001b[0m \u001b[1;31m# this doesn't exist\u001b[0m\u001b[1;33m\u001b[0m\u001b[1;33m\u001b[0m\u001b[0m\n\u001b[0;32m      7\u001b[0m \u001b[1;33m\u001b[0m\u001b[0m\n\u001b[1;32m----> 8\u001b[1;33m \u001b[1;32mwith\u001b[0m \u001b[0mopen\u001b[0m\u001b[1;33m(\u001b[0m\u001b[0mfilename\u001b[0m\u001b[1;33m)\u001b[0m \u001b[1;32mas\u001b[0m \u001b[0mf_obj\u001b[0m\u001b[1;33m:\u001b[0m\u001b[1;33m\u001b[0m\u001b[1;33m\u001b[0m\u001b[0m\n\u001b[0m\u001b[0;32m      9\u001b[0m     \u001b[0mcontents\u001b[0m \u001b[1;33m=\u001b[0m \u001b[0mf_obj\u001b[0m\u001b[1;33m.\u001b[0m\u001b[0mread\u001b[0m\u001b[1;33m(\u001b[0m\u001b[1;33m)\u001b[0m\u001b[1;33m\u001b[0m\u001b[1;33m\u001b[0m\u001b[0m\n\u001b[0;32m     10\u001b[0m \u001b[1;33m\u001b[0m\u001b[0m\n",
      "\u001b[1;31mFileNotFoundError\u001b[0m: [Errno 2] No such file or directory: 'alice.txt'"
     ]
    }
   ],
   "source": [
    "## HANDLING THE FILENOTFOUNDERROR EXCEPTION \n",
    "\n",
    "# a common issue is dealign with missing files\n",
    "# misspellings, wrong location, or nonexistent...\n",
    "\n",
    "# this produces an error\n",
    "filename = 'alice.txt' # this doesn't exist\n",
    "\n",
    "with open(filename) as f_obj:\n",
    "    contents = f_obj.read()\n",
    "    \n",
    "    "
   ]
  },
  {
   "cell_type": "code",
   "execution_count": null,
   "metadata": {},
   "outputs": [],
   "source": [
    "# can't get to work!!!!!!!\n",
    "\n",
    "filename = 'alice.txt' # this doesn't exist\n",
    "\n",
    "try:\n",
    "    with open(filename) as f_obj:\n",
    "        contents = f_obj.read()\n",
    "except FileNotFoundError:\n",
    "    msg = \"sorry the file \" + filename + \" does not exist\"\n",
    "    print(msg)\n",
    "    "
   ]
  },
  {
   "cell_type": "code",
   "execution_count": 1,
   "metadata": {},
   "outputs": [
    {
     "ename": "UnicodeDecodeError",
     "evalue": "'charmap' codec can't decode byte 0x9d in position 254: character maps to <undefined>",
     "output_type": "error",
     "traceback": [
      "\u001b[1;31m---------------------------------------------------------------------------\u001b[0m",
      "\u001b[1;31mUnicodeDecodeError\u001b[0m                        Traceback (most recent call last)",
      "\u001b[1;32m<ipython-input-1-15b43138dea2>\u001b[0m in \u001b[0;36m<module>\u001b[1;34m\u001b[0m\n\u001b[0;32m     28\u001b[0m \u001b[1;33m\u001b[0m\u001b[0m\n\u001b[0;32m     29\u001b[0m \u001b[0mfilename\u001b[0m \u001b[1;33m=\u001b[0m \u001b[1;34m'alice.txt'\u001b[0m\u001b[1;33m\u001b[0m\u001b[1;33m\u001b[0m\u001b[0m\n\u001b[1;32m---> 30\u001b[1;33m \u001b[0mcount_words\u001b[0m\u001b[1;33m(\u001b[0m\u001b[0mfilename\u001b[0m\u001b[1;33m)\u001b[0m\u001b[1;33m\u001b[0m\u001b[1;33m\u001b[0m\u001b[0m\n\u001b[0m",
      "\u001b[1;32m<ipython-input-1-15b43138dea2>\u001b[0m in \u001b[0;36mcount_words\u001b[1;34m(filename)\u001b[0m\n\u001b[0;32m     17\u001b[0m     \u001b[1;32mtry\u001b[0m\u001b[1;33m:\u001b[0m\u001b[1;33m\u001b[0m\u001b[1;33m\u001b[0m\u001b[0m\n\u001b[0;32m     18\u001b[0m         \u001b[1;32mwith\u001b[0m \u001b[0mopen\u001b[0m\u001b[1;33m(\u001b[0m\u001b[0mfilename\u001b[0m\u001b[1;33m)\u001b[0m \u001b[1;32mas\u001b[0m \u001b[0mf_obj\u001b[0m\u001b[1;33m:\u001b[0m\u001b[1;33m\u001b[0m\u001b[1;33m\u001b[0m\u001b[0m\n\u001b[1;32m---> 19\u001b[1;33m             \u001b[0mcontents\u001b[0m \u001b[1;33m=\u001b[0m \u001b[0mf_obj\u001b[0m\u001b[1;33m.\u001b[0m\u001b[0mread\u001b[0m\u001b[1;33m(\u001b[0m\u001b[1;33m)\u001b[0m\u001b[1;33m\u001b[0m\u001b[1;33m\u001b[0m\u001b[0m\n\u001b[0m\u001b[0;32m     20\u001b[0m     \u001b[1;32mexcept\u001b[0m \u001b[0mFileNotFoundError\u001b[0m\u001b[1;33m:\u001b[0m\u001b[1;33m\u001b[0m\u001b[1;33m\u001b[0m\u001b[0m\n\u001b[0;32m     21\u001b[0m         \u001b[0mmsg\u001b[0m \u001b[1;33m=\u001b[0m \u001b[1;34m\"Sorry, the file \"\u001b[0m \u001b[1;33m+\u001b[0m \u001b[0mfilename\u001b[0m \u001b[1;33m+\u001b[0m \u001b[1;34m\" does not exist.\"\u001b[0m\u001b[1;33m\u001b[0m\u001b[1;33m\u001b[0m\u001b[0m\n",
      "\u001b[1;32m~\\.conda\\envs\\prac\\lib\\encodings\\cp1252.py\u001b[0m in \u001b[0;36mdecode\u001b[1;34m(self, input, final)\u001b[0m\n\u001b[0;32m     21\u001b[0m \u001b[1;32mclass\u001b[0m \u001b[0mIncrementalDecoder\u001b[0m\u001b[1;33m(\u001b[0m\u001b[0mcodecs\u001b[0m\u001b[1;33m.\u001b[0m\u001b[0mIncrementalDecoder\u001b[0m\u001b[1;33m)\u001b[0m\u001b[1;33m:\u001b[0m\u001b[1;33m\u001b[0m\u001b[1;33m\u001b[0m\u001b[0m\n\u001b[0;32m     22\u001b[0m     \u001b[1;32mdef\u001b[0m \u001b[0mdecode\u001b[0m\u001b[1;33m(\u001b[0m\u001b[0mself\u001b[0m\u001b[1;33m,\u001b[0m \u001b[0minput\u001b[0m\u001b[1;33m,\u001b[0m \u001b[0mfinal\u001b[0m\u001b[1;33m=\u001b[0m\u001b[1;32mFalse\u001b[0m\u001b[1;33m)\u001b[0m\u001b[1;33m:\u001b[0m\u001b[1;33m\u001b[0m\u001b[1;33m\u001b[0m\u001b[0m\n\u001b[1;32m---> 23\u001b[1;33m         \u001b[1;32mreturn\u001b[0m \u001b[0mcodecs\u001b[0m\u001b[1;33m.\u001b[0m\u001b[0mcharmap_decode\u001b[0m\u001b[1;33m(\u001b[0m\u001b[0minput\u001b[0m\u001b[1;33m,\u001b[0m\u001b[0mself\u001b[0m\u001b[1;33m.\u001b[0m\u001b[0merrors\u001b[0m\u001b[1;33m,\u001b[0m\u001b[0mdecoding_table\u001b[0m\u001b[1;33m)\u001b[0m\u001b[1;33m[\u001b[0m\u001b[1;36m0\u001b[0m\u001b[1;33m]\u001b[0m\u001b[1;33m\u001b[0m\u001b[1;33m\u001b[0m\u001b[0m\n\u001b[0m\u001b[0;32m     24\u001b[0m \u001b[1;33m\u001b[0m\u001b[0m\n\u001b[0;32m     25\u001b[0m \u001b[1;32mclass\u001b[0m \u001b[0mStreamWriter\u001b[0m\u001b[1;33m(\u001b[0m\u001b[0mCodec\u001b[0m\u001b[1;33m,\u001b[0m\u001b[0mcodecs\u001b[0m\u001b[1;33m.\u001b[0m\u001b[0mStreamWriter\u001b[0m\u001b[1;33m)\u001b[0m\u001b[1;33m:\u001b[0m\u001b[1;33m\u001b[0m\u001b[1;33m\u001b[0m\u001b[0m\n",
      "\u001b[1;31mUnicodeDecodeError\u001b[0m: 'charmap' codec can't decode byte 0x9d in position 254: character maps to <undefined>"
     ]
    }
   ],
   "source": [
    "## ANALYZING TEXT\n",
    "#### CANT GET TO WORK!!!!!!!\n",
    "# lots of classics are publically available \n",
    "# at http://gutenberg.org/\n",
    "\n",
    "title = \"Alice in Wonderland\"\n",
    "title.split() #stores parts of a string in a list\n",
    "\n",
    "# punctuation may appear withs some words\n",
    "\n",
    "\n",
    "\n",
    "# lets count the number of words\n",
    "\n",
    "def count_words(filename):\n",
    "    \"\"\"Count the approx number of words in file\"\"\"\n",
    "    try:\n",
    "        with open(filename) as f_obj:\n",
    "            contents = f_obj.read()\n",
    "    except FileNotFoundError:\n",
    "        msg = \"Sorry, the file \" + filename + \" does not exist.\"\n",
    "        print(msg)\n",
    "    else:\n",
    "        words = contents.split()\n",
    "        num_words = len(words)\n",
    "        print(\"The file \" + filename + \" has about \" + str(num_words) + \" words.\")\n",
    "        \n",
    "        \n",
    "filename = 'alice.txt'\n",
    "count_words(filename)\n",
    "\n",
    "filename = ['alice.txt', 'siddhartha.txt', 'moby_dick.txt', 'litle_women.txt',]\n",
    "for filename in filenames:\n",
    "    count_words(filename)"
   ]
  },
  {
   "cell_type": "code",
   "execution_count": null,
   "metadata": {},
   "outputs": [],
   "source": [
    "## FAILING SILENTLY\n",
    "\n",
    "# in last example we informed users that one of files\n",
    "# was unavailable but you don't have to report every\n",
    "# exception you catch\n",
    "\n",
    "\n",
    "def count_words(filename):\n",
    "    \"\"\"COunt the approximate number of words in a file.\"\"\"\n",
    "    try:\n",
    "\n",
    "        --snip--\n",
    "    except FileNotFoundError:\n",
    "        pass ## passes over without an error message,\n",
    "             ## can also be used as placeholder if you want to\n",
    "             ## put something later\n",
    "    else:\n",
    "        --snip--\n",
    "filename = ['alice.txt', 'sidhartha.txt', 'moby_dick.txt', 'little_women.txt']\n",
    "for filename in filenames:\n",
    "    count_words(filename)"
   ]
  },
  {
   "cell_type": "code",
   "execution_count": 3,
   "metadata": {},
   "outputs": [
    {
     "name": "stdout",
     "output_type": "stream",
     "text": [
      "Give me a numbert\n",
      "Sorry, I really needed a number.\n"
     ]
    }
   ],
   "source": [
    "## TRY IT YOURSELF 10.6 - 10.10\n",
    "\n",
    "\n",
    "try:\n",
    "    x = input(\"Give me a number\")\n",
    "    x = int(x)\n",
    "    \n",
    "    y = input(\"Give me another number: \")\n",
    "    y = int(y)\n",
    "    \n",
    "except ValueError:\n",
    "    print(\"Sorry, I really needed a number.\")\n",
    "    \n",
    "else:\n",
    "    sum = x + y\n",
    "    print(\"The sum of \" + str(x) + \" and \" + str(y) + \n",
    "         \" is \" + str(sum) + \".\")"
   ]
  },
  {
   "cell_type": "code",
   "execution_count": 4,
   "metadata": {},
   "outputs": [
    {
     "name": "stdout",
     "output_type": "stream",
     "text": [
      "Give me a number5\n",
      "Give me another number: 5\n",
      "The sum of 5 and 5 is 10.\n",
      "Give me a number5\n",
      "Give me another number: 5\n",
      "The sum of 5 and 5 is 10.\n",
      "Give me a numbert\n",
      "Sorry, I really needed a number.\n",
      "Give me a numberq\n"
     ]
    }
   ],
   "source": [
    "## 10.7\n",
    "\n",
    "active = True\n",
    "\n",
    "while active:\n",
    "    try:\n",
    "        x = input(\"Give me a number\")\n",
    "        if x =='q':\n",
    "            break\n",
    "        x = int(x)\n",
    "\n",
    "        y = input(\"Give me another number: \")\n",
    "        if y == ' q':\n",
    "            break\n",
    "        y = int(y)\n",
    "\n",
    "    except ValueError:\n",
    "        print(\"Sorry, I really needed a number.\")\n",
    "\n",
    "    else:\n",
    "        sum = x + y\n",
    "        print(\"The sum of \" + str(x) + \" and \" + str(y) + \n",
    "             \" is \" + str(sum) + \".\")"
   ]
  },
  {
   "cell_type": "code",
   "execution_count": 17,
   "metadata": {},
   "outputs": [
    {
     "name": "stdout",
     "output_type": "stream",
     "text": [
      "calico\n",
      "black\n",
      "simese \n",
      "\n",
      "\n",
      "lab\n",
      "golden\n",
      "poodle\n",
      "\n",
      "\n",
      "File not found\n",
      "\n",
      "\n"
     ]
    }
   ],
   "source": [
    "## 10.8\n",
    "\n",
    "filename = 'dogs.txt'\n",
    "def print_contents(filename):\n",
    "\n",
    "    try:\n",
    "        with open(filename) as f_obj:\n",
    "            contents = f_obj.read()\n",
    "\n",
    "    except FileNotFoundError:\n",
    "        print(\"File not found\")\n",
    "\n",
    "    else:\n",
    "        print(contents) # this couls also go in try blick \n",
    "                        # and no else block\n",
    "        \n",
    "        \n",
    "\n",
    "filenames = ['cats.txt', 'dogs.txt', 'pigs.txt']\n",
    "for filename in filenames:\n",
    "    print_contents(filename)\n",
    "    print(\"\\n\")"
   ]
  },
  {
   "cell_type": "code",
   "execution_count": 18,
   "metadata": {},
   "outputs": [
    {
     "name": "stdout",
     "output_type": "stream",
     "text": [
      "calico\n",
      "black\n",
      "simese \n",
      "\n",
      "\n",
      "lab\n",
      "golden\n",
      "poodle\n",
      "\n",
      "\n",
      "\n",
      "\n"
     ]
    }
   ],
   "source": [
    "## 10.9\n",
    "\n",
    "filename = 'dogs.txt'\n",
    "def print_contents(filename):\n",
    "\n",
    "    try:\n",
    "        with open(filename) as f_obj:\n",
    "            contents = f_obj.read()\n",
    "\n",
    "    except FileNotFoundError:\n",
    "        pass\n",
    "\n",
    "    else:\n",
    "        print(contents) # this couls also go in try blick \n",
    "                        # and no else block\n",
    "        \n",
    "        \n",
    "\n",
    "filenames = ['cats.txt', 'dogs.txt', 'pigs.txt']\n",
    "for filename in filenames:\n",
    "    print_contents(filename)\n",
    "    print(\"\\n\")"
   ]
  },
  {
   "cell_type": "code",
   "execution_count": 26,
   "metadata": {},
   "outputs": [
    {
     "name": "stdout",
     "output_type": "stream",
     "text": [
      "6\n"
     ]
    }
   ],
   "source": [
    "## 10.10\n",
    "\n",
    "line = \"row row Row\"\n",
    "line.count('row')\n",
    "line.lower().count('row')\n",
    "\n",
    "with open('row_your_boat.txt') as f_obj:\n",
    "    row = f_obj.read()\n",
    "    print(row.lower().count('row'))\n"
   ]
  },
  {
   "cell_type": "code",
   "execution_count": 27,
   "metadata": {},
   "outputs": [],
   "source": [
    "## STORING DATA\n",
    "\n",
    "# you'll often want to save data after users have\n",
    "# closed a program\n",
    "# a simple way to do this with a json module\n",
    "# dump data structures into a file\n",
    "# load data when program opens\n",
    "# JSON not specific to python\n",
    "# so you can share between programming languages\n"
   ]
  },
  {
   "cell_type": "code",
   "execution_count": 30,
   "metadata": {},
   "outputs": [],
   "source": [
    "## USING json.dump() AND json.load()\n",
    "\n",
    "# json.dump() to store\n",
    "# json.load() to load\n",
    "\n",
    "import json\n",
    "\n",
    "numbers = [2, 3, 5, 7, 11, 13]\n",
    "\n",
    "filename = 'numbers.json' #customary to say.jason to indicate json\n",
    "with open(filename, 'w') as f_obj:\n",
    "    json.dump(numbers, f_obj)"
   ]
  },
  {
   "cell_type": "code",
   "execution_count": 31,
   "metadata": {},
   "outputs": [
    {
     "name": "stdout",
     "output_type": "stream",
     "text": [
      "[2, 3, 5, 7, 11, 13]\n"
     ]
    }
   ],
   "source": [
    "\n",
    "filename = 'numbers.json'\n",
    "\n",
    "with open(filename) as f_obj:\n",
    "    numbers = json.load(f_obj)\n",
    "    \n",
    "print(numbers)"
   ]
  },
  {
   "cell_type": "code",
   "execution_count": 32,
   "metadata": {},
   "outputs": [
    {
     "name": "stdout",
     "output_type": "stream",
     "text": [
      "What is your username: arush\n",
      "We'll remember you when you come back, arush!\n"
     ]
    }
   ],
   "source": [
    "##  SAVING AND READING USER-GENERATED DATA\n",
    "\n",
    "# let's recall data for each namer/user\n",
    "\n",
    "#remember_me.py\n",
    "username = input(\"What is your username: \")\n",
    "\n",
    "filename = 'username.json'\n",
    "with open(filename, 'w') as f_obj:\n",
    "    json.dump(username, f_obj)\n",
    "    print(\"We'll remember you when you come back, \" + username + \"!\")"
   ]
  },
  {
   "cell_type": "code",
   "execution_count": 33,
   "metadata": {},
   "outputs": [
    {
     "name": "stdout",
     "output_type": "stream",
     "text": [
      "Welcome back, arush!\n"
     ]
    }
   ],
   "source": [
    "# greet_user.py\n",
    "filename = 'username.json'\n",
    "\n",
    "with open(filename) as f_obj:\n",
    "    username = json.load(f_obj)\n",
    "    print(\"Welcome back, \" + username + \"!\")\n",
    "    "
   ]
  },
  {
   "cell_type": "code",
   "execution_count": 34,
   "metadata": {},
   "outputs": [
    {
     "name": "stdout",
     "output_type": "stream",
     "text": [
      "Welcome back, arush!\n"
     ]
    }
   ],
   "source": [
    "# combine the two into remember_me.py\n",
    "\n",
    "import json\n",
    "\n",
    "# load the username, if it has been stored previously.\n",
    "# otherwise, prompt for the username and stroe it.\n",
    "\n",
    "filename = 'username.json'\n",
    "try:\n",
    "    with open(filename) as f_obj:\n",
    "        username = json.load(f_obj)\n",
    "except FileNotFoundError:\n",
    "    username = input(\"What's your username? \")\n",
    "    with open (filename, 'w') as f_obj:\n",
    "        json.dump(username, f_obj)\n",
    "        print(\"We'll remember you when you come back, \" + username + \"!\")\n",
    "else:\n",
    "    print(\"Welcome back, \" + username + \"!\")\n",
    "    \n",
    "\n",
    "\n"
   ]
  },
  {
   "cell_type": "code",
   "execution_count": 36,
   "metadata": {},
   "outputs": [
    {
     "name": "stdout",
     "output_type": "stream",
     "text": [
      "Welcome back, arush!\n"
     ]
    }
   ],
   "source": [
    "## REFACTORING\n",
    "\n",
    "# breaking up your code into functions after you have\n",
    "# written your code bc you recognize it will be cleaner\n",
    "\n",
    "# we can refactor remember_me.py by moving the bulk of its logic\n",
    "# into one or more functions\n",
    "\n",
    "# remember_me.py\n",
    "\n",
    "import json\n",
    "\n",
    "def greet_user():\n",
    "    \"\"\"Greet the user by name.\"\"\"\n",
    "    filename = 'username.json'\n",
    "    try:\n",
    "        with open(filename) as f_obj:\n",
    "            username = json.load(f_obj)\n",
    "    except FileNotFoundError:\n",
    "        username = input(\"What is your name? \")\n",
    "        with open(filename, 'w') as f_obj:\n",
    "            json.dump(username, f_obj)\n",
    "            print(\"We'll remember you when you come back, \" + username + \"!\")\n",
    "    else:\n",
    "        print(\"Welcome back, \" + username + \"!\")\n",
    "        \n",
    "greet_user()"
   ]
  },
  {
   "cell_type": "code",
   "execution_count": 42,
   "metadata": {},
   "outputs": [
    {
     "name": "stdout",
     "output_type": "stream",
     "text": [
      "Welcome back, arush!\n"
     ]
    }
   ],
   "source": [
    "# refactor greet user so its not doing so \n",
    "# many differnet tasks\n",
    "\n",
    "import json\n",
    "\n",
    "def get_stored_username():\n",
    "    \"\"\"Get sored username if available.\"\"\"\n",
    "    filename = 'username.json'\n",
    "    try:\n",
    "        with open(filename) as f_obj:\n",
    "            username = json.load(f_obj)\n",
    "    except FileNotFoundError:\n",
    "        return None\n",
    "    else:\n",
    "        return username\n",
    "      \n",
    "def get_new_username():\n",
    "    \"\"\"Prompt for a new username.\"\"\"\n",
    "    username = input(\"What is your name? \")\n",
    "    filename = 'username.json'\n",
    "    with open(filename, 'w') as f_obj:\n",
    "        json.dump(username, f_obj)\n",
    "        \n",
    "def greet_user():\n",
    "    \"\"\"Greet the user by name.\"\"\"\n",
    "    username = get_stored_username()\n",
    "    if username:\n",
    "        print(\"Welcome back, \" + username + \"!\")\n",
    "    else:\n",
    "        username = get_new_username()\n",
    "        print(\"We'll remember ou when you come back, \" + username + \"!\")\n",
    "            \n",
    "greet_user()"
   ]
  },
  {
   "cell_type": "code",
   "execution_count": 43,
   "metadata": {},
   "outputs": [
    {
     "name": "stdout",
     "output_type": "stream",
     "text": [
      "What's your favorite number? 13\n",
      "We'll remember your fave number when you come back, 13!\n"
     ]
    }
   ],
   "source": [
    "## TRY IT YOURSELF 10.11 - 10.13\n",
    "\n",
    "import json\n",
    "\n",
    "filename = \"fav_num.txt\"\n",
    "\n",
    "try:\n",
    "    with open(filename) as f_obj:\n",
    "        number = json.load(f_obj)\n",
    "except FileNotFoundError:\n",
    "    number = input(\"What's your favorite number? \")\n",
    "    with open (filename, 'w') as f_obj:\n",
    "        json.dump(number, f_obj)\n",
    "        print(\"We'll remember your fave number when you come back, \" + number + \"!\")\n",
    "else:\n",
    "    print(\"fave num:, \" + number + \"!\")\n"
   ]
  },
  {
   "cell_type": "code",
   "execution_count": 45,
   "metadata": {},
   "outputs": [
    {
     "name": "stdout",
     "output_type": "stream",
     "text": [
      "What's your favorite number? 43\n",
      "Thanks I'll remember that\n"
     ]
    }
   ],
   "source": [
    "# favorite_number_write.py\n",
    "\n",
    "import json\n",
    "number = input(\"What's your favorite number? \")\n",
    "\n",
    "with open('favorite_number.json', 'w') as f:\n",
    "    json.dump(number,f)\n",
    "    print(\"Thanks I'll remember that\")"
   ]
  },
  {
   "cell_type": "code",
   "execution_count": 2,
   "metadata": {},
   "outputs": [
    {
     "name": "stdout",
     "output_type": "stream",
     "text": [
      "I know your favorite number! It's 43.\n"
     ]
    }
   ],
   "source": [
    "#favorite_number_read.py\n",
    "import json\n",
    "\n",
    "try:\n",
    "    with open('favorite_number.json') as f:\n",
    "        number = json.load(f)\n",
    "except FileNotFoundError:\n",
    "    number = input(\"What's your favorite number? \")\n",
    "    with open('favorite_number.json', 'w') as f:\n",
    "        print(\"Thanks, I'll remember that.\")\n",
    "else:\n",
    "    print(\"I know your favorite number! It's \" + str(number) + \".\")"
   ]
  },
  {
   "cell_type": "code",
   "execution_count": 4,
   "metadata": {},
   "outputs": [
    {
     "name": "stdout",
     "output_type": "stream",
     "text": [
      "Are you arush? (y/n) y\n",
      "Welcome back, arush!\n"
     ]
    }
   ],
   "source": [
    "import json\n",
    "\n",
    "def get_stored_username():\n",
    "    \"\"\"Get stored username if available.\"\"\"\n",
    "    filename = 'username.json'\n",
    "    try:\n",
    "        with open(filename) as f_obj:\n",
    "            username = json.load(f_obj)\n",
    "    except FileNotFoundError:\n",
    "        return None\n",
    "    else:\n",
    "        return username\n",
    "    \n",
    "    \n",
    "def get_new_username():\n",
    "    \"\"\"Prompt for a new username.\"\"\"\n",
    "    username = input(\"what is your name? \")\n",
    "    filename = 'username.json'\n",
    "    with open(filename, 'w') as f_obj:\n",
    "        json.dump(username, f_obj)\n",
    "    return username\n",
    "\n",
    "\n",
    "def greet_user():\n",
    "    \"\"\"Greet the user by name.\"\"\"\n",
    "    username = get_stored_username()\n",
    "    if username:\n",
    "        correct = input(\"Are you \" + username + \"? (y/n) \")\n",
    "        if correct == 'y':\n",
    "            print(\"Welcome back, \" + username + \"!\")\n",
    "        else:\n",
    "            username = get_new_username()\n",
    "            print(\"We'll remember you when you come back, \" + username + \"!\")\n",
    "    else:\n",
    "        username = get_new_username()\n",
    "        print(\"We'll remember you when you come back \" + username + \"!\")\n",
    "        \n",
    "greet_user()\n",
    "        \n",
    "    "
   ]
  },
  {
   "cell_type": "code",
   "execution_count": null,
   "metadata": {},
   "outputs": [],
   "source": []
  }
 ],
 "metadata": {
  "kernelspec": {
   "display_name": "prac",
   "language": "python",
   "name": "prac"
  },
  "language_info": {
   "codemirror_mode": {
    "name": "ipython",
    "version": 3
   },
   "file_extension": ".py",
   "mimetype": "text/x-python",
   "name": "python",
   "nbconvert_exporter": "python",
   "pygments_lexer": "ipython3",
   "version": "3.8.5"
  }
 },
 "nbformat": 4,
 "nbformat_minor": 4
}
