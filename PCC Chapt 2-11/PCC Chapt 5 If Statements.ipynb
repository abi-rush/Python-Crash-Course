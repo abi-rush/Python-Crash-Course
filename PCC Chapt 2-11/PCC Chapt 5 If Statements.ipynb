{
 "cells": [
  {
   "cell_type": "code",
   "execution_count": 1,
   "metadata": {},
   "outputs": [
    {
     "name": "stdout",
     "output_type": "stream",
     "text": [
      "Audi\n",
      "BMW\n",
      "Subaru\n",
      "Toyota\n"
     ]
    }
   ],
   "source": [
    "## programmin often involves examining a set of conditions and deciding which\n",
    "## action to take based on those conditions\n",
    "\n",
    "## A Simple Example\n",
    "\n",
    "cars = ['audi', 'bmw', 'subaru', 'toyota']\n",
    "\n",
    "for car in cars:\n",
    "    if car == 'bmw':\n",
    "        print(car.upper())\n",
    "    else:\n",
    "        print(car.title())\n",
    "        \n",
    "        "
   ]
  },
  {
   "cell_type": "code",
   "execution_count": 11,
   "metadata": {},
   "outputs": [
    {
     "name": "stdout",
     "output_type": "stream",
     "text": [
      "True\n",
      "False\n",
      "False\n",
      "True\n",
      "Audi\n"
     ]
    }
   ],
   "source": [
    "## Conditional Tests\n",
    "## Checking for Equality\n",
    "\n",
    "car = 'bmw'\n",
    "print(car == 'bmw')\n",
    "\n",
    "\n",
    "car = 'Audi'\n",
    "print(car == 'bmw')\n",
    "\n",
    "\n",
    "print(car =='audi')\n",
    "\n",
    "print(car.lower() == 'audi') ## .lower() doesn't change original value\n",
    "print(car)"
   ]
  },
  {
   "cell_type": "code",
   "execution_count": 14,
   "metadata": {},
   "outputs": [
    {
     "name": "stdout",
     "output_type": "stream",
     "text": [
      "Hold the anchovies!\n"
     ]
    }
   ],
   "source": [
    "## Checking for Inequality !=\n",
    "requested_topping = 'mushroom'\n",
    "\n",
    "if requested_topping != 'anchovies':\n",
    "    print(\"Hold the anchovies!\")"
   ]
  },
  {
   "cell_type": "code",
   "execution_count": 15,
   "metadata": {},
   "outputs": [
    {
     "data": {
      "text/plain": [
       "True"
      ]
     },
     "execution_count": 15,
     "metadata": {},
     "output_type": "execute_result"
    }
   ],
   "source": [
    "## Numerical Comparisons\n",
    "age = 18\n",
    "age == 18\n"
   ]
  },
  {
   "cell_type": "code",
   "execution_count": 16,
   "metadata": {},
   "outputs": [
    {
     "name": "stdout",
     "output_type": "stream",
     "text": [
      "wrong answer\n"
     ]
    }
   ],
   "source": [
    "answer = 17\n",
    "\n",
    "if answer != 42:\n",
    "    print(\"wrong answer\")"
   ]
  },
  {
   "cell_type": "code",
   "execution_count": 18,
   "metadata": {},
   "outputs": [
    {
     "name": "stdout",
     "output_type": "stream",
     "text": [
      "True\n",
      "False\n"
     ]
    }
   ],
   "source": [
    "age = 19\n",
    "print(age < 21)\n",
    "\n",
    "print(age >= 21)"
   ]
  },
  {
   "cell_type": "code",
   "execution_count": 20,
   "metadata": {},
   "outputs": [
    {
     "data": {
      "text/plain": [
       "False"
      ]
     },
     "execution_count": 20,
     "metadata": {},
     "output_type": "execute_result"
    }
   ],
   "source": [
    "## checking multiple condition\n",
    "age_0 = 22\n",
    "age_1 = 18\n",
    "age_0 >= 21 and age_1 >= 21\n",
    "(age_0 >= 21) and (age_1 >= 21) ## parenthasis make it easier to read"
   ]
  },
  {
   "cell_type": "code",
   "execution_count": 21,
   "metadata": {},
   "outputs": [
    {
     "name": "stdout",
     "output_type": "stream",
     "text": [
      "True\n",
      "False\n"
     ]
    }
   ],
   "source": [
    "### Checking Whether a Value is in a List\n",
    "## use keyword in\n",
    "\n",
    "toppings = ['mushrooms', 'onions', 'pineapple']\n",
    "\n",
    "print('mushrooms' in toppings)\n",
    "\n",
    "print('pepperoni' in toppings)\n"
   ]
  },
  {
   "cell_type": "code",
   "execution_count": 22,
   "metadata": {},
   "outputs": [
    {
     "name": "stdout",
     "output_type": "stream",
     "text": [
      "Marie, you can post a response if you wish\n"
     ]
    }
   ],
   "source": [
    "## whcking whether a use is NOT in a list\n",
    "\n",
    "banned_users = ['andrew', 'carolina', 'david']\n",
    "user = 'marie'\n",
    "\n",
    "if user not in banned_users:\n",
    "    print(user.title() + \", you can post a response if you wish\")"
   ]
  },
  {
   "cell_type": "code",
   "execution_count": 23,
   "metadata": {},
   "outputs": [],
   "source": [
    "## Boolean Expressions\n",
    "game_active = True\n",
    "can_edit = False\n"
   ]
  },
  {
   "cell_type": "code",
   "execution_count": 7,
   "metadata": {},
   "outputs": [
    {
     "name": "stdout",
     "output_type": "stream",
     "text": [
      "Is fave_brand == 'zara'? I think so\n",
      "True\n",
      "True\n",
      "True\n",
      "True\n",
      "True\n",
      "True\n",
      "False\n"
     ]
    }
   ],
   "source": [
    "### TRY IT YOURSELF 5.1 - 5.2\n",
    "brands = ['anthro', 'urban', 'hm', 'asos', 'zara']\n",
    "\n",
    "fave_brand = 'zara'\n",
    "\n",
    "print(\"Is fave_brand == 'zara'? I think so\")\n",
    "print(fave_brand == 'zara')\n",
    "\n",
    "\n",
    "print('zara' in brands)\n",
    "\n",
    "fave_2 ='Zara'\n",
    "\n",
    "print(fave_brand == fave_2.lower())\n",
    "\n",
    "my_age = 24\n",
    "my_age_last_year = 23\n",
    "\n",
    "print(my_age >= my_age_last_year)\n",
    "print(my_age < 25 and my_age_last_year < 25)\n",
    "\n",
    "print('hm' in brands)\n",
    "print('pottery barn' in brands)"
   ]
  },
  {
   "cell_type": "code",
   "execution_count": 9,
   "metadata": {},
   "outputs": [
    {
     "name": "stdout",
     "output_type": "stream",
     "text": [
      "yay you can vote\n",
      "have you registered?\n"
     ]
    }
   ],
   "source": [
    "## If Statements\n",
    "# Simple if Statements\n",
    "\n",
    "age = 19\n",
    "\n",
    "if age > 18:\n",
    "    print(\"yay you can vote\")\n",
    "    print(\"have you registered?\")"
   ]
  },
  {
   "cell_type": "code",
   "execution_count": 10,
   "metadata": {},
   "outputs": [
    {
     "name": "stdout",
     "output_type": "stream",
     "text": [
      "sorry not old enough to vote\n"
     ]
    }
   ],
   "source": [
    "## if else statements\n",
    "\n",
    "age = 17\n",
    "if age > 18:\n",
    "    print(\"yay you can vote\")\n",
    "else:\n",
    "    print(\"sorry not old enough to vote\")"
   ]
  },
  {
   "cell_type": "code",
   "execution_count": 13,
   "metadata": {},
   "outputs": [
    {
     "name": "stdout",
     "output_type": "stream",
     "text": [
      "admission 5 dollars\n",
      "your admission cost is $5.\n"
     ]
    }
   ],
   "source": [
    "## the if-elif-else chain\n",
    "# for more that two possible situations \n",
    "\n",
    "age = 12\n",
    "\n",
    "if age < 4:\n",
    "    print(\"free admission!\")\n",
    "elif age < 18:\n",
    "    print(\"admission 5 dollars\")\n",
    "else:\n",
    "    print(\"your admission is 10 dollars\")\n",
    "    \n",
    "\n",
    "    \n",
    "# runs each line until it can run one which is why <4 and <18 won't overlap\n",
    "\n",
    "\n",
    "# rather than printing the admission price within the if-elif-else block\n",
    "# it would be more concise to set the price inside the if-elif- else chain\n",
    "# then run a statement at the end\n",
    "\n",
    "if age < 4:\n",
    "    price = 0\n",
    "elif age < 18:\n",
    "    price = 5\n",
    "elif age < 65:\n",
    "    price = 10\n",
    "else:              # you don't always need a final else statement sometimes\n",
    "    price = 12     # another elif would make more sence ie here > 65\n",
    "\n",
    "print(\"your admission cost is $\" +str(price) + \".\")\n",
    "\n"
   ]
  },
  {
   "cell_type": "code",
   "execution_count": 15,
   "metadata": {},
   "outputs": [
    {
     "name": "stdout",
     "output_type": "stream",
     "text": [
      "adding mushrooms\n",
      "addign extra cheese\n",
      "\n",
      "Finished making your pizza!\n"
     ]
    }
   ],
   "source": [
    "### Testing Multiple Condition\n",
    "# if elif else run until they hit a \"True\"\n",
    "# sometimes you want it to run the whole program, in this case use\n",
    "# multiple if statements wiht no elif or else blocks\n",
    "\n",
    "requested_toppings = ['mushrooms', 'extra cheese']\n",
    "\n",
    "if 'mushrooms' in requested_toppings:\n",
    "    print(\"adding mushrooms\")\n",
    "if 'pepperoni' in requested_toppings:\n",
    "    print(\"adding pepperoni\")\n",
    "if 'extra cheese' in requested_toppings:\n",
    "    print(\"addign extra cheese\")\n",
    "    \n",
    "    \n",
    "print(\"\\nFinished making your pizza!\")"
   ]
  },
  {
   "cell_type": "code",
   "execution_count": 16,
   "metadata": {},
   "outputs": [],
   "source": [
    "## Take away: If you want only one block of code to run, use an if-elif-else chain. \n",
    "## If more than one block of code needs to run, use a series of independent if statements\n"
   ]
  },
  {
   "cell_type": "code",
   "execution_count": 28,
   "metadata": {},
   "outputs": [
    {
     "name": "stdout",
     "output_type": "stream",
     "text": [
      "5 points to you\n",
      "ten points\n",
      "fifteen points\n",
      "fifteen points\n",
      "fifteen points\n"
     ]
    },
    {
     "ename": "TypeError",
     "evalue": "'<=' not supported between instances of 'str' and 'int'",
     "output_type": "error",
     "traceback": [
      "\u001b[1;31m---------------------------------------------------------------------------\u001b[0m",
      "\u001b[1;31mTypeError\u001b[0m                                 Traceback (most recent call last)",
      "\u001b[1;32m<ipython-input-28-c006618768d3>\u001b[0m in \u001b[0;36m<module>\u001b[1;34m\u001b[0m\n\u001b[0;32m     47\u001b[0m \u001b[0mage\u001b[0m \u001b[1;33m=\u001b[0m \u001b[1;34m'cat'\u001b[0m\u001b[1;33m\u001b[0m\u001b[1;33m\u001b[0m\u001b[0m\n\u001b[0;32m     48\u001b[0m \u001b[1;33m\u001b[0m\u001b[0m\n\u001b[1;32m---> 49\u001b[1;33m \u001b[1;32mif\u001b[0m \u001b[0mage\u001b[0m \u001b[1;33m<=\u001b[0m \u001b[1;36m2\u001b[0m\u001b[1;33m:\u001b[0m\u001b[1;33m\u001b[0m\u001b[1;33m\u001b[0m\u001b[0m\n\u001b[0m\u001b[0;32m     50\u001b[0m     \u001b[0mperson\u001b[0m \u001b[1;33m=\u001b[0m \u001b[1;34m'baby'\u001b[0m\u001b[1;33m\u001b[0m\u001b[1;33m\u001b[0m\u001b[0m\n\u001b[0;32m     51\u001b[0m \u001b[1;32melif\u001b[0m \u001b[0mage\u001b[0m \u001b[1;33m<=\u001b[0m \u001b[1;36m4\u001b[0m\u001b[1;33m:\u001b[0m\u001b[1;33m\u001b[0m\u001b[1;33m\u001b[0m\u001b[0m\n",
      "\u001b[1;31mTypeError\u001b[0m: '<=' not supported between instances of 'str' and 'int'"
     ]
    }
   ],
   "source": [
    "## TRY IT YOURSELF 5. 3 -5.7\n",
    "\n",
    "alien_color = 'red'\n",
    "\n",
    "if alien_color == 'green':\n",
    "    print(\"5 points to you\")\n",
    "    \n",
    "if alien_color == 'red':\n",
    "    print(\"5 points to you\")\n",
    "    \n",
    "    \n",
    "if alien_color == 'green':\n",
    "    print(\"five points\")\n",
    "else:\n",
    "    print(\"ten points\")\n",
    "    \n",
    "\n",
    "    \n",
    "    \n",
    "if alien_color == 'green':\n",
    "    print(\"five points\")\n",
    "elif alien_color == 'yellow':\n",
    "    print(\"ten points\")\n",
    "else:\n",
    "    print(\"fifteen points\")\n",
    "    \n",
    "    \n",
    "    \n",
    "if alien_color == 'green':\n",
    "    print(\"five points\")\n",
    "if alien_color == 'yellow':\n",
    "    print(\"ten points\")\n",
    "if alien_color == 'red':\n",
    "    print(\"fifteen points\")\n",
    "    \n",
    "    \n",
    "    \n",
    "if alien_color == 'green':\n",
    "    print(\"five points\")\n",
    "elif alien_color == 'yellow':\n",
    "    print(\"ten points\")\n",
    "elif alien_color == 'red':\n",
    "    print(\"fifteen points\")\n",
    "    \n",
    "    \n",
    "    \n",
    "age = 24\n",
    "\n",
    "if age <= 2:\n",
    "    person = 'baby'\n",
    "elif age <= 4:\n",
    "    person = 'toddler'\n",
    "elif age <= 13:\n",
    "    person = 'kid'\n",
    "elif age <= 20:\n",
    "    person = 'teenager'\n",
    "elif age <= 65:\n",
    "    person = 'adult'\n",
    "elif age > 65:\n",
    "    person = 'elder'\n",
    "\n",
    "    \n",
    "print(\"this persion is a(n) \" + person)"
   ]
  },
  {
   "cell_type": "code",
   "execution_count": 31,
   "metadata": {},
   "outputs": [
    {
     "name": "stdout",
     "output_type": "stream",
     "text": [
      "adding mushrooms.\n",
      "sorry out of g pepps\n",
      "adding x cheese.\n",
      "\n",
      "Finished making your pizza\n"
     ]
    }
   ],
   "source": [
    "## Using if Statements WIth Lists\n",
    "toppings = ['mushrooms', 'g pepps', 'x cheese']\n",
    "\n",
    "for topping in toppings:\n",
    "    if topping == 'g pepps':\n",
    "        print(\"sorry out of g pepps\")\n",
    "    else:\n",
    "        print(\"adding \" + topping + \".\")\n",
    "\n",
    "\n",
    "print(\"\\nFinished making your pizza\")"
   ]
  },
  {
   "cell_type": "code",
   "execution_count": 32,
   "metadata": {},
   "outputs": [
    {
     "name": "stdout",
     "output_type": "stream",
     "text": [
      "are you sure you just want bread?\n"
     ]
    }
   ],
   "source": [
    "## Checking That a List is Not Empty\n",
    "\n",
    "toppings = []\n",
    "\n",
    "if toppings:\n",
    "    for topping in toppigns:\n",
    "        print(\"adding \" + topping)\n",
    "    print(\"\\finished pizza\")\n",
    "else:\n",
    "    print(\"are you sure you just want bread?\")"
   ]
  },
  {
   "cell_type": "code",
   "execution_count": 34,
   "metadata": {},
   "outputs": [
    {
     "name": "stdout",
     "output_type": "stream",
     "text": [
      "adding rooms\n",
      "soz we don't have f fries\n",
      "adding x cheese\n",
      "\n",
      "Finished with your pizza\n"
     ]
    }
   ],
   "source": [
    "### using multiple lists\n",
    "\n",
    "avail_tops = ['rooms', 'olives', 'g pepps', \n",
    "             'peppi', 'pine', 'x cheese']\n",
    "\n",
    "r_tops = ['rooms', 'f fries', 'x cheese']\n",
    "\n",
    "for r_top in r_tops:\n",
    "    if r_top in avail_tops:\n",
    "        print(\"adding \" + r_top)\n",
    "    else:\n",
    "        print(\"soz we don't have \" + r_top)\n",
    "        \n",
    "print(\"\\nFinished with your pizza\")"
   ]
  },
  {
   "cell_type": "code",
   "execution_count": 49,
   "metadata": {},
   "outputs": [
    {
     "name": "stdout",
     "output_type": "stream",
     "text": [
      "We need to find some users!\n",
      "sorry already in use\n",
      "user: acal available\n",
      "user: hrush available\n",
      "user: scall available\n",
      "sorry already in use\n",
      "\n",
      "1st\n",
      "\n",
      "2nd\n",
      "\n",
      "3rd\n",
      "\n",
      "4th\n",
      "\n",
      "5th\n",
      "\n",
      "6th\n",
      "\n",
      "7th\n",
      "\n",
      "8th\n",
      "\n",
      "9th\n"
     ]
    }
   ],
   "source": [
    "#### TRY IT YOURSELF\n",
    "#users = ['admin', 'arush', 'rnetti', 'rwag', 'cbeck']\n",
    "users = []\n",
    "\n",
    "if users:\n",
    "    for user in users:\n",
    "        if user == 'admin':\n",
    "            print(\"hello admin would you like to see a satus report\")\n",
    "        else:\n",
    "            print(\"Hello \" + user + \" thanks for logging on\")\n",
    "else:\n",
    "    print(\"We need to find some users!\")\n",
    "    \n",
    "    \n",
    "current_users = ['admin', 'arush', 'rnetti', 'rwag', 'cbeck']\n",
    "new_users = ['arush', 'acal', 'hrush', 'scall', 'RWAG']\n",
    "\n",
    "for new_user in new_users:\n",
    "    if new_user.lower() in current_users:\n",
    "        print(\"sorry already in use\")\n",
    "    else:\n",
    "        print(\"user: \" + new_user + \" available\")\n",
    "        \n",
    "        \n",
    "ordinals = [1, 2, 3, 4, 5, 6, 7, 8, 9]\n",
    "\n",
    "for ordinal in ordinals:\n",
    "    if ordinal == 1:\n",
    "        print(\"\\n\" + str(ordinal) + \"st\")\n",
    "    elif ordinal == 2:\n",
    "        print(\"\\n\" + str(ordinal) + \"nd\")\n",
    "    elif ordinal == 3:\n",
    "        print(\"\\n\" + str(ordinal) + \"rd\")\n",
    "    else:\n",
    "        print(\"\\n\" + str(ordinal) + \"th\")\n",
    "    \n"
   ]
  },
  {
   "cell_type": "code",
   "execution_count": 50,
   "metadata": {},
   "outputs": [],
   "source": [
    "### Styling Your If Statements\n",
    "## PEP recommends space ie \n",
    "# age < 4 not\n",
    "# age<4\n"
   ]
  },
  {
   "cell_type": "code",
   "execution_count": null,
   "metadata": {},
   "outputs": [],
   "source": []
  }
 ],
 "metadata": {
  "kernelspec": {
   "display_name": "prac",
   "language": "python",
   "name": "prac"
  },
  "language_info": {
   "codemirror_mode": {
    "name": "ipython",
    "version": 3
   },
   "file_extension": ".py",
   "mimetype": "text/x-python",
   "name": "python",
   "nbconvert_exporter": "python",
   "pygments_lexer": "ipython3",
   "version": "3.8.5"
  }
 },
 "nbformat": 4,
 "nbformat_minor": 4
}
