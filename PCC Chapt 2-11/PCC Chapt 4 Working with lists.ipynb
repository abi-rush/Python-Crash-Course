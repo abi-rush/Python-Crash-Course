{
 "cells": [
  {
   "cell_type": "code",
   "execution_count": 2,
   "metadata": {},
   "outputs": [
    {
     "name": "stdout",
     "output_type": "stream",
     "text": [
      "alice\n",
      "david\n",
      "carolina\n"
     ]
    }
   ],
   "source": [
    "magicians = ['alice', 'david', 'carolina']\n",
    "for magician in magicians:\n",
    "    print(magician)"
   ]
  },
  {
   "cell_type": "code",
   "execution_count": 3,
   "metadata": {},
   "outputs": [],
   "source": [
    "### python reads the above as take the first element (alice) in magicians and call it magician and perform task\n",
    "## then take the sencond element (david) and call it magician and perform the task until there are no more elements\n",
    "\n",
    "# you can choose any name for the temp variable (ie magician) but it is helpful to choose a meaningful name ie dog in dogs\n",
    "# ie for item in list_of_items"
   ]
  },
  {
   "cell_type": "code",
   "execution_count": 4,
   "metadata": {},
   "outputs": [
    {
     "name": "stdout",
     "output_type": "stream",
     "text": [
      "Alice, that was a great trick!\n",
      "David, that was a great trick!\n",
      "Carolina, that was a great trick!\n"
     ]
    }
   ],
   "source": [
    "## build on the previous example\n",
    "\n",
    "for magician in magicians:\n",
    "    print(magician.title() + \", that was a great trick!\")"
   ]
  },
  {
   "cell_type": "code",
   "execution_count": 6,
   "metadata": {},
   "outputs": [
    {
     "name": "stdout",
     "output_type": "stream",
     "text": [
      "Alice, that was a great trick!\n",
      "I can't wait to see your next trick, Alice.\n",
      "\n",
      "David, that was a great trick!\n",
      "I can't wait to see your next trick, David.\n",
      "\n",
      "Carolina, that was a great trick!\n",
      "I can't wait to see your next trick, Carolina.\n",
      "\n"
     ]
    }
   ],
   "source": [
    "## every indented line is considered \"inside the loop\"\n",
    "## and each indented line is executed once for each value in the list\n",
    "\n",
    "## build on above again\n",
    "for magician in magicians:\n",
    "    print(magician.title() + \", that was a great trick!\")\n",
    "    print(\"I can't wait to see your next trick, \" + magician.title() + \".\\n\")"
   ]
  },
  {
   "cell_type": "code",
   "execution_count": 7,
   "metadata": {},
   "outputs": [
    {
     "name": "stdout",
     "output_type": "stream",
     "text": [
      "Alice, that was a great trick!\n",
      "I can't wait to see your next trick, Alice.\n",
      "\n",
      "David, that was a great trick!\n",
      "I can't wait to see your next trick, David.\n",
      "\n",
      "Carolina, that was a great trick!\n",
      "I can't wait to see your next trick, Carolina.\n",
      "\n",
      "thanks for a great show!\n"
     ]
    }
   ],
   "source": [
    "## doing something after a for loop\n",
    "## display amessage after the for loop\n",
    "\n",
    "for magician in magicians:\n",
    "    print(magician.title() + \", that was a great trick!\")\n",
    "    print(\"I can't wait to see your next trick, \" + magician.title() + \".\\n\")\n",
    "    \n",
    "print(\"thanks for a great show!\")"
   ]
  },
  {
   "cell_type": "code",
   "execution_count": 11,
   "metadata": {},
   "outputs": [
    {
     "name": "stdout",
     "output_type": "stream",
     "text": [
      "I like greek pizza\n",
      "I like white pizza\n",
      "I like veggie pizza\n",
      "if you couldn't tell, I really love pizza\n",
      "A dog would make a great pet.\n",
      "A cat would make a great pet.\n",
      "A donkey would make a great pet.\n",
      "Which of these would be your fav pet?\n"
     ]
    }
   ],
   "source": [
    "### TRY IT YOURSELF 4.1 - 4.2\n",
    "\n",
    "pizzas = ['greek', 'white', 'veggie']\n",
    "\n",
    "for pizza in pizzas:\n",
    "    print(\"I like \" + pizza + \" pizza\")\n",
    "    \n",
    "print(\"if you couldn't tell, I really love pizza\")\n",
    "\n",
    "\n",
    "animals = ['dog', 'cat', 'donkey']\n",
    "\n",
    "for animal in animals:\n",
    "    print(\"A \" + animal + \" would make a great pet.\")\n",
    "\n",
    "print(\"Which of these would be your fav pet?\")"
   ]
  },
  {
   "cell_type": "code",
   "execution_count": 13,
   "metadata": {},
   "outputs": [
    {
     "name": "stdout",
     "output_type": "stream",
     "text": [
      "1\n",
      "2\n",
      "3\n",
      "4\n",
      "1\n",
      "2\n",
      "3\n",
      "4\n",
      "5\n"
     ]
    }
   ],
   "source": [
    "## Making Numberical Lists\n",
    "# range()\n",
    "\n",
    "for value in range(1,5):\n",
    "    print(value)\n",
    "    \n",
    "for value in range(1,6):\n",
    "    print(value)"
   ]
  },
  {
   "cell_type": "code",
   "execution_count": 14,
   "metadata": {},
   "outputs": [
    {
     "name": "stdout",
     "output_type": "stream",
     "text": [
      "[1, 2, 3, 4, 5]\n"
     ]
    }
   ],
   "source": [
    "## Using range() to Make a List\n",
    "numbers = list(range(1,6))\n",
    "print(numbers)"
   ]
  },
  {
   "cell_type": "code",
   "execution_count": 15,
   "metadata": {},
   "outputs": [
    {
     "name": "stdout",
     "output_type": "stream",
     "text": [
      "[2, 4, 6, 8, 10]\n"
     ]
    }
   ],
   "source": [
    "## skip numbers in a given range\n",
    "even_numbers = list(range(2,11,2))\n",
    "print(even_numbers)"
   ]
  },
  {
   "cell_type": "code",
   "execution_count": 17,
   "metadata": {},
   "outputs": [
    {
     "name": "stdout",
     "output_type": "stream",
     "text": [
      "[1, 4, 9, 16, 25, 36, 49, 64, 81, 100]\n",
      "[1, 4, 9, 16, 25, 36, 49, 64, 81, 100]\n"
     ]
    }
   ],
   "source": [
    "## put first 10 squared numbers into a list\n",
    "\n",
    "squares = []\n",
    "\n",
    "for value in range(1,11):\n",
    "    square = value ** 2\n",
    "    squares.append(square)\n",
    "\n",
    "print(squares)\n",
    "\n",
    "## sma ejust more concise\n",
    "\n",
    "squares = []\n",
    "\n",
    "for value in range(1,11):\n",
    "    squares.append(value ** 2)\n",
    "\n",
    "print(squares)"
   ]
  },
  {
   "cell_type": "code",
   "execution_count": 18,
   "metadata": {},
   "outputs": [
    {
     "name": "stdout",
     "output_type": "stream",
     "text": [
      "0\n",
      "9\n",
      "45\n"
     ]
    }
   ],
   "source": [
    "### a few python functions are specific to lsits of numbers\n",
    "\n",
    "digits =[1, 2, 3, 4, 5, 6, 7, 8, 9, 0]\n",
    "print(min(digits))\n",
    "print(max(digits))\n",
    "print(sum(digits))"
   ]
  },
  {
   "cell_type": "code",
   "execution_count": 20,
   "metadata": {},
   "outputs": [
    {
     "name": "stdout",
     "output_type": "stream",
     "text": [
      "[1, 4, 9, 16, 25, 36, 49, 64, 81, 100]\n"
     ]
    }
   ],
   "source": [
    "## List Comprehension\n",
    "## A list comprehension allows you to generate a list like squares above in one line of code. It combines the for loop and \n",
    "## creation of new elements into one line, and automatically appends each new element.\n",
    "\n",
    "squares = [value ** 2 for value in range(1,11)]\n",
    "print(squares)\n",
    "\n",
    "# here [ define you want a list]\n",
    "# argument one is the expression \n",
    "# and argument 2 is the for loop"
   ]
  },
  {
   "cell_type": "code",
   "execution_count": 24,
   "metadata": {},
   "outputs": [
    {
     "name": "stdout",
     "output_type": "stream",
     "text": [
      "[1, 2, 3, 4, 5, 6, 7, 8, 9, 10, 11, 12, 13, 14, 15, 16, 17, 18, 19, 20]\n",
      "1\n",
      "1000000\n",
      "500000500000\n"
     ]
    }
   ],
   "source": [
    "### TRY IT YOURSELF 4.3 through 4.9\n",
    "\n",
    "counts = []\n",
    "\n",
    "for value in range(1,21):\n",
    "    counts.append(value)\n",
    "\n",
    "print(counts)\n",
    "\n",
    "\n",
    "amills = list(range(1,1000001))\n",
    "\n",
    "#for mill in amills:\n",
    "   \n",
    "    #print(mill)\n",
    "    \n",
    "print(min(amills))\n",
    "print(max(amills))\n",
    "print(sum(amills))"
   ]
  },
  {
   "cell_type": "code",
   "execution_count": 36,
   "metadata": {},
   "outputs": [
    {
     "name": "stdout",
     "output_type": "stream",
     "text": [
      "[1, 3, 5, 7, 9, 11, 13, 15, 17, 19]\n",
      "1\n",
      "3\n",
      "5\n",
      "7\n",
      "9\n",
      "11\n",
      "13\n",
      "15\n",
      "17\n",
      "19\n",
      "[1, 3, 5, 7, 9, 11, 13, 15, 17, 19]\n",
      "3\n",
      "6\n",
      "9\n",
      "12\n",
      "15\n",
      "18\n",
      "21\n",
      "24\n",
      "27\n",
      "30\n",
      "[1, 8, 27, 64, 125, 216, 343, 512, 729, 1000]\n",
      "[1, 8, 27, 64, 125, 216, 343, 512, 729, 1000]\n"
     ]
    }
   ],
   "source": [
    "odds = list(range(1,21,2))\n",
    "print(odds)\n",
    "\n",
    "for odd in odds:\n",
    "    print(odd)\n",
    "    \n",
    "odds2 = [value for value in range(1,21,2)]\n",
    "print(odds2)\n",
    "\n",
    "\n",
    "threes = list(range(3,31,3))\n",
    "\n",
    "for three in threes:\n",
    "    print(three)\n",
    "    \n",
    "    \n",
    "cubes = []\n",
    "\n",
    "for cube in range(1,11):\n",
    "    cubes.append(cube ** 3)\n",
    "    \n",
    "print(cubes)\n",
    "\n",
    "cubescomp = [number ** 3 for number in range(1,11)]\n",
    "print(cubescomp)"
   ]
  },
  {
   "cell_type": "code",
   "execution_count": 8,
   "metadata": {},
   "outputs": [
    {
     "name": "stdout",
     "output_type": "stream",
     "text": [
      "['chas', 'martin', 'mike']\n",
      "['martin', 'mike', 'flo']\n",
      "['chas', 'martin', 'mike']\n",
      "['flo', 'eli']\n",
      "['mike', 'flo', 'eli']\n",
      "chas is a player on the team\n",
      "martin is a player on the team\n",
      "mike is a player on the team\n"
     ]
    }
   ],
   "source": [
    "## Working with Part of a List\n",
    "## SLICE - work with a group of items in a list\n",
    "\n",
    "## specify the indecx of the first and last elements you want to work with\n",
    "\n",
    "players = ['chas', 'martin', 'mike', 'flo', 'eli']\n",
    "print(players[0:3])\n",
    "\n",
    "print(players[1:4])\n",
    "\n",
    "## if you omit beginning starts at the beginning of the list and vise vers\n",
    "print(players[:3])\n",
    "print(players[3:])\n",
    "print(players[-3:])\n",
    "\n",
    "\n",
    "## looping through a splice\n",
    "\n",
    "for player in players[:3]:\n",
    "    print(player + \" is a player on the team\")\n",
    "    \n",
    "    \n"
   ]
  },
  {
   "cell_type": "code",
   "execution_count": 13,
   "metadata": {},
   "outputs": [
    {
     "name": "stdout",
     "output_type": "stream",
     "text": [
      "['pizza', 'falafel', ' carrot cake']\n",
      "['pizza', 'falafel', ' carrot cake']\n",
      "['pizza', 'falafel', ' carrot cake', 'canoli']\n",
      "['pizza', 'falafel', ' carrot cake', 'ice cream']\n",
      "['pizza', 'falafel', ' carrot cake', 'ice cream', 'banana']\n",
      "['pizza', 'falafel', ' carrot cake', 'ice cream', 'banana']\n"
     ]
    }
   ],
   "source": [
    "# Copying a List\n",
    "# make a new list from an existing list \n",
    "\n",
    "my_foods = ['pizza', 'falafel', ' carrot cake']\n",
    "friend_foods = my_foods[:]\n",
    "\n",
    "print(my_foods)\n",
    "print(friend_foods)\n",
    "\n",
    "my_foods.append('canoli')\n",
    "friend_foods.append('ice cream')\n",
    "\n",
    "print(my_foods)\n",
    "print(friend_foods)\n",
    "\n",
    "## this doesn't work like the above!!!!!\n",
    "## this connects them and they change together\n",
    "\n",
    "my_foods = friend_foods\n",
    "\n",
    "my_foods.append('banana')\n",
    "\n",
    "print(my_foods)\n",
    "print(friend_foods)"
   ]
  },
  {
   "cell_type": "code",
   "execution_count": 20,
   "metadata": {},
   "outputs": [
    {
     "name": "stdout",
     "output_type": "stream",
     "text": [
      "the first three players are: \n",
      "chas\n",
      "martin\n",
      "Three items in the middle of the list are: \n",
      "martin\n",
      "mike\n",
      "flo\n",
      "The last there items in the list are:\n",
      "\tmike\n",
      "\tflo\n",
      "\teli\n",
      "['greek', 'white', 'veggie', 'pepper']\n",
      "['greek', 'white', 'veggie', 'spicy']\n"
     ]
    }
   ],
   "source": [
    "### TRY IT YOURSELF 4.10 - 4.12\n",
    "print(\"the first three players are: \")\n",
    "for player in players[:2]:\n",
    "    print(player)\n",
    "\n",
    "print(\"Three items in the middle of the list are: \")\n",
    "for player in players[1:4]:\n",
    "    print(player)\n",
    "    \n",
    "print(\"The last there items in the list are:\")\n",
    "for player in players[2:5]:\n",
    "    print(\"\\t\" + player)\n",
    "    \n",
    "    \n",
    "pizzas = ['greek', 'white', 'veggie']  \n",
    "friend_pizzas = ['greek', 'white', 'veggie']\n",
    "pizzas.append('pepper')\n",
    "\n",
    "friend_pizzas.append('spicy')\n",
    "\n",
    "print(pizzas)\n",
    "print(friend_pizzas)\n",
    "\n",
    "## basically did do 4.12 above so not doing"
   ]
  },
  {
   "cell_type": "code",
   "execution_count": 26,
   "metadata": {},
   "outputs": [
    {
     "name": "stdout",
     "output_type": "stream",
     "text": [
      "200\n",
      "50\n",
      "200\n",
      "50\n",
      "\n",
      "Original dims:\n",
      "200\n",
      "50\n",
      "\n",
      "Modified dimensions: \n",
      "400\n",
      "100\n"
     ]
    }
   ],
   "source": [
    "## TUPLES \n",
    "## values that cannot change are immutable\n",
    "## an immutable list is a tuple\n",
    "## looks like a list but use () instead of []\n",
    "## access items using an index jsut like in a list\n",
    "\n",
    "dimensions = (200, 50)\n",
    "print(dimensions[0])\n",
    "print(dimensions[1])\n",
    "\n",
    "\n",
    "## what happens when you try to change a value in a tuple\n",
    "# dimensions[0] = 250 \n",
    "# gives an error\n",
    "\n",
    "\n",
    "## looping rhough all values in a tuple\n",
    "\n",
    "for dim in dimensions:\n",
    "    print(dim)\n",
    "    \n",
    "    \n",
    "## Writing over a tuple\n",
    "print(\"\\nOriginal dims:\")\n",
    "for dim in dimensions:\n",
    "    print(dim)\n",
    "    \n",
    "dimensions = (400, 100)\n",
    "print(\"\\nModified dimensions: \")\n",
    "for dim in dimensions:\n",
    "    print(dim)"
   ]
  },
  {
   "cell_type": "code",
   "execution_count": 30,
   "metadata": {},
   "outputs": [
    {
     "name": "stdout",
     "output_type": "stream",
     "text": [
      "stuffing\n",
      "corn\n",
      "chicken\n",
      "pasta\n",
      "pudding\n",
      "\n",
      "\n",
      "fruit\n",
      "bread\n",
      "chicken\n",
      "pasta\n",
      "pudding\n"
     ]
    }
   ],
   "source": [
    "#### TRY IT YOURSELF 4.13\n",
    "\n",
    "buffet = ('stuffing', 'corn', 'chicken', 'pasta', 'pudding')\n",
    "for food in buffet:\n",
    "    print(food)\n",
    "    \n",
    "# buffet[0] = 'cake'\n",
    "\n",
    "buffet = ('fruit', 'bread', 'chicken', 'pasta', 'pudding')\n",
    "print(\"\\n\")\n",
    "for food in buffet:\n",
    "    print(food)\n"
   ]
  },
  {
   "cell_type": "code",
   "execution_count": 6,
   "metadata": {},
   "outputs": [
    {
     "ename": "NameError",
     "evalue": "name 'version' is not defined",
     "output_type": "error",
     "traceback": [
      "\u001b[1;31m---------------------------------------------------------------------------\u001b[0m",
      "\u001b[1;31mNameError\u001b[0m                                 Traceback (most recent call last)",
      "\u001b[1;32m<ipython-input-6-f637eec65da3>\u001b[0m in \u001b[0;36m<module>\u001b[1;34m\u001b[0m\n\u001b[0;32m      6\u001b[0m     \u001b[1;31m# most text editors will let yo insert a visual cue at these limits\u001b[0m\u001b[1;33m\u001b[0m\u001b[1;33m\u001b[0m\u001b[1;33m\u001b[0m\u001b[0m\n\u001b[0;32m      7\u001b[0m \u001b[1;33m\u001b[0m\u001b[0m\n\u001b[1;32m----> 8\u001b[1;33m \u001b[0mversion\u001b[0m\u001b[1;33m(\u001b[0m\u001b[1;33m)\u001b[0m\u001b[1;33m\u001b[0m\u001b[1;33m\u001b[0m\u001b[0m\n\u001b[0m\u001b[0;32m      9\u001b[0m \u001b[1;32mfrom\u001b[0m \u001b[0mnotebook\u001b[0m\u001b[1;33m.\u001b[0m\u001b[0mservices\u001b[0m\u001b[1;33m.\u001b[0m\u001b[0mconfig\u001b[0m \u001b[1;32mimport\u001b[0m \u001b[0mConfigManager\u001b[0m\u001b[1;33m\u001b[0m\u001b[1;33m\u001b[0m\u001b[0m\n\u001b[0;32m     10\u001b[0m \u001b[0mip\u001b[0m \u001b[1;33m=\u001b[0m \u001b[0mget_ipython\u001b[0m\u001b[1;33m(\u001b[0m\u001b[1;33m)\u001b[0m\u001b[1;33m\u001b[0m\u001b[1;33m\u001b[0m\u001b[0m\n",
      "\u001b[1;31mNameError\u001b[0m: name 'version' is not defined"
     ]
    }
   ],
   "source": [
    "### Styling your code PEP guidelines (this is PEP 8)\n",
    "## four spaces = indentation\n",
    "## make sure text editor is doing four spaces and not an indentation\n",
    "## each line should be less than 80 characters and 72 for comment lines\n",
    "    # this helps when doing split screens and for printing\n",
    "    # most text editors will let yo insert a visual cue at these limits \n",
    "    \n",
    "\n",
    " ##### couldn't figure out how to get the vertical line :\n",
    "#<------ 10 <------ 20 <------ 30 <------ 40 <------ 50 <------ 60 <------ 70 <------ x\n",
    "\n",
    "\n",
    "### Blank Lines\n",
    "# strike a balance not too many but not too few\n",
    "# ie code to make a list and then a blank and then 5 lines of code that do something \n",
    "# with that and then maybe 2 but thats just my idea\n"
   ]
  },
  {
   "cell_type": "code",
   "execution_count": 7,
   "metadata": {},
   "outputs": [
    {
     "name": "stdout",
     "output_type": "stream",
     "text": [
      "3.8.5\n"
     ]
    }
   ],
   "source": [
    "#### TRY IT YOURSELF 4.14 - 4.15\n",
    "### basically did this already\n",
    "\n"
   ]
  },
  {
   "cell_type": "code",
   "execution_count": null,
   "metadata": {},
   "outputs": [],
   "source": []
  }
 ],
 "metadata": {
  "kernelspec": {
   "display_name": "prac",
   "language": "python",
   "name": "prac"
  },
  "language_info": {
   "codemirror_mode": {
    "name": "ipython",
    "version": 3
   },
   "file_extension": ".py",
   "mimetype": "text/x-python",
   "name": "python",
   "nbconvert_exporter": "python",
   "pygments_lexer": "ipython3",
   "version": "3.8.5"
  }
 },
 "nbformat": 4,
 "nbformat_minor": 4
}
