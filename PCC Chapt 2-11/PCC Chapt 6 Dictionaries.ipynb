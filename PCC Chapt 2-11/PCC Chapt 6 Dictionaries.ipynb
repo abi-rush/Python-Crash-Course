{
 "cells": [
  {
   "cell_type": "code",
   "execution_count": 1,
   "metadata": {},
   "outputs": [],
   "source": [
    "## dictionaries allow you to connect pieces of related information\n",
    "## dictionaries can store an almost limitless amount of info\n",
    "# nest dictionaries inside lists, lists in dictionaries, and\n",
    "# dictionaries in other dictionaries\n"
   ]
  },
  {
   "cell_type": "code",
   "execution_count": 2,
   "metadata": {},
   "outputs": [
    {
     "name": "stdout",
     "output_type": "stream",
     "text": [
      "green\n",
      "5\n"
     ]
    }
   ],
   "source": [
    "# A Simple Dictionary\n",
    "\n",
    "alien_0 = {'color': 'green', 'points': 5}\n",
    "print(alien_0['color'])\n",
    "print(alien_0['points'])"
   ]
  },
  {
   "cell_type": "code",
   "execution_count": 3,
   "metadata": {},
   "outputs": [
    {
     "name": "stdout",
     "output_type": "stream",
     "text": [
      "you just scored 5 points!\n"
     ]
    }
   ],
   "source": [
    "## a DICTIONARY in python is a collection of key-value pairs\n",
    "# each key is connected to a value, and you can use a key to \n",
    "# access the value associated with that key.\n",
    "# a key's value can be a number, string, list, or another\n",
    "# dictionary.\n",
    "# indcated using braces {}\n",
    "# KEY VALUE PAIR is a set of values associated with each other \n",
    "# connected with a colon :\n",
    "# simplist possible: alien_0{'color': 'green'}\n",
    "\n",
    "new_points = alien_0['points']\n",
    "print(\"you just scored \" + str(new_points) + \" points!\")"
   ]
  },
  {
   "cell_type": "code",
   "execution_count": 6,
   "metadata": {},
   "outputs": [
    {
     "name": "stdout",
     "output_type": "stream",
     "text": [
      "{'color': 'green', 'points': 5, 'x_pos': 0, 'y_pos': 25}\n",
      "{'color': 'green', 'points': 5, 'x_pos': 0, 'y_pos': 25}\n"
     ]
    }
   ],
   "source": [
    "## Adding New Key-Value Pairs\n",
    "\n",
    "print(alien_0)\n",
    "\n",
    "alien_0['x_pos'] = 0\n",
    "alien_0['y_pos'] = 25\n",
    "print(alien_0)\n",
    "## dictionaries don't car about the order in which you store\n",
    "## each value pair"
   ]
  },
  {
   "cell_type": "code",
   "execution_count": 7,
   "metadata": {},
   "outputs": [
    {
     "name": "stdout",
     "output_type": "stream",
     "text": [
      "{'color': 'green', 'points': 5}\n"
     ]
    }
   ],
   "source": [
    "# Starting wiht an Empty Dictionary\n",
    "# you will usually start with an empty dictionary when storing\n",
    "# user supplied data\n",
    "alien_0 = {}\n",
    "\n",
    "alien_0['color'] = 'green'\n",
    "alien_0['points'] = 5\n",
    "\n",
    "print(alien_0)"
   ]
  },
  {
   "cell_type": "code",
   "execution_count": 9,
   "metadata": {},
   "outputs": [
    {
     "name": "stdout",
     "output_type": "stream",
     "text": [
      "The alien is green.\n",
      "THe alien is now yellow.\n"
     ]
    }
   ],
   "source": [
    "## Modifying Values in a Dictionary\n",
    "\n",
    "alien_0 = {'color': 'green'}\n",
    "print(\"The alien is \" + alien_0['color'] + \".\")\n",
    "\n",
    "alien_0['color'] = 'yellow'\n",
    "print(\"THe alien is now \" + alien_0['color'] + '.')"
   ]
  },
  {
   "cell_type": "code",
   "execution_count": 12,
   "metadata": {},
   "outputs": [
    {
     "name": "stdout",
     "output_type": "stream",
     "text": [
      "Original x-pos: 0\n",
      "New x_pos: 3\n"
     ]
    }
   ],
   "source": [
    "## example of tracking the pos of an alien that can move\n",
    "## at diff speeds\n",
    "\n",
    "alien_0 = {'x_pos': 0, \"y_pos\": 25, 'speed': 'fast'}\n",
    "print(\"Original x-pos: \" + str(alien_0['x_pos']))\n",
    "\n",
    "## move the alien to the right\n",
    "## determine how far to move the alien based on current speed\n",
    "\n",
    "if alien_0['speed'] == 'slow':\n",
    "    x_inc = 1\n",
    "elif alien_0['speed'] == 'medium':\n",
    "    x_inc = 2\n",
    "else:\n",
    "    #this must be a fast alien\n",
    "    x_inc = 3\n",
    "    \n",
    "## The new pos is the old pos plus the inc\n",
    "alien_0['x_pos'] = alien_0['x_pos'] + x_inc\n",
    "\n",
    "print(\"New x_pos: \" + str(alien_0['x_pos']))"
   ]
  },
  {
   "cell_type": "code",
   "execution_count": 13,
   "metadata": {},
   "outputs": [
    {
     "name": "stdout",
     "output_type": "stream",
     "text": [
      "{'color': 'green', 'points': 5}\n",
      "{'color': 'green'}\n"
     ]
    }
   ],
   "source": [
    "# Removing Key-Value Pairs\n",
    "alien_0 = {'color': 'green', 'points': 5}\n",
    "print(alien_0)\n",
    "\n",
    "del alien_0['points']\n",
    "print(alien_0)"
   ]
  },
  {
   "cell_type": "code",
   "execution_count": 2,
   "metadata": {},
   "outputs": [
    {
     "name": "stdout",
     "output_type": "stream",
     "text": [
      "Sarah's fav lang is C.\n"
     ]
    }
   ],
   "source": [
    "## A dictionary of Similar Objects\n",
    "\n",
    "fav_langs = {\n",
    "    'jen': 'python', \n",
    "    'sarah': 'c', \n",
    "    'ed': 'ruby', \n",
    "    'phil': 'python'\n",
    "    }\n",
    "\n",
    "\n",
    "print(\"Sarah's fav lang is \" + fav_langs['sarah'].title() + \".\")"
   ]
  },
  {
   "cell_type": "code",
   "execution_count": 47,
   "metadata": {},
   "outputs": [
    {
     "name": "stdout",
     "output_type": "stream",
     "text": [
      "{'first': 'nellie', 'last': 'rushworth', 'age': 10, 'city': 'oriental'}\n",
      "nellie\n",
      "rushworth\n",
      "10\n",
      "oriental\n",
      "abi's favorite number is: 13\n",
      "ann 12\n",
      "stu 45\n",
      "harry 57\n",
      "rach 57\n"
     ]
    }
   ],
   "source": [
    "## TRY IT YOURSELF 6.1 - 6.3\n",
    "\n",
    "person = {'first': 'nellie', 'last': 'rushworth', 'age': 10, 'city': 'oriental'}\n",
    "print(person)\n",
    "\n",
    "print(person['first'])\n",
    "print(person['last'])\n",
    "print(person['age'])\n",
    "print(person['city'])\n",
    "\n",
    "\n",
    "fav_num = {'abi': 13, 'ann': 12, 'stu': 45, 'rach': 57, 'harry': 22}\n",
    "\n",
    "print(\"abi's favorite number is: \" + str(fav_num['abi']))\n",
    "print('ann ' + str(fav_num['ann']))\n",
    "print('stu ' + str(fav_num['stu']))\n",
    "print('harry ' + str(fav_num['rach']))\n",
    "print('rach ' + str(fav_num['rach']))\n",
    "\n",
    "\n",
    " "
   ]
  },
  {
   "cell_type": "code",
   "execution_count": 26,
   "metadata": {},
   "outputs": [
    {
     "name": "stdout",
     "output_type": "stream",
     "text": [
      "\n",
      "Key: username\n",
      "Value: efermi\n",
      "\n",
      "Key: first\n",
      "Value: enrico\n",
      "\n",
      "Key: last\n",
      "Value: fermi\n"
     ]
    }
   ],
   "source": [
    "## Looping Through A Dictionary\n",
    "## Looping Through All Key-Value Pairs\n",
    "\n",
    "user_0 = {\n",
    "    'username': 'efermi',\n",
    "    'first': 'enrico',\n",
    "    'last': 'fermi'\n",
    "    }\n",
    "\n",
    "\n",
    "# key, value can be anything, names created for the two variable\n",
    "# then you have the name of the dictionary followed by .items()\n",
    "# which returns a list of key valued pairs\n",
    "for key, value in user_0.items():\n",
    "    print(\"\\nKey: \" + key)\n",
    "    print(\"Value: \" + value)\n",
    "\n",
    "\n",
    "\n",
    "## left off on top of page 104"
   ]
  },
  {
   "cell_type": "code",
   "execution_count": 5,
   "metadata": {},
   "outputs": [
    {
     "name": "stdout",
     "output_type": "stream",
     "text": [
      "\n",
      "Name: Jen\n",
      "Lang: Python\n",
      "\n",
      "Name: Sarah\n",
      "Lang: C\n",
      "\n",
      "Name: Ed\n",
      "Lang: Ruby\n",
      "\n",
      "Name: Phil\n",
      "Lang: Python\n"
     ]
    }
   ],
   "source": [
    "## AGain but with the languages set\n",
    "for name, lang in fav_langs.items():\n",
    "    print(\"\\nName: \" + name.title())\n",
    "    print(\"Lang: \" + lang.title())"
   ]
  },
  {
   "cell_type": "code",
   "execution_count": 13,
   "metadata": {},
   "outputs": [
    {
     "name": "stdout",
     "output_type": "stream",
     "text": [
      "Jen\n",
      "Sarah\n",
      "Ed\n",
      "Phil\n",
      "\n",
      "\n",
      "Jen\n",
      "Sarah\n",
      "Ed\n",
      "Phil\n",
      "Jen\n",
      "Sarah\n",
      " Hi Sarah, I see your favorite language is C!\n",
      "Ed\n",
      "Phil\n",
      " Hi Phil, I see your favorite language is Python!\n",
      "\n",
      "\n",
      "Erin, please take our poll!\n"
     ]
    }
   ],
   "source": [
    "## Looping Through All the Keys in a Dictionary\n",
    "\n",
    "for name in fav_langs.keys():\n",
    "    print(name.title())\n",
    "    \n",
    "## Keys is actually default so this code produces the same\n",
    "\n",
    "print(\"\\n\")\n",
    "\n",
    "for name in fav_langs:\n",
    "    print(name.title())\n",
    "    \n",
    "    \n",
    "    \n",
    "## Acess teh value associated with any key you care about\n",
    "\n",
    "friends = ['phil', 'sarah']\n",
    "\n",
    "for name in fav_langs.keys():\n",
    "    print(name.title())\n",
    "    \n",
    "    if name in friends:\n",
    "        print(\" Hi \" + name.title() +\n",
    "             \", I see your favorite language is \" + \n",
    "             fav_langs[name].title() + \"!\")\n",
    "        \n",
    "print(\"\\n\")    \n",
    "        \n",
    "if 'erin' not in fav_langs.keys():\n",
    "    print(\"Erin, please take our poll!\")"
   ]
  },
  {
   "cell_type": "code",
   "execution_count": 14,
   "metadata": {},
   "outputs": [
    {
     "name": "stdout",
     "output_type": "stream",
     "text": [
      "Ed, thank you for taking the poll.\n",
      "Jen, thank you for taking the poll.\n",
      "Phil, thank you for taking the poll.\n",
      "Sarah, thank you for taking the poll.\n"
     ]
    }
   ],
   "source": [
    "### Looping Through a Dictionary's Keys in Order\n",
    "# A dictionary always maintains a clear connection between \n",
    "# each key and its associated value but you never get the items \n",
    "# in a predicable order\n",
    "\n",
    "for name in sorted(fav_langs.keys()):\n",
    "    print(name.title() + \", thank you for taking the poll.\")"
   ]
  },
  {
   "cell_type": "code",
   "execution_count": 17,
   "metadata": {},
   "outputs": [
    {
     "name": "stdout",
     "output_type": "stream",
     "text": [
      "The followign langs have been mentioned:\n",
      "Python\n",
      "C\n",
      "Ruby\n",
      "Python\n",
      "\n",
      "\n",
      "The followign langs have been mentioned:\n",
      "C\n",
      "Ruby\n",
      "Python\n"
     ]
    }
   ],
   "source": [
    "## Looping Through all Values in a Dictionary\n",
    "\n",
    "print(\"The followign langs have been mentioned:\")\n",
    "for lang in fav_langs.values():\n",
    "    print(lang.title())\n",
    "    \n",
    "print(\"\\n\")\n",
    "    \n",
    "# This time without repeats\n",
    "\n",
    "print(\"The followign langs have been mentioned:\")\n",
    "for lang in set(fav_langs.values()):\n",
    "    print(lang.title())"
   ]
  },
  {
   "cell_type": "code",
   "execution_count": 30,
   "metadata": {},
   "outputs": [
    {
     "name": "stdout",
     "output_type": "stream",
     "text": [
      "abi's fave number is: 13\n",
      "ann's fave number is: 12\n",
      "stu's fave number is: 45\n",
      "rach's fave number is: 57\n",
      "harry's fave number is: 22\n",
      "\n",
      "\n",
      "the nile runs through egypt\n",
      "the neuse runs through NC\n",
      "the hudson runs through nyc\n",
      "\n",
      "\n",
      "thank you jen for taking the poll\n",
      "thank you sarah for taking the poll\n",
      "thank you ed for taking the poll\n",
      "thank you phil for taking the poll\n",
      "PLEASE ann TAKE THE POLL NOW!\n",
      "PLEASE stu TAKE THE POLL NOW!\n"
     ]
    }
   ],
   "source": [
    "### TRY IT YOURSELF 6.4-6.6\n",
    "\n",
    "fav_num = {'abi': 13, 'ann': 12, 'stu': 45, 'rach': 57, 'harry': 22}\n",
    "\n",
    "\n",
    "for name, num in fav_num.items():\n",
    "    print(name + \"'s fave number is: \" + str(num))\n",
    "\n",
    "print(\"\\n\")\n",
    "    \n",
    "rivers = {'nile': 'egypt', 'neuse': 'NC', 'hudson': 'nyc'}\n",
    "\n",
    "for river, loc in rivers.items():\n",
    "    print(\"the \" + river + \" runs through \" + loc)\n",
    "    \n",
    "print(\"\\n\")\n",
    "    \n",
    "persons = ['jen', 'sarah', 'ed', 'phil', 'ann', 'stu']\n",
    "\n",
    "for person in persons:\n",
    "    if person in fav_langs.keys():\n",
    "        print(\"thank you \" + person + \" for taking the poll\")\n",
    "    else:\n",
    "        print(\"PLEASE \" + person + \" TAKE THE POLL NOW!\")"
   ]
  },
  {
   "cell_type": "code",
   "execution_count": 31,
   "metadata": {},
   "outputs": [],
   "source": [
    "## NESTING\n",
    "## nest a set of dicts in a list, a list inside a dict \n",
    "## or a dict in a dict\n",
    "\n"
   ]
  },
  {
   "cell_type": "code",
   "execution_count": 32,
   "metadata": {},
   "outputs": [
    {
     "name": "stdout",
     "output_type": "stream",
     "text": [
      "{'color': 'green', 'points': 5}\n",
      "{'color': 'yellow', 'points': 10}\n",
      "{'color': 'red', 'points': 15}\n"
     ]
    }
   ],
   "source": [
    "## A List of Dictionaries\n",
    "\n",
    "alien_0 = {'color': 'green', 'points': 5}\n",
    "alien_1 = {'color': 'yellow', 'points': 10}\n",
    "alien_2 = {'color': 'red', 'points': 15}\n",
    "\n",
    "aliens = [alien_0, alien_1, alien_2]\n",
    "\n",
    "for alien in aliens:\n",
    "    print(alien)"
   ]
  },
  {
   "cell_type": "code",
   "execution_count": 37,
   "metadata": {},
   "outputs": [
    {
     "name": "stdout",
     "output_type": "stream",
     "text": [
      "{'color': 'green', 'points': 5, 'speed': 'slow'}\n",
      "{'color': 'green', 'points': 5, 'speed': 'slow'}\n",
      "{'color': 'green', 'points': 5, 'speed': 'slow'}\n",
      "{'color': 'green', 'points': 5, 'speed': 'slow'}\n",
      "{'color': 'green', 'points': 5, 'speed': 'slow'}\n",
      "...\n",
      "Total number of aliens: 30\n",
      "\n",
      "\n",
      "{'color': 'yellow', 'points': '10', 'speed': 'medium'}\n",
      "{'color': 'yellow', 'points': '10', 'speed': 'medium'}\n",
      "{'color': 'yellow', 'points': '10', 'speed': 'medium'}\n",
      "{'color': 'green', 'points': 5, 'speed': 'slow'}\n",
      "{'color': 'green', 'points': 5, 'speed': 'slow'}\n"
     ]
    }
   ],
   "source": [
    "## more applicable example\n",
    "\n",
    "# make an empty list for storing aliens.\n",
    "aliens = []\n",
    "\n",
    "# make 30 green aliens.\n",
    "for alien_number in range(30):\n",
    "    new_alien = {'color': 'green', 'points': 5, 'speed': 'slow'}\n",
    "    aliens.append(new_alien)\n",
    "    \n",
    "    \n",
    "# show the first 5 aliens:\n",
    "for alien in aliens[:5]:\n",
    "    print(alien)\n",
    "print(\"...\")\n",
    "\n",
    "\n",
    "# show how many aliens have been created.\n",
    "print(\"Total number of aliens: \" + str(len(aliens)))\n",
    "\n",
    "\n",
    "## to change the first 3\n",
    "for alien in aliens[0:3]:\n",
    "    if alien['color'] == 'green':\n",
    "        alien['color'] = 'yellow'\n",
    "        alien['speed'] = 'medium'\n",
    "        alien['points'] = '10'\n",
    "    elif alien['color'] == 'yellow':\n",
    "        alien['color'] = 'red'\n",
    "        alien['speed'] = 'fast'\n",
    "        alien['points'] = 15\n",
    "        \n",
    "print(\"\\n\")\n",
    "\n",
    "for alien in aliens[:5]:\n",
    "    print(alien)"
   ]
  },
  {
   "cell_type": "code",
   "execution_count": 39,
   "metadata": {},
   "outputs": [
    {
     "name": "stdout",
     "output_type": "stream",
     "text": [
      "You ordered a thick-crust pizza with the following toppings: \n",
      "\tmushrooms\n",
      "\tx cheese\n"
     ]
    }
   ],
   "source": [
    "## A List in a Dictionary\n",
    "\n",
    "# Store info about a pizza being ordered\n",
    "pizza = {\n",
    "    'crust': 'thick',\n",
    "    'toppings': ['mushrooms', 'x cheese']\n",
    "}\n",
    "\n",
    "\n",
    "## summarize the order\n",
    "\n",
    "print(\"You ordered a \" + pizza['crust'] + \"-crust pizza \" + \n",
    "     \"with the following toppings: \")\n",
    "\n",
    "for topping in pizza['toppings']:\n",
    "    print(\"\\t\" + topping)"
   ]
  },
  {
   "cell_type": "code",
   "execution_count": 43,
   "metadata": {},
   "outputs": [
    {
     "name": "stdout",
     "output_type": "stream",
     "text": [
      "Jen's fav langs are/is: \n",
      "\tPython\n",
      "\tRuby\n",
      "Sarah's fav langs are/is: \n",
      "\tC\n",
      "Ed's fav langs are/is: \n",
      "\tRuby\n",
      "\tGo\n"
     ]
    }
   ],
   "source": [
    "## another example\n",
    "fav_langs = {\n",
    "    'jen': ['python', 'ruby'],\n",
    "    'sarah': ['c'],\n",
    "    'ed': ['ruby', 'go']\n",
    "}\n",
    "\n",
    "for name, language in fav_langs.items():\n",
    "    print(name.title() + \"'s fav langs are/is: \")\n",
    "    for lang in language:\n",
    "        print(\"\\t\" + lang.title())\n",
    "        \n",
    "## You sould not nest lists and dics too deeply if you are nesting\n",
    "# items much deeper than what you see in the preceding examples\n",
    "# there is most liekly a simpler way to solve the problem"
   ]
  },
  {
   "cell_type": "code",
   "execution_count": 46,
   "metadata": {},
   "outputs": [
    {
     "name": "stdout",
     "output_type": "stream",
     "text": [
      "\n",
      "Username: aeinstein\n",
      "\tFull name: Albert Einstein\n",
      "\tLocation: Princeton\n",
      "\n",
      "Username: mcurie\n",
      "\tFull name: Marie Curie\n",
      "\tLocation: Paris\n"
     ]
    }
   ],
   "source": [
    "## A dictionary in a dictionary\n",
    "# you can do this but your code can get\n",
    "# complicated quickly\n",
    "\n",
    "users = {\n",
    "    'aeinstein': {\n",
    "        'first': 'albert',\n",
    "        'last': 'einstein',\n",
    "        'location': 'princeton'\n",
    "        },\n",
    "    'mcurie': {\n",
    "        'first': 'marie',\n",
    "        'last': 'curie',\n",
    "        'location': 'paris'\n",
    "        },\n",
    "    }\n",
    "\n",
    "\n",
    "for username, user_info in users.items():\n",
    "    print(\"\\nUsername: \" + username)\n",
    "    full_name = user_info['first'] + \" \" + user_info['last']\n",
    "    location = user_info['location']\n",
    "    \n",
    "    print(\"\\tFull name: \" + full_name.title())\n",
    "    print(\"\\tLocation: \" + location.title())\n",
    "    \n",
    "\n"
   ]
  },
  {
   "cell_type": "code",
   "execution_count": 76,
   "metadata": {},
   "outputs": [
    {
     "name": "stdout",
     "output_type": "stream",
     "text": [
      "Nellie Rushworth is 10 years old and lives in oriental\n",
      "Elisa Rushworth is 53 years old and lives in charlotte\n",
      "\n",
      "\n",
      "nells kong abi mutt\n",
      "jenny nip rachel cat\n",
      "\n",
      "\n",
      "abi's favorite places are as follows: NYC, Oriental and  beach\n",
      "ann's favorite places are as follows: west virginia, beach and  colorado\n",
      "\n",
      "\n",
      "NYC has some interesting facts: 10000, usa big city\n",
      "burlington has some interesting facts: 15, usa small city\n",
      "charlotte has some interesting facts: 700, usa medium city\n"
     ]
    }
   ],
   "source": [
    "## TRY IT YOURSELF 6.7 - 6.12\n",
    "\n",
    "persons = {\n",
    "    'nrush':{\n",
    "        'first': 'nellie', \n",
    "        'last': 'rushworth', \n",
    "        'age': 10, \n",
    "        'city': 'oriental'\n",
    "        },\n",
    "    'erush': {\n",
    "        'first': 'Elisa',\n",
    "        'last': 'rushworth',\n",
    "        'age': 53,\n",
    "        'city': 'charlotte'\n",
    "        }\n",
    "    }\n",
    "\n",
    "for person, person_info in persons.items():\n",
    "    print(person_info['first'].title() + \" \" + person_info['last'].title() +\n",
    "          \" is \" + str(person_info['age']) + \" years old and lives in \" + person_info['city'])\n",
    "    \n",
    "    \n",
    "print(\"\\n\")  \n",
    "    \n",
    "    \n",
    "pets_dic = {'nellie' : {\n",
    "    'name': 'nells', \n",
    "    'toy': 'kong', \n",
    "    'owner': 'abi', \n",
    "    'type': 'mutt'\n",
    "    }, \n",
    "'jennie' :{\n",
    "       'name': 'jenny',\n",
    "       'toy': 'nip',\n",
    "       'owner': 'rachel',\n",
    "       'type': 'cat'\n",
    "       }\n",
    "       \n",
    "           }\n",
    "pets = ['nellie', 'jennie']\n",
    "\n",
    "\n",
    "\n",
    "if pet in pets_dic.keys():\n",
    "    for pet, pet_info in pets_dic.items():\n",
    "        print(pet_info['name'] + \" \" + pet_info['toy'] + \" \" + pet_info['owner'] + \" \" +\n",
    "              pet_info['type'])\n",
    "        \n",
    "        \n",
    "print(\"\\n\")\n",
    "\n",
    "fav_places = {'abi':{\n",
    "    'loc_1': 'NYC',\n",
    "    'loc_2': 'Oriental',\n",
    "    'loc_3': 'beach'\n",
    "        },\n",
    "              'ann': {\n",
    "      'loc_1': 'west virginia',\n",
    "      'loc_2': 'beach',\n",
    "      'loc_3': 'colorado'\n",
    "        }\n",
    "     }\n",
    "\n",
    "for person, locs in fav_places.items():\n",
    "    print(person +  \"'s favorite places are as follows: \" + locs['loc_1'] + \", \" + \n",
    "          locs['loc_2'] + \" and \", locs['loc_3'])\n",
    "    \n",
    "    \n",
    "print(\"\\n\")\n",
    "\n",
    "cities = {\n",
    "    'NYC': {\n",
    "        'pop': 10000,\n",
    "        'country': 'usa',\n",
    "        'fact': 'big city'\n",
    "        },\n",
    "    'burlington': {\n",
    "        'pop': 15,\n",
    "        'country': 'usa',\n",
    "        'fact': 'small city'\n",
    "        },\n",
    "    'charlotte': {\n",
    "        'pop': 700,\n",
    "        'country': 'usa',\n",
    "        'fact': 'medium city'\n",
    "    }\n",
    "}\n",
    "\n",
    "\n",
    "for city, stats in cities.items():\n",
    "    print(city + \" has some interesting facts: \" + str(stats['pop']) + \", \" +\n",
    "         stats['country'] + \" \" + stats['fact'])"
   ]
  },
  {
   "cell_type": "code",
   "execution_count": null,
   "metadata": {},
   "outputs": [],
   "source": []
  }
 ],
 "metadata": {
  "kernelspec": {
   "display_name": "prac",
   "language": "python",
   "name": "prac"
  },
  "language_info": {
   "codemirror_mode": {
    "name": "ipython",
    "version": 3
   },
   "file_extension": ".py",
   "mimetype": "text/x-python",
   "name": "python",
   "nbconvert_exporter": "python",
   "pygments_lexer": "ipython3",
   "version": "3.8.5"
  }
 },
 "nbformat": 4,
 "nbformat_minor": 4
}
