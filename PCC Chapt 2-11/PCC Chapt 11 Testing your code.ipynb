{
 "cells": [
  {
   "cell_type": "code",
   "execution_count": 1,
   "metadata": {},
   "outputs": [],
   "source": [
    "# when you write a class or a function you can\n",
    "# also write tests for that code\n",
    "\n",
    "# use unittest module\n",
    "\n"
   ]
  },
  {
   "cell_type": "code",
   "execution_count": 27,
   "metadata": {},
   "outputs": [],
   "source": [
    "# use this code to start learning how to test\n",
    "\n",
    "# name_function.py\n",
    "def get_formatted_name(first, last, middle=''):\n",
    "    \"\"\"Generate a neatly formatted full name.\"\"\"\n",
    "    full_name = first + \" \" + middle + \" \" + last\n",
    "    return full_name.title()"
   ]
  },
  {
   "cell_type": "code",
   "execution_count": 28,
   "metadata": {},
   "outputs": [
    {
     "name": "stdout",
     "output_type": "stream",
     "text": [
      "Enter 'q' at any time to quit.\n",
      "\n",
      "Please give me a first name: abi\n",
      "Please give me a last name: rush\n"
     ]
    },
    {
     "ename": "TypeError",
     "evalue": "get_formatted_name() got an unexpected keyword argument 'middle'",
     "output_type": "error",
     "traceback": [
      "\u001b[1;31m---------------------------------------------------------------------------\u001b[0m",
      "\u001b[1;31mTypeError\u001b[0m                                 Traceback (most recent call last)",
      "\u001b[1;32m<ipython-input-28-60a6f0d49c6b>\u001b[0m in \u001b[0;36m<module>\u001b[1;34m\u001b[0m\n\u001b[0;32m     12\u001b[0m         \u001b[1;32mbreak\u001b[0m\u001b[1;33m\u001b[0m\u001b[1;33m\u001b[0m\u001b[0m\n\u001b[0;32m     13\u001b[0m \u001b[1;33m\u001b[0m\u001b[0m\n\u001b[1;32m---> 14\u001b[1;33m     \u001b[0mformatted_name\u001b[0m \u001b[1;33m=\u001b[0m \u001b[0mget_formatted_name\u001b[0m\u001b[1;33m(\u001b[0m\u001b[0mfirst\u001b[0m\u001b[1;33m,\u001b[0m \u001b[0mlast\u001b[0m\u001b[1;33m,\u001b[0m \u001b[0mmiddle\u001b[0m \u001b[1;33m=\u001b[0m \u001b[1;34m\"\"\u001b[0m\u001b[1;33m)\u001b[0m \u001b[1;31m# imported from name_function.py\u001b[0m\u001b[1;33m\u001b[0m\u001b[1;33m\u001b[0m\u001b[0m\n\u001b[0m\u001b[0;32m     15\u001b[0m     \u001b[0mprint\u001b[0m\u001b[1;33m(\u001b[0m\u001b[1;34m\"\\tNeatly formatted name: \"\u001b[0m \u001b[1;33m+\u001b[0m \u001b[0mformatted_name\u001b[0m \u001b[1;33m+\u001b[0m \u001b[1;34m'.'\u001b[0m\u001b[1;33m)\u001b[0m\u001b[1;33m\u001b[0m\u001b[1;33m\u001b[0m\u001b[0m\n",
      "\u001b[1;31mTypeError\u001b[0m: get_formatted_name() got an unexpected keyword argument 'middle'"
     ]
    }
   ],
   "source": [
    "# names.py\n",
    "\n",
    "from name_function import get_formatted_name\n",
    "\n",
    "print(\"Enter 'q' at any time to quit.\")\n",
    "while True:\n",
    "    first = input(\"\\nPlease give me a first name: \")\n",
    "    if first == 'q':\n",
    "        break\n",
    "    last = input(\"Please give me a last name: \")\n",
    "    if last == 'q':\n",
    "        break\n",
    "        \n",
    "    formatted_name = get_formatted_name(first, last) # imported from name_function.py\n",
    "    print(\"\\tNeatly formatted name: \" + formatted_name + '.')"
   ]
  },
  {
   "cell_type": "code",
   "execution_count": 7,
   "metadata": {},
   "outputs": [],
   "source": [
    "## UNIT TESTS AND TEST CASES\n",
    "\n",
    "# module unittest from python standard library provides tools\n",
    "# for testing code. a unit test verifies that one specific aspect of\n",
    "# a function's behavior is correct. A test case is a collection of unit\n",
    "# tests that together prove that a function behaves as it's supposed to\n",
    "# a test case with full coverage includes a full range of unit tests\n",
    "# covering all the possible ways you can use a function\n",
    "# start by covering critical behaviors adn then more if the \n",
    "# project will have widespread use"
   ]
  },
  {
   "cell_type": "code",
   "execution_count": 21,
   "metadata": {},
   "outputs": [
    {
     "name": "stderr",
     "output_type": "stream",
     "text": [
      "E\n",
      "======================================================================\n",
      "ERROR: C:\\Users\\rushwora\\AppData\\Roaming\\jupyter\\runtime\\kernel-e950d629-8b83-4e63-8b00-1cee3b4cea81 (unittest.loader._FailedTest)\n",
      "----------------------------------------------------------------------\n",
      "AttributeError: module '__main__' has no attribute 'C:\\Users\\rushwora\\AppData\\Roaming\\jupyter\\runtime\\kernel-e950d629-8b83-4e63-8b00-1cee3b4cea81'\n",
      "\n",
      "----------------------------------------------------------------------\n",
      "Ran 1 test in 0.001s\n",
      "\n",
      "FAILED (errors=1)\n"
     ]
    },
    {
     "ename": "SystemExit",
     "evalue": "True",
     "output_type": "error",
     "traceback": [
      "An exception has occurred, use %tb to see the full traceback.\n",
      "\u001b[1;31mSystemExit\u001b[0m\u001b[1;31m:\u001b[0m True\n"
     ]
    },
    {
     "name": "stderr",
     "output_type": "stream",
     "text": [
      "C:\\Users\\rushwora\\.conda\\envs\\prac\\lib\\site-packages\\IPython\\core\\interactiveshell.py:3425: UserWarning: To exit: use 'exit', 'quit', or Ctrl-D.\n",
      "  warn(\"To exit: use 'exit', 'quit', or Ctrl-D.\", stacklevel=1)\n"
     ]
    }
   ],
   "source": [
    "## A PASSING TEST\n",
    "\n",
    "# they syntax is strange at first but\n",
    "# is straightforward to add more once set up\n",
    "\n",
    "# here we will test get_formatted_name\n",
    "\n",
    "\n",
    "#test_name_function.py\n",
    "import unittest\n",
    "from name_function import get_formatted_name\n",
    "\n",
    "class NamesTestCase(unittest.TestCase):\n",
    "    \"\"\"Tests for 'name_function.py'\"\"\"\n",
    "    \n",
    "    def test_first_last_name(self):\n",
    "        \"\"\"Do names like 'Janis Joplin' work?\"\"\"\n",
    "        formatted_name = get_formatted_name('janis', 'joplin')\n",
    "        self.assertEqual(formatted_name, 'Janis Joplin')\n",
    "# assert methods verify that a result you recieved matches\n",
    "# the result you expected to receive\n",
    "unittest.main()\n",
    "\n",
    "\n",
    "## IDK why this gives an error >:-("
   ]
  },
  {
   "cell_type": "code",
   "execution_count": 22,
   "metadata": {},
   "outputs": [
    {
     "name": "stderr",
     "output_type": "stream",
     "text": [
      ".\n",
      "----------------------------------------------------------------------\n",
      "Ran 1 test in 0.001s\n",
      "\n",
      "OK\n"
     ]
    }
   ],
   "source": [
    "if __name__ == '__main__':\n",
    "    unittest.main(argv=['first-arg-is-ignored'], exit=False)\n",
    "\n",
    "\n",
    "## for some reason this fixes above error, has to do with \n",
    "# this being in jupyter\n",
    "# from: https://stackoverflow.com/questions/49952317/python3-for-unit-test-attributeerror-module-main-has-no-attribute-kerne\n",
    "\n",
    "\n"
   ]
  },
  {
   "cell_type": "code",
   "execution_count": 23,
   "metadata": {},
   "outputs": [],
   "source": [
    "## A FAILING TEST\n",
    "\n",
    "## Add a middle name to name_function.py\n",
    "# and re run the above\n",
    "# still works but shouldn't? should give a missing positional argument error\n",
    "# if it didn't work like it shouldn't you could fix that by making it\n",
    "# (fist, last, middle=\"\")\n",
    "\n"
   ]
  },
  {
   "cell_type": "code",
   "execution_count": 25,
   "metadata": {},
   "outputs": [
    {
     "name": "stderr",
     "output_type": "stream",
     "text": [
      "E\n",
      "======================================================================\n",
      "ERROR: C:\\Users\\rushwora\\AppData\\Roaming\\jupyter\\runtime\\kernel-e950d629-8b83-4e63-8b00-1cee3b4cea81 (unittest.loader._FailedTest)\n",
      "----------------------------------------------------------------------\n",
      "AttributeError: module '__main__' has no attribute 'C:\\Users\\rushwora\\AppData\\Roaming\\jupyter\\runtime\\kernel-e950d629-8b83-4e63-8b00-1cee3b4cea81'\n",
      "\n",
      "----------------------------------------------------------------------\n",
      "Ran 1 test in 0.001s\n",
      "\n",
      "FAILED (errors=1)\n"
     ]
    },
    {
     "ename": "SystemExit",
     "evalue": "True",
     "output_type": "error",
     "traceback": [
      "An exception has occurred, use %tb to see the full traceback.\n",
      "\u001b[1;31mSystemExit\u001b[0m\u001b[1;31m:\u001b[0m True\n"
     ]
    },
    {
     "name": "stderr",
     "output_type": "stream",
     "text": [
      "C:\\Users\\rushwora\\.conda\\envs\\prac\\lib\\site-packages\\IPython\\core\\interactiveshell.py:3425: UserWarning: To exit: use 'exit', 'quit', or Ctrl-D.\n",
      "  warn(\"To exit: use 'exit', 'quit', or Ctrl-D.\", stacklevel=1)\n"
     ]
    }
   ],
   "source": [
    "## ADDING NEW TESTS\n",
    "\n",
    "# test for middle names\n",
    "# add to the class NamesTestCase\n",
    "\n",
    "import unittest\n",
    "from name_function import get_formatted_name\n",
    "\n",
    "class NamesTestCase(unittest.TestCase):\n",
    "    \"\"\"Tests for 'name_function.py'\"\"\"\n",
    "    \n",
    "    def test_first_last_name(self):\n",
    "        \"\"\"Do names like 'Janis Joplin' work?\"\"\"\n",
    "        formatted_name = get_formatted_name('janis', 'joplin')\n",
    "        self.assertEqual(formatted_name, 'Janis Joplin')\n",
    "# assert methods verify that a result you recieved matches\n",
    "# the result you expected to receive\n",
    "\n",
    "    def test_first_last_middle_name(self):\n",
    "        \"\"\"Do names like 'Wolfgang Amadeus Mozart work?'\"\"\"\n",
    "        formatted_name = get_formatted_name(\n",
    "        'wolfgang', 'mozart', 'amadeus')\n",
    "        self.assertEqual(formatted_name, 'Wolfgang Amadeus Mozart')\n",
    "unittest.main()\n"
   ]
  },
  {
   "cell_type": "code",
   "execution_count": 26,
   "metadata": {},
   "outputs": [
    {
     "name": "stderr",
     "output_type": "stream",
     "text": [
      "E.\n",
      "======================================================================\n",
      "ERROR: test_first_last_middle_name (__main__.NamesTestCase)\n",
      "Do names like 'Wolfgang Amadeus Mozart work?'\n",
      "----------------------------------------------------------------------\n",
      "Traceback (most recent call last):\n",
      "  File \"<ipython-input-25-62107b318974>\", line 21, in test_first_last_middle_name\n",
      "    formatted_name = get_formatted_name(\n",
      "TypeError: get_formatted_name() takes 2 positional arguments but 3 were given\n",
      "\n",
      "----------------------------------------------------------------------\n",
      "Ran 2 tests in 0.002s\n",
      "\n",
      "FAILED (errors=1)\n"
     ]
    }
   ],
   "source": [
    "if __name__ == '__main__':\n",
    "    unittest.main(argv=['first-arg-is-ignored'], exit=False)\n",
    "\n",
    "    # again something wrong think it has to do with updating code above \n",
    "    # to have middle name in there"
   ]
  },
  {
   "cell_type": "code",
   "execution_count": 34,
   "metadata": {},
   "outputs": [
    {
     "ename": "NameError",
     "evalue": "name 'self' is not defined",
     "output_type": "error",
     "traceback": [
      "\u001b[1;31m---------------------------------------------------------------------------\u001b[0m",
      "\u001b[1;31mNameError\u001b[0m                                 Traceback (most recent call last)",
      "\u001b[1;32m<ipython-input-34-ba5d1f679ec5>\u001b[0m in \u001b[0;36m<module>\u001b[1;34m\u001b[0m\n\u001b[0;32m     11\u001b[0m \u001b[1;31m#from city_functions import city_country\u001b[0m\u001b[1;33m\u001b[0m\u001b[1;33m\u001b[0m\u001b[1;33m\u001b[0m\u001b[0m\n\u001b[0;32m     12\u001b[0m \u001b[1;33m\u001b[0m\u001b[0m\n\u001b[1;32m---> 13\u001b[1;33m \u001b[1;32mclass\u001b[0m \u001b[0mCitiesTestCase\u001b[0m\u001b[1;33m(\u001b[0m\u001b[0munittest\u001b[0m\u001b[1;33m.\u001b[0m\u001b[0mTestCase\u001b[0m\u001b[1;33m)\u001b[0m\u001b[1;33m:\u001b[0m\u001b[1;33m\u001b[0m\u001b[1;33m\u001b[0m\u001b[0m\n\u001b[0m\u001b[0;32m     14\u001b[0m     \u001b[1;34m\"\"\"Tests for 'city_functions.py\"\"\"\u001b[0m\u001b[1;33m\u001b[0m\u001b[1;33m\u001b[0m\u001b[0m\n\u001b[0;32m     15\u001b[0m     \u001b[0msantiago_chile\u001b[0m \u001b[1;33m=\u001b[0m \u001b[0mcity_country\u001b[0m\u001b[1;33m(\u001b[0m\u001b[1;34m'santiago'\u001b[0m\u001b[1;33m,\u001b[0m \u001b[1;34m'chile'\u001b[0m\u001b[1;33m)\u001b[0m\u001b[1;33m\u001b[0m\u001b[1;33m\u001b[0m\u001b[0m\n",
      "\u001b[1;32m<ipython-input-34-ba5d1f679ec5>\u001b[0m in \u001b[0;36mCitiesTestCase\u001b[1;34m()\u001b[0m\n\u001b[0;32m     14\u001b[0m     \u001b[1;34m\"\"\"Tests for 'city_functions.py\"\"\"\u001b[0m\u001b[1;33m\u001b[0m\u001b[1;33m\u001b[0m\u001b[0m\n\u001b[0;32m     15\u001b[0m     \u001b[0msantiago_chile\u001b[0m \u001b[1;33m=\u001b[0m \u001b[0mcity_country\u001b[0m\u001b[1;33m(\u001b[0m\u001b[1;34m'santiago'\u001b[0m\u001b[1;33m,\u001b[0m \u001b[1;34m'chile'\u001b[0m\u001b[1;33m)\u001b[0m\u001b[1;33m\u001b[0m\u001b[1;33m\u001b[0m\u001b[0m\n\u001b[1;32m---> 16\u001b[1;33m     \u001b[0mself\u001b[0m\u001b[1;33m.\u001b[0m\u001b[0massertEqual\u001b[0m\u001b[1;33m(\u001b[0m\u001b[0msantiago_chile\u001b[0m\u001b[1;33m,\u001b[0m \u001b[1;34m'Santiago Chile'\u001b[0m\u001b[1;33m)\u001b[0m\u001b[1;33m\u001b[0m\u001b[1;33m\u001b[0m\u001b[0m\n\u001b[0m\u001b[0;32m     17\u001b[0m \u001b[1;33m\u001b[0m\u001b[0m\n\u001b[0;32m     18\u001b[0m \u001b[0munittest\u001b[0m\u001b[1;33m.\u001b[0m\u001b[0mmain\u001b[0m\u001b[1;33m(\u001b[0m\u001b[1;33m)\u001b[0m\u001b[1;33m\u001b[0m\u001b[1;33m\u001b[0m\u001b[0m\n",
      "\u001b[1;31mNameError\u001b[0m: name 'self' is not defined"
     ]
    }
   ],
   "source": [
    "## TRY IT YOURSELF 11.1 - 11.2 \n",
    "\n",
    "def city_country(city, country):\n",
    "    \"\"\"Return a string like Santiago, Chile\"\"\"\n",
    "    return(city.title() + \" \" + country.title())\n",
    "\n",
    "\n",
    "\n",
    "import unittest\n",
    "\n",
    "#from city_functions import city_country\n",
    "\n",
    "class CitiesTestCase(unittest.TestCase):\n",
    "    \"\"\"Tests for 'city_functions.py\"\"\"\n",
    "    santiago_chile = city_country('santiago', 'chile')\n",
    "    self.assertEqual(santiago_chile, 'Santiago Chile')\n",
    "    \n",
    "unittest.main()\n",
    "\n",
    "\n",
    "### again doesn't work idk why???"
   ]
  },
  {
   "cell_type": "code",
   "execution_count": 35,
   "metadata": {},
   "outputs": [],
   "source": [
    "#######################################\n",
    "\n",
    "\n",
    "# won't be able to get this to work if my other one didn't work \n",
    "# but I'll try none the less\n",
    "\n",
    "def city_country(city, country, population = 0):\n",
    "    \"\"\"Return a string representign a city-country pair\"\"\"\n",
    "    \n",
    "    output_string = city.title() + \", \" + country.title()\n",
    "    if population:\n",
    "        output_string += ' - population ' + str(population)\n",
    "    return output_string\n"
   ]
  },
  {
   "cell_type": "code",
   "execution_count": 37,
   "metadata": {},
   "outputs": [
    {
     "name": "stderr",
     "output_type": "stream",
     "text": [
      "E\n",
      "======================================================================\n",
      "ERROR: C:\\Users\\rushwora\\AppData\\Roaming\\jupyter\\runtime\\kernel-e950d629-8b83-4e63-8b00-1cee3b4cea81 (unittest.loader._FailedTest)\n",
      "----------------------------------------------------------------------\n",
      "AttributeError: module '__main__' has no attribute 'C:\\Users\\rushwora\\AppData\\Roaming\\jupyter\\runtime\\kernel-e950d629-8b83-4e63-8b00-1cee3b4cea81'\n",
      "\n",
      "----------------------------------------------------------------------\n",
      "Ran 1 test in 0.001s\n",
      "\n",
      "FAILED (errors=1)\n"
     ]
    },
    {
     "ename": "SystemExit",
     "evalue": "True",
     "output_type": "error",
     "traceback": [
      "An exception has occurred, use %tb to see the full traceback.\n",
      "\u001b[1;31mSystemExit\u001b[0m\u001b[1;31m:\u001b[0m True\n"
     ]
    },
    {
     "name": "stderr",
     "output_type": "stream",
     "text": [
      "C:\\Users\\rushwora\\.conda\\envs\\prac\\lib\\site-packages\\IPython\\core\\interactiveshell.py:3425: UserWarning: To exit: use 'exit', 'quit', or Ctrl-D.\n",
      "  warn(\"To exit: use 'exit', 'quit', or Ctrl-D.\", stacklevel=1)\n"
     ]
    }
   ],
   "source": [
    "import unittest\n",
    "\n",
    "# from city_functions import city_country\n",
    "\n",
    "class CitiesTestCase(unittest.TestCase):\n",
    "    \"\"\"Tests for 'city_functions.py'\"\"\"\n",
    "    \n",
    "    def tets_city_country(self):\n",
    "        \"\"\"Does a simple city and country pair work?\"\"\"\n",
    "        santiago_chile = city_country('santiago', 'chile')\n",
    "        self.assertEqual(santiago_chile, 'Santiago, Chile')\n",
    "        \n",
    "    def test_city_country_population(self):\n",
    "        \"\"\"Can I include a population argument?\"\"\"\n",
    "        santiago_chile = city_country('santiago', 'chile', population=5000000)\n",
    "        self.assertEqual(santiago_chile, 'Santiago, Chile - population 5000000')\n",
    "        \n",
    "unittest.main()"
   ]
  },
  {
   "cell_type": "code",
   "execution_count": 38,
   "metadata": {},
   "outputs": [
    {
     "name": "stderr",
     "output_type": "stream",
     "text": [
      ".E.\n",
      "======================================================================\n",
      "ERROR: test_first_last_middle_name (__main__.NamesTestCase)\n",
      "Do names like 'Wolfgang Amadeus Mozart work?'\n",
      "----------------------------------------------------------------------\n",
      "Traceback (most recent call last):\n",
      "  File \"<ipython-input-25-62107b318974>\", line 21, in test_first_last_middle_name\n",
      "    formatted_name = get_formatted_name(\n",
      "TypeError: get_formatted_name() takes 2 positional arguments but 3 were given\n",
      "\n",
      "----------------------------------------------------------------------\n",
      "Ran 3 tests in 0.002s\n",
      "\n",
      "FAILED (errors=1)\n"
     ]
    }
   ],
   "source": [
    "if __name__ == '__main__':\n",
    "    unittest.main(argv=['first-arg-is-ignored'], exit=False)"
   ]
  },
  {
   "cell_type": "code",
   "execution_count": 39,
   "metadata": {},
   "outputs": [],
   "source": [
    "## TESTING A CLASS\n",
    "\n",
    "# in first part of chapter we tested a single function\n",
    "# now lets test a class"
   ]
  },
  {
   "cell_type": "code",
   "execution_count": 40,
   "metadata": {},
   "outputs": [],
   "source": [
    "##  A VARIETY OF ASSERT METHODS\n",
    "\n",
    "# assertEqual(a, b)                verify that a == b\n",
    "# assertNotEqual(a, b)             verify that a != b\n",
    "# assertTrue(x)\n",
    "# assertFalse(x)\n",
    "# assertIn(item, list)\n",
    "# assertNotIn(item, list)\n",
    "\n"
   ]
  },
  {
   "cell_type": "code",
   "execution_count": 42,
   "metadata": {},
   "outputs": [
    {
     "ename": "NameError",
     "evalue": "name 'question' is not defined",
     "output_type": "error",
     "traceback": [
      "\u001b[1;31m---------------------------------------------------------------------------\u001b[0m",
      "\u001b[1;31mNameError\u001b[0m                                 Traceback (most recent call last)",
      "\u001b[1;32m<ipython-input-42-04a9420379b0>\u001b[0m in \u001b[0;36m<module>\u001b[1;34m\u001b[0m\n\u001b[0;32m     28\u001b[0m \u001b[1;31m# define a question, and make a survey\u001b[0m\u001b[1;33m\u001b[0m\u001b[1;33m\u001b[0m\u001b[1;33m\u001b[0m\u001b[0m\n\u001b[0;32m     29\u001b[0m \u001b[0mquetion\u001b[0m \u001b[1;33m=\u001b[0m \u001b[1;34m\"what lang did you first learn to speak?\"\u001b[0m\u001b[1;33m\u001b[0m\u001b[1;33m\u001b[0m\u001b[0m\n\u001b[1;32m---> 30\u001b[1;33m \u001b[0mmy_survey\u001b[0m \u001b[1;33m=\u001b[0m \u001b[0mAnonymousSurvey\u001b[0m\u001b[1;33m(\u001b[0m\u001b[0mquestion\u001b[0m\u001b[1;33m)\u001b[0m\u001b[1;33m\u001b[0m\u001b[1;33m\u001b[0m\u001b[0m\n\u001b[0m\u001b[0;32m     31\u001b[0m \u001b[1;33m\u001b[0m\u001b[0m\n\u001b[0;32m     32\u001b[0m \u001b[1;31m# show the question, and store responses to the question\u001b[0m\u001b[1;33m\u001b[0m\u001b[1;33m\u001b[0m\u001b[1;33m\u001b[0m\u001b[0m\n",
      "\u001b[1;31mNameError\u001b[0m: name 'question' is not defined"
     ]
    }
   ],
   "source": [
    "## A CLASS TO TEST\n",
    "\n",
    "class AnonymousSurvey():\n",
    "    \"\"\"Collect anonymous answers to a survey question.\"\"\"\n",
    "    \n",
    "    def __init__(self, question):\n",
    "        \"\"\"Store a question and prepare to store responses\"\"\"\n",
    "        self.question = question\n",
    "        self.responses = []\n",
    "        \n",
    "    def show_question(self):\n",
    "        \"\"\"Show the survey question.\"\"\"\n",
    "        print(question)\n",
    "        \n",
    "    def store_response(self, new_response):\n",
    "        \"\"\"Store a single response to the survey\"\"\"\n",
    "        self.responses.append(new_response)\n",
    "        \n",
    "    def show_results(self):\n",
    "        \"\"\" show all the responses that have been given\"\"\"\n",
    "        print(\"survey results: \")\n",
    "        for response in responses:\n",
    "            print('- ' + response)\n",
    "            \n",
    "            \n",
    "            \n",
    "            \n",
    "# define a question, and make a survey\n",
    "quetion = \"what lang did you first learn to speak?\"\n",
    "my_survey = AnonymousSurvey(question)\n",
    "\n",
    "# show the question, and store responses to the question\n",
    "my_survey.show_question()\n",
    "print(\"Enter 'q' at any time to quit.\\n\")\n",
    "while True:\n",
    "    response = input(\"Language: \")\n",
    "    if response == 'q':\n",
    "        break\n",
    "    my_survey.store_responses(response)\n",
    "    \n",
    "    \n",
    "# Show the survey results.\n",
    "print(\"\\nThank you to everyone who participated in teh survey!\")\n",
    "my_survey.show_results()\n",
    "    \n",
    "    \n",
    "    \n",
    "    \n",
    "# this chapter is doing my head in\n",
    "# I COPY AND IT DOESN'T WORK?"
   ]
  },
  {
   "cell_type": "code",
   "execution_count": 43,
   "metadata": {},
   "outputs": [
    {
     "name": "stderr",
     "output_type": "stream",
     "text": [
      "E\n",
      "======================================================================\n",
      "ERROR: C:\\Users\\rushwora\\AppData\\Roaming\\jupyter\\runtime\\kernel-e950d629-8b83-4e63-8b00-1cee3b4cea81 (unittest.loader._FailedTest)\n",
      "----------------------------------------------------------------------\n",
      "AttributeError: module '__main__' has no attribute 'C:\\Users\\rushwora\\AppData\\Roaming\\jupyter\\runtime\\kernel-e950d629-8b83-4e63-8b00-1cee3b4cea81'\n",
      "\n",
      "----------------------------------------------------------------------\n",
      "Ran 1 test in 0.001s\n",
      "\n",
      "FAILED (errors=1)\n"
     ]
    },
    {
     "ename": "SystemExit",
     "evalue": "True",
     "output_type": "error",
     "traceback": [
      "An exception has occurred, use %tb to see the full traceback.\n",
      "\u001b[1;31mSystemExit\u001b[0m\u001b[1;31m:\u001b[0m True\n"
     ]
    },
    {
     "name": "stderr",
     "output_type": "stream",
     "text": [
      "C:\\Users\\rushwora\\.conda\\envs\\prac\\lib\\site-packages\\IPython\\core\\interactiveshell.py:3425: UserWarning: To exit: use 'exit', 'quit', or Ctrl-D.\n",
      "  warn(\"To exit: use 'exit', 'quit', or Ctrl-D.\", stacklevel=1)\n"
     ]
    }
   ],
   "source": [
    "## TESTING THE ANONYMOUS SURVEY CLASS\n",
    "\n",
    "import unittest\n",
    "# from survey import AnonymousSurvey\n",
    "\n",
    "class TestAnonymousSurvey(unittest.TestCase):\n",
    "    \"\"\"Tests for the class AnonymousSurvey\"\"\"\n",
    "    \n",
    "    def test_store_single_response(self):\n",
    "        \"\"\"Test that a single reponse is stored properly\"\"\"\n",
    "        question = \"What language did you first learn to speak?\"\n",
    "        my_survey = anonymousSurvey(question)\n",
    "        my_survey.store_response('English')\n",
    "        \n",
    "        self.assertIn(\"English\", my_survey.responses)\n",
    "        \n",
    "        def test_store_three_responses(self):\n",
    "            \"\"\"Test that three individual responses are stored properly.\"\"\"\n",
    "            question = \"What language di dyou first learn to speak?\"\n",
    "            my_survey = AnonymousSurvey(question)\n",
    "            response = ['english', 'spanish', ' mandarin']\n",
    "            for response in responses:\n",
    "                my_survey.store_response(response)\n",
    "                \n",
    "            for response in responses:\n",
    "                self.assertIn(response, my_survey.responses)\n",
    "        \n",
    "unittest.main()"
   ]
  },
  {
   "cell_type": "code",
   "execution_count": 44,
   "metadata": {},
   "outputs": [
    {
     "ename": "ModuleNotFoundError",
     "evalue": "No module named 'survey'",
     "output_type": "error",
     "traceback": [
      "\u001b[1;31m---------------------------------------------------------------------------\u001b[0m",
      "\u001b[1;31mModuleNotFoundError\u001b[0m                       Traceback (most recent call last)",
      "\u001b[1;32m<ipython-input-44-09a588bd5eb1>\u001b[0m in \u001b[0;36m<module>\u001b[1;34m\u001b[0m\n\u001b[0;32m      8\u001b[0m \u001b[1;33m\u001b[0m\u001b[0m\n\u001b[0;32m      9\u001b[0m \u001b[1;32mimport\u001b[0m \u001b[0munittest\u001b[0m\u001b[1;33m\u001b[0m\u001b[1;33m\u001b[0m\u001b[0m\n\u001b[1;32m---> 10\u001b[1;33m \u001b[1;32mfrom\u001b[0m \u001b[0msurvey\u001b[0m \u001b[1;32mimport\u001b[0m \u001b[0mAnonymousSurvey\u001b[0m\u001b[1;33m\u001b[0m\u001b[1;33m\u001b[0m\u001b[0m\n\u001b[0m\u001b[0;32m     11\u001b[0m \u001b[1;33m\u001b[0m\u001b[0m\n\u001b[0;32m     12\u001b[0m \u001b[1;32mclass\u001b[0m \u001b[0mTestAnonymousSurvey\u001b[0m\u001b[1;33m(\u001b[0m\u001b[0munittest\u001b[0m\u001b[1;33m.\u001b[0m\u001b[0mTestCase\u001b[0m\u001b[1;33m)\u001b[0m\u001b[1;33m:\u001b[0m\u001b[1;33m\u001b[0m\u001b[1;33m\u001b[0m\u001b[0m\n",
      "\u001b[1;31mModuleNotFoundError\u001b[0m: No module named 'survey'"
     ]
    }
   ],
   "source": [
    "## THE SETUP() METHOD\n",
    "\n",
    "# TestCase class has a setUp() method that allows you to create \n",
    "# these objects once and then use them in each of your test \n",
    "# methods. When you include a setUp method in a TestCase class\n",
    "# python runs the setUp() method before running each mehtod starting with test_.\n",
    "# any objects create din teh setUp() method are then available in each test method you write\n",
    "\n",
    "import unittest\n",
    "from survey import AnonymousSurvey\n",
    "\n",
    "class TestAnonymousSurvey(unittest.TestCase):\n",
    "    \"\"\"Test for the class AnonymousSurvey.\"\"\"\n",
    "    \n",
    "    def setUp(self):\n",
    "        \"\"\"\n",
    "        Create a survey and a set of responses for use in all test methods.\n",
    "        \"\"\"\n",
    "        question = \"What language did you first learn to speak?\"\n",
    "        self.may_survey = AnonymousSurvey(question)\n",
    "        self.responses = ['English', 'Spanish', 'Mandarin']\n",
    "        \n",
    "        \n",
    "    def test_store_single_response(self):\n",
    "        \"\"\"Test that a single response is stored properly.\"\"\"\n",
    "        self.my_survey.store_response(self.responses[0])\n",
    "        self.assertIn(self.responses[0], self.my_survey.responses)\n",
    "        \n",
    "    def test_store_three_responses(self):\n",
    "        \"\"\"Test that three individual responses are stored properly.\"\"\"\n",
    "        for response in self.responses:\n",
    "            self.my_survey.store_response(response)\n",
    "        for response in self.responses:\n",
    "            self.assertIn(response, self.my_survey.responses)\n",
    "\n",
    "unittest.main()"
   ]
  },
  {
   "cell_type": "code",
   "execution_count": 45,
   "metadata": {},
   "outputs": [
    {
     "ename": "ModuleNotFoundError",
     "evalue": "No module named 'employee'",
     "output_type": "error",
     "traceback": [
      "\u001b[1;31m---------------------------------------------------------------------------\u001b[0m",
      "\u001b[1;31mModuleNotFoundError\u001b[0m                       Traceback (most recent call last)",
      "\u001b[1;32m<ipython-input-45-d65c5557f08c>\u001b[0m in \u001b[0;36m<module>\u001b[1;34m\u001b[0m\n\u001b[0;32m     17\u001b[0m \u001b[1;32mimport\u001b[0m \u001b[0munittest\u001b[0m\u001b[1;33m\u001b[0m\u001b[1;33m\u001b[0m\u001b[0m\n\u001b[0;32m     18\u001b[0m \u001b[1;33m\u001b[0m\u001b[0m\n\u001b[1;32m---> 19\u001b[1;33m \u001b[1;32mfrom\u001b[0m \u001b[0memployee\u001b[0m \u001b[1;32mimport\u001b[0m \u001b[0mEmployee\u001b[0m\u001b[1;33m\u001b[0m\u001b[1;33m\u001b[0m\u001b[0m\n\u001b[0m\u001b[0;32m     20\u001b[0m \u001b[1;33m\u001b[0m\u001b[0m\n\u001b[0;32m     21\u001b[0m \u001b[1;32mclass\u001b[0m \u001b[0mTestEmployee\u001b[0m\u001b[1;33m(\u001b[0m\u001b[0munittest\u001b[0m\u001b[1;33m.\u001b[0m\u001b[0mTestCase\u001b[0m\u001b[1;33m)\u001b[0m\u001b[1;33m:\u001b[0m\u001b[1;33m\u001b[0m\u001b[1;33m\u001b[0m\u001b[0m\n",
      "\u001b[1;31mModuleNotFoundError\u001b[0m: No module named 'employee'"
     ]
    }
   ],
   "source": [
    "## TRY IT YOURSELF 11.3\n",
    "\n",
    "class Employee():\n",
    "    \"\"\"A class to represent an employee.\"\"\"\n",
    "    \n",
    "    def __init__(self, f_name, l_name, salary):\n",
    "        \"\"\"Initialize the employee.\"\"\"\n",
    "        self.first = f_name.title()\n",
    "        self.last = l_name.title()\n",
    "        slef.salary = salary\n",
    "        \n",
    "    def give_raise(self, amount=5000):\n",
    "        \"\"\"Give the employee a raise.\"\"\"\n",
    "        self.salary += amount\n",
    "        \n",
    "        \n",
    "import unittest\n",
    "\n",
    "from employee import Employee\n",
    "\n",
    "class TestEmployee(unittest.TestCase):\n",
    "    \"\"\"Tests for the module employee.\"\"\"\n",
    "    \n",
    "    def setUp(self):\n",
    "        \"\"\"Make an epmployee to use in tests.\"\"\"\n",
    "        self.eric = Employee('eric', 'matthes', 65000)\n",
    "        \n",
    "        \n",
    "    def test_give_default_raise(self):\n",
    "        \"\"\"Test that a default raise works correctly.\"\"\"\n",
    "        self.eric.give_raise()\n",
    "        self.assertEqual(self.eric.salary, 70000)\n",
    "        \n",
    "    def test_give_custom_raise(self):\n",
    "        \"\"\"Test that a custom raise works correctly.\"\"\"\n",
    "        self.eric.give_raise(10000)\n",
    "        self.assertEqual(self.eric.salary, 75000)\n",
    "        \n",
    "unittest.main()\n",
    "\n"
   ]
  },
  {
   "cell_type": "code",
   "execution_count": null,
   "metadata": {},
   "outputs": [],
   "source": []
  }
 ],
 "metadata": {
  "kernelspec": {
   "display_name": "prac",
   "language": "python",
   "name": "prac"
  },
  "language_info": {
   "codemirror_mode": {
    "name": "ipython",
    "version": 3
   },
   "file_extension": ".py",
   "mimetype": "text/x-python",
   "name": "python",
   "nbconvert_exporter": "python",
   "pygments_lexer": "ipython3",
   "version": "3.8.5"
  }
 },
 "nbformat": 4,
 "nbformat_minor": 4
}
