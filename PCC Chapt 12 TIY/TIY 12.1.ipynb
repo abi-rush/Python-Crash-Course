{
 "cells": [
  {
   "cell_type": "code",
   "execution_count": 13,
   "metadata": {},
   "outputs": [
    {
     "ename": "ImportError",
     "evalue": "cannot import name 'MountSettings' from 'settings_mount' (C:\\Users\\rushwora\\Python Crash Course (Eric Matthes)\\PCC Chapt 12 TIY\\settings_mount.py)",
     "output_type": "error",
     "traceback": [
      "\u001b[1;31m---------------------------------------------------------------------------\u001b[0m",
      "\u001b[1;31mImportError\u001b[0m                               Traceback (most recent call last)",
      "\u001b[1;32m<ipython-input-13-9904f5f757a4>\u001b[0m in \u001b[0;36m<module>\u001b[1;34m\u001b[0m\n\u001b[0;32m      2\u001b[0m \u001b[1;33m\u001b[0m\u001b[0m\n\u001b[0;32m      3\u001b[0m \u001b[1;32mimport\u001b[0m \u001b[0mpygame\u001b[0m\u001b[1;33m\u001b[0m\u001b[1;33m\u001b[0m\u001b[0m\n\u001b[1;32m----> 4\u001b[1;33m \u001b[1;32mfrom\u001b[0m \u001b[0msettings_mount\u001b[0m \u001b[1;32mimport\u001b[0m \u001b[0mMountSettings\u001b[0m\u001b[1;33m\u001b[0m\u001b[1;33m\u001b[0m\u001b[0m\n\u001b[0m\u001b[0;32m      5\u001b[0m \u001b[1;32mfrom\u001b[0m \u001b[0mmountains\u001b[0m \u001b[1;32mimport\u001b[0m \u001b[0mMountain\u001b[0m\u001b[1;33m\u001b[0m\u001b[1;33m\u001b[0m\u001b[0m\n\u001b[0;32m      6\u001b[0m \u001b[1;32mimport\u001b[0m \u001b[0mmount_functions\u001b[0m \u001b[1;32mas\u001b[0m \u001b[0mmf\u001b[0m\u001b[1;33m\u001b[0m\u001b[1;33m\u001b[0m\u001b[0m\n",
      "\u001b[1;31mImportError\u001b[0m: cannot import name 'MountSettings' from 'settings_mount' (C:\\Users\\rushwora\\Python Crash Course (Eric Matthes)\\PCC Chapt 12 TIY\\settings_mount.py)"
     ]
    }
   ],
   "source": [
    "## i can't get it to wok but i just have to move on at this point\n",
    "import sys\n",
    "\n",
    "import pygame\n",
    "from settings_mount import MountSettings\n",
    "from mountains import Mountain\n",
    "import mount_functions as mf\n",
    "\n",
    "\n",
    "def run_game():\n",
    "    \"\"\"Initialize game settings\"\"\"\n",
    "    pygame.init()\n",
    "    Mountsettings = Settings()\n",
    "    screen = pygame.display.set_mode((mount_settings.screen_height, mount_settings.screen_width))\n",
    "    pygame.display.set_caption(\"Try It Yourself 12.1\")\n",
    "    \n",
    "    \n",
    "    # make a mountain\n",
    "    mountain = Mountain(screen)\n",
    "    \n",
    "    while True:\n",
    "        mf.check_events()\n",
    "        mf.update_screen(mount_settings, screen, mountain)\n",
    "\n",
    "        \n",
    "run_game()"
   ]
  },
  {
   "cell_type": "code",
   "execution_count": null,
   "metadata": {},
   "outputs": [],
   "source": []
  },
  {
   "cell_type": "code",
   "execution_count": null,
   "metadata": {},
   "outputs": [],
   "source": []
  }
 ],
 "metadata": {
  "kernelspec": {
   "display_name": "prac",
   "language": "python",
   "name": "prac"
  },
  "language_info": {
   "codemirror_mode": {
    "name": "ipython",
    "version": 3
   },
   "file_extension": ".py",
   "mimetype": "text/x-python",
   "name": "python",
   "nbconvert_exporter": "python",
   "pygments_lexer": "ipython3",
   "version": "3.8.5"
  }
 },
 "nbformat": 4,
 "nbformat_minor": 4
}
